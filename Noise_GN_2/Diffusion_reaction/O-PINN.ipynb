{
 "cells": [
  {
   "cell_type": "code",
   "execution_count": null,
   "id": "fe6fc0cc",
   "metadata": {
    "ExecuteTime": {
     "end_time": "2024-11-05T14:01:51.156639Z",
     "start_time": "2024-11-05T14:01:49.722245Z"
    }
   },
   "outputs": [],
   "source": [
    "import numpy as np\n",
    "import torch\n",
    "from torch import nn, optim, autograd\n",
    "from torch.nn import functional as F\n",
    "from pyDOE import lhs\n",
    "import scipy.io\n",
    "import matplotlib.pyplot as plt\n",
    "import matplotlib as mpl\n",
    "import matplotlib.gridspec as gridspec\n",
    "%matplotlib inline\n",
    "from mpl_toolkits.axes_grid1 import make_axes_locatable\n",
    "\n",
    "from utils_training import *\n",
    "\n",
    "#Paper reproduction\n",
    "torch.manual_seed(1234)\n",
    "torch.cuda.manual_seed(1234)\n",
    "np.random.seed(1234)"
   ]
  },
  {
   "cell_type": "code",
   "execution_count": null,
   "id": "4f0d62eb",
   "metadata": {
    "ExecuteTime": {
     "end_time": "2024-11-05T14:01:54.839457Z",
     "start_time": "2024-11-05T14:01:51.159633Z"
    },
    "cell_style": "center"
   },
   "outputs": [],
   "source": [
    "N_train = 1000\n",
    "N_bound = 200\n",
    "\n",
    "# x,t\n",
    "la = np.array([1,1])\n",
    "lb = np.array([-1,0])\n",
    "\n",
    "traindata = lb+(la-lb)*lhs(2,N_train)\n",
    "\n",
    "x_inside = traindata[:,0:1]\n",
    "t_inside = traindata[:,1:2]\n",
    "\n",
    "x_inside = numpy_to_tensor(x_inside, var_name=\"x_inside\", value_range_dim = True, to_torch = True, to_cuda = True, requires_grad = True)\n",
    "t_inside = numpy_to_tensor(t_inside, var_name=\"t_inside\", value_range_dim = True, to_torch = True, to_cuda = True, requires_grad = True)\n",
    "\n",
    "x_bound = lb[0]+(la[0]-lb[0])*lhs(1,N_bound)\n",
    "t_bound = lb[1]+(la[1]-lb[1])*lhs(1,N_bound)\n",
    "\n",
    "x_bound = numpy_to_tensor(x_bound, var_name=\"x_bound\", value_range_dim = True, to_torch = True, to_cuda = True, requires_grad = False)\n",
    "t_bound = numpy_to_tensor(t_bound, var_name=\"t_bound\", value_range_dim = True, to_torch = True, to_cuda = True, requires_grad = False)"
   ]
  },
  {
   "cell_type": "code",
   "execution_count": null,
   "id": "00bb6cfa",
   "metadata": {
    "ExecuteTime": {
     "end_time": "2024-11-05T14:01:54.852120Z",
     "start_time": "2024-11-05T14:01:54.845842Z"
    },
    "cell_style": "center"
   },
   "outputs": [],
   "source": [
    "def exact_func(x_input):\n",
    "    x_value = x_input[:, 0:1]\n",
    "    t_value = x_input[:, 1:2]\n",
    "    \n",
    "    return  np.exp(-t_value) * np.sin(np.pi * x_value)"
   ]
  },
  {
   "cell_type": "code",
   "execution_count": null,
   "id": "fbd93e8e",
   "metadata": {
    "ExecuteTime": {
     "end_time": "2024-11-05T14:01:55.046325Z",
     "start_time": "2024-11-05T14:01:54.854576Z"
    }
   },
   "outputs": [],
   "source": [
    "traindata = np.concatenate((np.linspace(-1,1,200).reshape(-1,1),np.linspace(0,1,200).reshape(-1,1)),1)\n",
    "\n",
    "x_plot = traindata[:,0:1]\n",
    "t_plot = traindata[:,1:2]\n",
    "xx,tt = np.meshgrid(x_plot,t_plot)\n",
    "\n",
    "data_numpy = np.concatenate((xx.reshape(-1,1),tt.reshape(-1,1)),1)\n",
    "aa = exact_func(data_numpy)\n",
    "\n",
    "plt.imshow(aa.reshape(200,200),extent=[-1, 1, 0, 1], cmap='rainbow')\n",
    "plt.colorbar(shrink=.5)\n",
    "\n",
    "plt.show()"
   ]
  },
  {
   "cell_type": "code",
   "execution_count": null,
   "id": "c2a14a22",
   "metadata": {
    "ExecuteTime": {
     "end_time": "2024-11-05T14:01:55.057882Z",
     "start_time": "2024-11-05T14:01:55.048811Z"
    },
    "cell_style": "center"
   },
   "outputs": [],
   "source": [
    "random_seed = 1234\n",
    "np.random.seed(random_seed)\n",
    "observe_number = 10\n",
    "\n",
    "observe_data = lb+(la-lb)*lhs(2,observe_number)\n",
    "observe_clear_u = exact_func(observe_data)\n",
    "\n",
    "############# N(0.02,0.05^2) #############\n",
    "noise_nu = 0.02\n",
    "noise_std = 0.05\n",
    "noise_u = np.random.normal(loc=noise_nu, scale=noise_std, size=observe_clear_u.shape)\n",
    "observe_u = observe_clear_u + noise_u\n",
    "############# N(0.02,0.05^2) #############\n",
    "\n",
    "\n",
    "observe_data = numpy_to_tensor(observe_data, var_name=\"observe_data\", value_range_dim = True, to_torch = True, to_cuda = True, requires_grad = True)\n",
    "observe_clear_u = numpy_to_tensor(observe_clear_u, var_name=\"observe_u\", value_range_dim = True, to_torch = True, to_cuda = True, requires_grad = True)\n",
    "observe_u = numpy_to_tensor(observe_u, var_name=\"observe_u\", value_range_dim = True, to_torch = True, to_cuda = True, requires_grad = True)\n",
    "print('J:',len(observe_u))\n",
    "\n",
    "observe_data_x_inside = observe_data[:,0:1]\n",
    "observe_data_t_inside = observe_data[:,1:2]"
   ]
  },
  {
   "cell_type": "code",
   "execution_count": null,
   "id": "36e0637a",
   "metadata": {
    "ExecuteTime": {
     "end_time": "2024-11-05T14:01:55.072409Z",
     "start_time": "2024-11-05T14:01:55.060091Z"
    }
   },
   "outputs": [],
   "source": [
    "np.random.seed(5678)\n",
    "N_test_number = 10000\n",
    "\n",
    "test_data = lb+(la-lb)*lhs(2,N_test_number)\n",
    "test_u = exact_func(test_data)\n",
    "\n",
    "test_data = numpy_to_tensor(test_data, var_name=\"test_data\", value_range_dim = True, to_torch = True, to_cuda = True, requires_grad = True)\n",
    "test_u = numpy_to_tensor(test_u, var_name=\"test_u\", value_range_dim = True, to_torch = True, to_cuda = True, requires_grad = True)\n",
    "\n",
    "test_data_x_inside = test_data[:,0:1]\n",
    "test_data_t_inside = test_data[:,1:2]"
   ]
  },
  {
   "cell_type": "code",
   "execution_count": null,
   "id": "f1f0c2b3",
   "metadata": {
    "ExecuteTime": {
     "end_time": "2024-11-05T14:01:55.079340Z",
     "start_time": "2024-11-05T14:01:55.074677Z"
    }
   },
   "outputs": [],
   "source": [
    "def output_transform(x_input, y_input):\n",
    "    x_in = x_input[:, 0:1]\n",
    "    t_in = x_input[:, 1:2]\n",
    "\n",
    "    return (1 - x_in) * (1 + x_in) * (1 - torch.exp(-t_in)) * y_input + torch.sin(np.pi * x_in)"
   ]
  },
  {
   "cell_type": "code",
   "execution_count": null,
   "id": "c8951027",
   "metadata": {
    "ExecuteTime": {
     "end_time": "2024-11-05T14:01:55.085039Z",
     "start_time": "2024-11-05T14:01:55.081412Z"
    }
   },
   "outputs": [],
   "source": [
    "C1 = torch.tensor(2.0, requires_grad=True)"
   ]
  },
  {
   "cell_type": "code",
   "execution_count": null,
   "id": "3b1a3785",
   "metadata": {
    "ExecuteTime": {
     "end_time": "2024-11-05T14:01:55.095997Z",
     "start_time": "2024-11-05T14:01:55.089525Z"
    }
   },
   "outputs": [],
   "source": [
    "def get_loss_f(x_grad,t_grad,PINNs,C,return_sequence='not'):\n",
    "    \n",
    "    ########### loss f  ###########\n",
    "    E_inside = PINNs(torch.cat((x_grad,t_grad),axis=1))\n",
    "    E_inside = output_transform(torch.cat((x_grad,t_grad),axis=1),E_inside)\n",
    "    \n",
    "    u_xx = compute_higher_order_derivatives(E_inside, [x_grad,x_grad])\n",
    "    u_t = compute_higher_order_derivatives(E_inside, [t_grad])\n",
    "    \n",
    "    loss_f_sequence = u_t-C*u_xx+torch.exp(-t_grad)*(torch.sin(torch.tensor(np.pi)*x_grad)-torch.tensor(np.pi)*torch.tensor(np.pi)*torch.sin(torch.tensor(np.pi)*x_grad))\n",
    "    loss_f_squared_sequence = torch.square(loss_f_sequence)\n",
    "\n",
    "    if return_sequence=='yes':\n",
    "        return loss_f_squared_sequence\n",
    "    else:\n",
    "        return torch.mean(loss_f_squared_sequence)"
   ]
  },
  {
   "cell_type": "code",
   "execution_count": null,
   "id": "bd0a41cc",
   "metadata": {
    "ExecuteTime": {
     "end_time": "2024-11-05T14:01:55.103770Z",
     "start_time": "2024-11-05T14:01:55.098154Z"
    }
   },
   "outputs": [],
   "source": [
    "def get_loss_bound(bound_x, bound_t, PINNs, C, return_sequence='not'):\n",
    "    \n",
    "    E_bound_x_zero = PINNs(torch.cat((bound_x,torch.zeros_like(bound_x)),axis=1)) \n",
    "    Exact_x_zero = torch.sin(torch.tensor(np.pi)*bound_x)\n",
    "    loss_bound_for_a = torch.mean(torch.square(E_bound_x_zero-Exact_x_zero))\n",
    "    \n",
    "    E_bound_fu_1_t = PINNs(torch.cat((-torch.ones_like(bound_t),bound_t),axis=1)) \n",
    "    loss_bound_for_b = torch.mean(torch.square(E_bound_fu_1_t))\n",
    "    \n",
    "    E_bound_1_t = PINNs(torch.cat((torch.ones_like(bound_t),bound_t),axis=1))\n",
    "    loss_bound_for_c = torch.mean(torch.square(E_bound_1_t))\n",
    "    \n",
    "    loss_bound_value = loss_bound_for_a+loss_bound_for_b+loss_bound_for_c\n",
    "    \n",
    "    return loss_bound_value"
   ]
  },
  {
   "cell_type": "code",
   "execution_count": null,
   "id": "40bb89d7",
   "metadata": {
    "ExecuteTime": {
     "end_time": "2024-11-05T14:01:55.109808Z",
     "start_time": "2024-11-05T14:01:55.105745Z"
    }
   },
   "outputs": [],
   "source": [
    "#Paper reproduction\n",
    "torch.manual_seed(1234)\n",
    "torch.cuda.manual_seed(1234)\n",
    "np.random.seed(1234)"
   ]
  },
  {
   "cell_type": "code",
   "execution_count": null,
   "id": "db0e0d93",
   "metadata": {
    "ExecuteTime": {
     "end_time": "2024-11-05T14:01:55.121767Z",
     "start_time": "2024-11-05T14:01:55.112057Z"
    }
   },
   "outputs": [],
   "source": [
    "torch.manual_seed(1234)\n",
    "torch.cuda.manual_seed(1234)\n",
    "np.random.seed(1234)\n",
    "\n",
    "net_settings_for_PINNs1 = NetSetting(input_dims=2, hidden_neurons_list=[20]*4, \n",
    "                                     output_dims=1, hidden_activation='tanh', \n",
    "                                     output_activation=None, initializer_method='xavier')\n",
    "PINNs1 = get_mlp_pinn(net_settings_for_PINNs1)\n",
    "PINNs1.cuda()\n",
    "\n",
    "initialize_weights(PINNs1, net_settings_for_PINNs1.initializer_method)\n",
    "\n",
    "optimizer1 = optim.Adam(PINNs1.parameters(), lr=0.001,betas=(0.9, 0.999), eps=1e-08, weight_decay=0, amsgrad=False)    \n",
    "optimizer1.add_param_group({'params': [C1], 'lr': 0.001})"
   ]
  },
  {
   "cell_type": "code",
   "execution_count": null,
   "id": "f4106b6d",
   "metadata": {
    "ExecuteTime": {
     "end_time": "2024-11-05T14:01:55.128333Z",
     "start_time": "2024-11-05T14:01:55.124052Z"
    }
   },
   "outputs": [],
   "source": [
    "x_inside_all = torch.cat((x_inside,observe_data[:,0:1]),axis=0)\n",
    "t_inside_all = torch.cat((t_inside,observe_data[:,1:2]),axis=0)"
   ]
  },
  {
   "cell_type": "code",
   "execution_count": null,
   "id": "d774dcc8",
   "metadata": {
    "ExecuteTime": {
     "end_time": "2024-11-05T14:12:22.331587Z",
     "start_time": "2024-11-05T14:01:55.130824Z"
    },
    "scrolled": true
   },
   "outputs": [],
   "source": [
    "############## Record list ###############\n",
    "loss_all_1 = []\n",
    "loss_f_1 = []\n",
    "loss_f_for_collocation_1 = []\n",
    "loss_f_for_T_1 = []\n",
    "loss_f_excapt_T_1 = []\n",
    "loss_T_1 = []\n",
    "loss_T_clear_1 = []\n",
    "loss_T_1_test_data = []\n",
    "test_loss_1 = []\n",
    "C1_list = []\n",
    "############## Record list ###############\n",
    "\n",
    "nIter1 = 20000\n",
    "it = 0\n",
    "\n",
    "while it<nIter1:\n",
    "    \n",
    "    #########loss f#########    \n",
    "    loss_f = get_loss_f(x_inside_all,t_inside_all,PINNs1,C1,return_sequence='not')\n",
    "\n",
    "    #########loss f  for collocation data#########\n",
    "    loss_f_for_collocation = get_loss_f(x_inside,t_inside,PINNs1,C1,return_sequence='not')\n",
    "    #########loss f  for observation data#########\n",
    "    loss_f_for_T = get_loss_f(observe_data_x_inside,observe_data_t_inside,PINNs1,C1,return_sequence='not')\n",
    "    #########loss f  excapt observation data#########\n",
    "    loss_f_excapt_T = get_loss_f(test_data_x_inside,test_data_t_inside,PINNs1,C1,return_sequence='not')\n",
    "    \n",
    "    #########loss observation#########        \n",
    "    E_observation = PINNs1(observe_data) \n",
    "    E_observation = output_transform(observe_data,E_observation)\n",
    "    loss_observation = torch.mean(torch.square(E_observation-observe_u))    \n",
    "    \n",
    "    #########loss T noisy observation#########  \n",
    "    loss_observation_noisy = torch.mean(torch.square(E_observation-observe_u)) \n",
    "    \n",
    "    #########loss PI#########\n",
    "    loss = loss_f+10*loss_observation\n",
    "    \n",
    "    #########loss T excapt observation#########        \n",
    "    E_observation_excapt = PINNs1(test_data) \n",
    "    E_observation_excapt = output_transform(test_data,E_observation_excapt)\n",
    "    loss_observation_excapt = torch.mean(torch.square(E_observation_excapt-test_u))     \n",
    "    \n",
    "    #########loss T clear observation#########        \n",
    "    E_observation_clear = PINNs1(observe_data) \n",
    "    E_observation_clear = output_transform(observe_data,E_observation_clear)\n",
    "    loss_observation_clear = torch.mean(torch.square(E_observation_clear-observe_clear_u))     \n",
    "    \n",
    "    #########test_loss NRMSE#########\n",
    "    pre_u = PINNs1(test_data)\n",
    "    pre_u = output_transform(test_data,pre_u)\n",
    "    test_loss = relative_l2_torch(pre_u,test_u)\n",
    "    #########test_loss NRMSE#########\n",
    "    \n",
    "    #########Record#########\n",
    "    loss_f_1.append(loss_f.item())\n",
    "    loss_f_for_collocation_1.append(loss_f_for_collocation.item())\n",
    "    loss_f_for_T_1.append(loss_f_for_T.item())\n",
    "    loss_f_excapt_T_1.append(loss_f_excapt_T.item())\n",
    "    C1_list.append(C1.item())   \n",
    "    loss_T_1.append(loss_observation_noisy.item()) \n",
    "    loss_T_1_test_data.append(loss_observation_excapt.item()) \n",
    "    loss_T_clear_1.append(loss_observation_clear.item()) \n",
    "    test_loss_1.append(test_loss)\n",
    "    #########Record#########\n",
    "    \n",
    "    if it % 1000 == 0:\n",
    "        print('It:', it, 'train_loss:', loss.item(), 'test_loss:', test_loss)\n",
    "        print(C1)\n",
    "        \n",
    "    optimizer1.zero_grad()\n",
    "    loss.backward()\n",
    "    optimizer1.step()\n",
    "    \n",
    "    it = it + 1   \n",
    "    \n",
    "print('Final:', 'train_loss:', loss.item(), 'test_loss:', test_loss)"
   ]
  },
  {
   "cell_type": "code",
   "execution_count": null,
   "id": "d614cf2e",
   "metadata": {},
   "outputs": [],
   "source": []
  }
 ],
 "metadata": {
  "kernelspec": {
   "display_name": "GA-PINNs",
   "language": "python",
   "name": "gapings"
  },
  "language_info": {
   "codemirror_mode": {
    "name": "ipython",
    "version": 3
   },
   "file_extension": ".py",
   "mimetype": "text/x-python",
   "name": "python",
   "nbconvert_exporter": "python",
   "pygments_lexer": "ipython3",
   "version": "3.7.12"
  },
  "toc": {
   "base_numbering": 1,
   "nav_menu": {},
   "number_sections": true,
   "sideBar": true,
   "skip_h1_title": false,
   "title_cell": "Table of Contents",
   "title_sidebar": "Contents",
   "toc_cell": false,
   "toc_position": {},
   "toc_section_display": true,
   "toc_window_display": false
  },
  "varInspector": {
   "cols": {
    "lenName": 16,
    "lenType": 16,
    "lenVar": 40
   },
   "kernels_config": {
    "python": {
     "delete_cmd_postfix": "",
     "delete_cmd_prefix": "del ",
     "library": "var_list.py",
     "varRefreshCmd": "print(var_dic_list())"
    },
    "r": {
     "delete_cmd_postfix": ") ",
     "delete_cmd_prefix": "rm(",
     "library": "var_list.r",
     "varRefreshCmd": "cat(var_dic_list()) "
    }
   },
   "types_to_exclude": [
    "module",
    "function",
    "builtin_function_or_method",
    "instance",
    "_Feature"
   ],
   "window_display": false
  }
 },
 "nbformat": 4,
 "nbformat_minor": 5
}
