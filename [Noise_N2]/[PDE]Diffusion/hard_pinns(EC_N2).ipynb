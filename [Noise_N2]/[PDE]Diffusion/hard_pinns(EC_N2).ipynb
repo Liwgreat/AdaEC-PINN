{
 "cells": [
  {
   "cell_type": "code",
   "execution_count": 1,
   "id": "fe6fc0cc",
   "metadata": {
    "ExecuteTime": {
     "end_time": "2025-05-26T03:26:19.463905Z",
     "start_time": "2025-05-26T03:26:18.088080Z"
    }
   },
   "outputs": [],
   "source": [
    "import random\n",
    "import numpy as np\n",
    "import scipy.io\n",
    "from pyDOE import lhs\n",
    "\n",
    "import torch\n",
    "from torch import nn, optim, autograd\n",
    "\n",
    "import torch.nn.init as init\n",
    "from torch.nn import functional as F\n",
    "\n",
    "import matplotlib as mpl\n",
    "import matplotlib.pyplot as plt\n",
    "import matplotlib.gridspec as gridspec\n",
    "%matplotlib inline\n",
    "from mpl_toolkits.axes_grid1 import make_axes_locatable\n",
    "\n",
    "from utils_training_EC import *\n",
    "\n",
    "#Paper reproduction\n",
    "random_seed_set = 1234\n",
    "set_random_seed(random_seed_set)"
   ]
  },
  {
   "cell_type": "code",
   "execution_count": 2,
   "id": "4f0d62eb",
   "metadata": {
    "ExecuteTime": {
     "end_time": "2025-05-26T03:26:23.048637Z",
     "start_time": "2025-05-26T03:26:19.466359Z"
    },
    "cell_style": "center"
   },
   "outputs": [
    {
     "name": "stdout",
     "output_type": "stream",
     "text": [
      "x_inside: Column 0: range from -0.9996169610992423 to 0.9999084330058925\n",
      "t_inside: Column 0: range from 0.0006221087710398319 to 0.9998795647581709\n"
     ]
    }
   ],
   "source": [
    "N_train = 1000\n",
    "N_bound = 200\n",
    "\n",
    "# x,t\n",
    "la = np.array([1, 1])\n",
    "lb = np.array([-1, 0])\n",
    "\n",
    "traindata = lb + (la - lb) * lhs(2, N_train)\n",
    "\n",
    "x_inside = traindata[:, 0:1]\n",
    "t_inside = traindata[:, 1:2]\n",
    "\n",
    "x_inside = numpy_to_tensor(x_inside,\n",
    "                           var_name=\"x_inside\",\n",
    "                           value_range_dim=True,\n",
    "                           to_torch=True,\n",
    "                           to_cuda=True,\n",
    "                           requires_grad=True)\n",
    "\n",
    "t_inside = numpy_to_tensor(t_inside,\n",
    "                           var_name=\"t_inside\",\n",
    "                           value_range_dim=True,\n",
    "                           to_torch=True,\n",
    "                           to_cuda=True,\n",
    "                           requires_grad=True)"
   ]
  },
  {
   "cell_type": "code",
   "execution_count": 3,
   "id": "00bb6cfa",
   "metadata": {
    "ExecuteTime": {
     "end_time": "2025-05-26T03:26:23.058962Z",
     "start_time": "2025-05-26T03:26:23.052595Z"
    },
    "cell_style": "center"
   },
   "outputs": [],
   "source": [
    "def exact_func(data_input):\n",
    "\n",
    "    x_value = data_input[:, 0:1]\n",
    "    t_value = data_input[:, 1:2]\n",
    "\n",
    "    return np.exp(-t_value) * np.sin(np.pi * x_value)"
   ]
  },
  {
   "cell_type": "code",
   "execution_count": 4,
   "id": "a4f45db7",
   "metadata": {
    "ExecuteTime": {
     "end_time": "2025-05-26T03:26:23.073058Z",
     "start_time": "2025-05-26T03:26:23.065159Z"
    }
   },
   "outputs": [
    {
     "name": "stdout",
     "output_type": "stream",
     "text": [
      "t_exact: (200, 1)\n",
      "x_exact: (200, 1)\n"
     ]
    }
   ],
   "source": [
    "x_exact = np.linspace(-1,1,200).reshape(-1,1)\n",
    "\n",
    "t_exact = np.linspace(0,1,200).reshape(-1,1)\n",
    "\n",
    "print('t_exact:', t_exact.shape)\n",
    "print('x_exact:', x_exact.shape)"
   ]
  },
  {
   "cell_type": "code",
   "execution_count": 5,
   "id": "c9f1d4dd",
   "metadata": {
    "ExecuteTime": {
     "end_time": "2025-05-26T03:26:23.082651Z",
     "start_time": "2025-05-26T03:26:23.075198Z"
    }
   },
   "outputs": [
    {
     "name": "stdout",
     "output_type": "stream",
     "text": [
      "X_exact: (200, 200)\n",
      "T_exact: (200, 200)\n"
     ]
    }
   ],
   "source": [
    "X_exact, T_exact = np.meshgrid(x_exact, t_exact)\n",
    "print('X_exact:', X_exact.shape)\n",
    "print('T_exact:', T_exact.shape)\n",
    "\n",
    "X_exact_flatten = X_exact.flatten()[:, None]\n",
    "T_exact_flatten = T_exact.flatten()[:, None]\n",
    "data_star = np.hstack((X_exact_flatten, T_exact_flatten))\n",
    "\n",
    "u_star = exact_func(data_star)\n",
    "Exact_u = u_star.reshape(X_exact.shape)"
   ]
  },
  {
   "cell_type": "code",
   "execution_count": 6,
   "id": "cd13a659",
   "metadata": {
    "ExecuteTime": {
     "end_time": "2025-05-26T03:26:23.090192Z",
     "start_time": "2025-05-26T03:26:23.084644Z"
    }
   },
   "outputs": [
    {
     "data": {
      "text/plain": [
       "(40000, 2)"
      ]
     },
     "execution_count": 6,
     "metadata": {},
     "output_type": "execute_result"
    }
   ],
   "source": [
    "data_star.shape"
   ]
  },
  {
   "cell_type": "code",
   "execution_count": 7,
   "id": "59eb9bed",
   "metadata": {
    "ExecuteTime": {
     "end_time": "2025-05-26T03:26:23.391578Z",
     "start_time": "2025-05-26T03:26:23.092313Z"
    }
   },
   "outputs": [
    {
     "data": {
      "image/png": "[encoded data removed]",
      "text/plain": [
       "<Figure size 600x200 with 2 Axes>"
      ]
     },
     "metadata": {},
     "output_type": "display_data"
    }
   ],
   "source": [
    "fig, ax1 = plt.subplots(1, 1, figsize=(6, 2))\n",
    "\n",
    "cmap = plt.get_cmap('jet')\n",
    "heatmap1 = ax1.imshow(Exact_u.T,\n",
    "                      interpolation='nearest',\n",
    "                      cmap='rainbow',\n",
    "                      extent=[0, 1, -1, 1],\n",
    "                      origin='lower',\n",
    "                      aspect='auto')\n",
    "\n",
    "ax1.set_title(r'$u$', fontsize=15)\n",
    "ax1.set_xlabel(r'$t$', fontsize=15)\n",
    "ax1.set_ylabel(r'$x$', fontsize=15)\n",
    "\n",
    "# Add a color bar\n",
    "cbar = fig.colorbar(heatmap1, ax=ax1, fraction=0.15, pad=0.04, aspect=10)\n",
    "cbar.set_label(r'Value of $u$', fontsize=12)\n",
    "\n",
    "plt.show()"
   ]
  },
  {
   "cell_type": "code",
   "execution_count": 8,
   "id": "c2a14a22",
   "metadata": {
    "ExecuteTime": {
     "end_time": "2025-05-26T03:26:23.403630Z",
     "start_time": "2025-05-26T03:26:23.393766Z"
    },
    "cell_style": "center"
   },
   "outputs": [
    {
     "name": "stdout",
     "output_type": "stream",
     "text": [
      "observe_data: Column 0: range from -0.9616961099242215 to 0.9545653243224748\n",
      "observe_data: Column 1: range from 0.06221087710398319 to 0.9882641190636117\n",
      "observe_u: Column 0: range from -0.4622391171270676 to 0.6941402599252228\n",
      "observe_u: Column 0: range from -0.39752830832666186 to 0.821010580522772\n",
      "noise_u: Column 0: range from 0.00010798859000043029 to 0.13954802577315165\n"
     ]
    }
   ],
   "source": [
    "random_seed = 1234\n",
    "np.random.seed(random_seed)\n",
    "observe_number = 10\n",
    "\n",
    "observe_data = lb + (la - lb) * lhs(2, observe_number)\n",
    "observe_clear_u = exact_func(observe_data)\n",
    "\n",
    "noise_nu = 0.02\n",
    "noise_std = 0.05\n",
    "noise_u = np.random.normal(loc=noise_nu, scale=noise_std, size=observe_clear_u.shape)\n",
    "observe_u = observe_clear_u + noise_u\n",
    "\n",
    "observe_data = numpy_to_tensor(observe_data,\n",
    "                               var_name=\"observe_data\",\n",
    "                               value_range_dim=True,\n",
    "                               to_torch=True,\n",
    "                               to_cuda=True,\n",
    "                               requires_grad=True)\n",
    "\n",
    "observe_clear_u = numpy_to_tensor(observe_clear_u,\n",
    "                                  var_name=\"observe_u\",\n",
    "                                  value_range_dim=True,\n",
    "                                  to_torch=True,\n",
    "                                  to_cuda=True,\n",
    "                                  requires_grad=True)\n",
    "\n",
    "observe_u = numpy_to_tensor(observe_u,\n",
    "                            var_name=\"observe_u\",\n",
    "                            value_range_dim=True,\n",
    "                            to_torch=True,\n",
    "                            to_cuda=True,\n",
    "                            requires_grad=True)\n",
    "\n",
    "noise_u = numpy_to_tensor(noise_u,\n",
    "                            var_name=\"noise_u\",\n",
    "                            value_range_dim=True,\n",
    "                            to_torch=True,\n",
    "                            to_cuda=True,\n",
    "                            requires_grad=False)\n",
    "\n",
    "observe_data_x_inside = observe_data[:, 0:1]\n",
    "observe_data_t_inside = observe_data[:, 1:2]"
   ]
  },
  {
   "cell_type": "code",
   "execution_count": 9,
   "id": "36e0637a",
   "metadata": {
    "ExecuteTime": {
     "end_time": "2025-05-26T03:26:23.417529Z",
     "start_time": "2025-05-26T03:26:23.405813Z"
    }
   },
   "outputs": [
    {
     "name": "stdout",
     "output_type": "stream",
     "text": [
      "test_data: Column 0: range from -0.9999021346039978 to 0.999818369091213\n",
      "test_data: Column 1: range from 5.933244265166393e-06 to 0.9999791490405054\n",
      "test_u: Column 0: range from -0.9962151573581175 to 0.9967165533751065\n"
     ]
    }
   ],
   "source": [
    "np.random.seed(5678)\n",
    "N_test_number = 10000\n",
    "\n",
    "test_data = lb + (la - lb) * lhs(2, N_test_number)\n",
    "test_u = exact_func(test_data)\n",
    "\n",
    "test_data = numpy_to_tensor(test_data,\n",
    "                            var_name=\"test_data\",\n",
    "                            value_range_dim=True,\n",
    "                            to_torch=True,\n",
    "                            to_cuda=True,\n",
    "                            requires_grad=True)\n",
    "\n",
    "test_u = numpy_to_tensor(test_u,\n",
    "                         var_name=\"test_u\",\n",
    "                         value_range_dim=True,\n",
    "                         to_torch=True,\n",
    "                         to_cuda=True,\n",
    "                         requires_grad=True)\n",
    "\n",
    "test_data_x_inside = test_data[:, 0:1]\n",
    "test_data_t_inside = test_data[:, 1:2]"
   ]
  },
  {
   "cell_type": "code",
   "execution_count": 10,
   "id": "f0301744",
   "metadata": {
    "ExecuteTime": {
     "end_time": "2025-05-26T03:26:23.423539Z",
     "start_time": "2025-05-26T03:26:23.419556Z"
    }
   },
   "outputs": [
    {
     "name": "stdout",
     "output_type": "stream",
     "text": [
      "The number of observational data J: 10\n"
     ]
    }
   ],
   "source": [
    "print('The number of observational data J:', len(observe_u))"
   ]
  },
  {
   "cell_type": "code",
   "execution_count": 11,
   "id": "f1f0c2b3",
   "metadata": {
    "ExecuteTime": {
     "end_time": "2025-05-26T03:26:23.430030Z",
     "start_time": "2025-05-26T03:26:23.425621Z"
    }
   },
   "outputs": [],
   "source": [
    "def output_transform(x_input, y_input):\n",
    "\n",
    "    x_in = x_input[:, 0:1]\n",
    "    t_in = x_input[:, 1:2]\n",
    "\n",
    "    return (1 - x_in) * (1 + x_in) * (1 - torch.exp(-t_in)) * y_input + torch.sin(np.pi * x_in)"
   ]
  },
  {
   "cell_type": "code",
   "execution_count": 12,
   "id": "3b1a3785",
   "metadata": {
    "ExecuteTime": {
     "end_time": "2025-05-26T03:26:23.439034Z",
     "start_time": "2025-05-26T03:26:23.432652Z"
    }
   },
   "outputs": [],
   "source": [
    "def get_loss_f_1(x_grad, t_grad, PINNs, C, return_sequence='not'):\n",
    "\n",
    "    E_inside = PINNs(torch.cat((x_grad, t_grad), dim=1))\n",
    "    E_inside = output_transform(torch.cat((x_grad, t_grad), dim=1), E_inside)\n",
    "\n",
    "    u_xx = compute_higher_order_derivatives(E_inside, [x_grad, x_grad])\n",
    "    u_t = compute_higher_order_derivatives(E_inside, [t_grad])\n",
    "\n",
    "    loss_term = u_t - C * u_xx + torch.exp(-t_grad) * (\n",
    "        torch.sin(torch.tensor(np.pi) * x_grad) - torch.tensor(np.pi) *\n",
    "        torch.tensor(np.pi) * torch.sin(torch.tensor(np.pi) * x_grad))\n",
    "\n",
    "    if return_sequence == 'yes':\n",
    "        return torch.square(loss_term)\n",
    "    else:\n",
    "        return torch.mean(torch.square(loss_term))"
   ]
  },
  {
   "cell_type": "code",
   "execution_count": 13,
   "id": "55449f52",
   "metadata": {
    "ExecuteTime": {
     "end_time": "2025-05-26T03:26:23.449156Z",
     "start_time": "2025-05-26T03:26:23.443615Z"
    }
   },
   "outputs": [
    {
     "name": "stdout",
     "output_type": "stream",
     "text": [
      "Theta_list: Column 0: range from 0.0 to 0.0\n"
     ]
    }
   ],
   "source": [
    "Theta_list = np.zeros_like(observe_u.cpu().detach().numpy())\n",
    "Theta_list_1 = numpy_to_tensor(Theta_list,\n",
    "                             var_name=\"Theta_list\",\n",
    "                             value_range_dim=True,\n",
    "                             to_torch=True,\n",
    "                             to_cuda=True,\n",
    "                             requires_grad=True)\n",
    "\n",
    "Theta_list_id = id(Theta_list_1)\n",
    "\n",
    "optimizer_error = optim.Adam([Theta_list_1],\n",
    "                             lr=0.0001,\n",
    "                             betas=(0.9, 0.999),\n",
    "                             eps=1e-08,\n",
    "                             weight_decay=0,\n",
    "                             amsgrad=False)"
   ]
  },
  {
   "cell_type": "code",
   "execution_count": 14,
   "id": "f4106b6d",
   "metadata": {
    "ExecuteTime": {
     "end_time": "2025-05-26T03:26:23.454836Z",
     "start_time": "2025-05-26T03:26:23.451546Z"
    }
   },
   "outputs": [],
   "source": [
    "x_inside_all = torch.cat((x_inside,observe_data[:,0:1]),dim=0)\n",
    "t_inside_all = torch.cat((t_inside,observe_data[:,1:2]),dim=0)"
   ]
  },
  {
   "cell_type": "code",
   "execution_count": 15,
   "id": "6b7cf8c9",
   "metadata": {
    "ExecuteTime": {
     "end_time": "2025-05-26T03:26:23.461022Z",
     "start_time": "2025-05-26T03:26:23.456784Z"
    }
   },
   "outputs": [],
   "source": [
    "data_inputs = {\n",
    "    'x_inside_all': x_inside_all,\n",
    "    't_inside_all': t_inside_all,\n",
    "    'x_inside': x_inside,\n",
    "    't_inside': t_inside,\n",
    "    'observe_data': observe_data,\n",
    "    'noise_u': noise_u,\n",
    "    'observe_u': observe_u,\n",
    "    'observe_clear_u': observe_clear_u,\n",
    "    'observe_data_x_inside': observe_data_x_inside,\n",
    "    'observe_data_t_inside': observe_data_t_inside,\n",
    "    'test_data': test_data,\n",
    "    'test_u': test_u,\n",
    "    'test_data_x_inside': test_data_x_inside,\n",
    "    'test_data_t_inside': test_data_t_inside,\n",
    "    'C1': None,\n",
    "}"
   ]
  },
  {
   "cell_type": "code",
   "execution_count": 16,
   "id": "40bb89d7",
   "metadata": {
    "ExecuteTime": {
     "end_time": "2025-05-26T03:26:23.465993Z",
     "start_time": "2025-05-26T03:26:23.463102Z"
    }
   },
   "outputs": [],
   "source": [
    "#Paper reproduction\n",
    "random_seed_set = 1234\n",
    "set_random_seed(random_seed_set)"
   ]
  },
  {
   "cell_type": "code",
   "execution_count": 17,
   "id": "db0e0d93",
   "metadata": {
    "ExecuteTime": {
     "end_time": "2025-05-26T03:26:23.479922Z",
     "start_time": "2025-05-26T03:26:23.468317Z"
    }
   },
   "outputs": [],
   "source": [
    "net_settings_for_PINNs_1 = NetSetting(input_dims=2,\n",
    "                                     hidden_neurons_list=[20] * 4,\n",
    "                                     output_dims=1,\n",
    "                                     hidden_activation='tanh',\n",
    "                                     output_activation=None,\n",
    "                                     initializer_method='xavier')\n",
    "\n",
    "PINNs_1 = get_mlp_pinn(net_settings_for_PINNs_1)\n",
    "PINNs_1.cuda()\n",
    "\n",
    "initialize_weights(PINNs_1, net_settings_for_PINNs_1.initializer_method)\n",
    "\n",
    "optimizer_pinn = optim.Adam(PINNs_1.parameters(),\n",
    "                        lr=0.001,\n",
    "                        betas=(0.9, 0.999),\n",
    "                        eps=1e-08,\n",
    "                        weight_decay=0,\n",
    "                        amsgrad=False)\n",
    "\n",
    "C1 = torch.tensor(2.0, requires_grad=True)\n",
    "C1_id = id(C1)\n",
    "optimizer_pinn.add_param_group({'params': [C1], 'lr': 0.001})"
   ]
  },
  {
   "cell_type": "code",
   "execution_count": 18,
   "id": "b836fb52",
   "metadata": {
    "ExecuteTime": {
     "end_time": "2025-05-26T03:39:03.258498Z",
     "start_time": "2025-05-26T03:26:23.482156Z"
    },
    "scrolled": true
   },
   "outputs": [
    {
     "name": "stdout",
     "output_type": "stream",
     "text": [
      "Iterations: 0, train_loss: 104.84895325, test_loss: 0.653587, noise_elimination_loss: 0.004004\n",
      "Current C1 learning rate: 0.001\n",
      "Estimated parameter: tensor(2., requires_grad=True)\n",
      "Current EC_factors learning rate: 0.0001\n",
      "----------------------------------------------------------------\n",
      "Iterations: 1000, train_loss: 0.80078530, test_loss: 0.381480, noise_elimination_loss: 0.004004\n",
      "Current C1 learning rate: 0.001\n",
      "Estimated parameter: tensor(1.7201, requires_grad=True)\n",
      "Current EC_factors learning rate: 0.0001\n",
      "----------------------------------------------------------------\n",
      "Iterations: 2000, train_loss: 0.36878043, test_loss: 0.347249, noise_elimination_loss: 0.004004\n",
      "Current C1 learning rate: 0.001\n",
      "Estimated parameter: tensor(1.5933, requires_grad=True)\n",
      "Current EC_factors learning rate: 0.0001\n",
      "----------------------------------------------------------------\n",
      "Iterations: 3000, train_loss: 0.25043887, test_loss: 0.302036, noise_elimination_loss: 0.004004\n",
      "Current C1 learning rate: 0.001\n",
      "Estimated parameter: tensor(1.4777, requires_grad=True)\n",
      "Current EC_factors learning rate: 0.0001\n",
      "----------------------------------------------------------------\n",
      "Restoring best model to the timing point: 3201\n",
      "Iterations: 4000, train_loss: 0.08353361, test_loss: 0.245912, noise_elimination_loss: 0.003599\n",
      "Current C1 learning rate: 0.001\n",
      "Estimated parameter: tensor(1.3581, requires_grad=True)\n",
      "Current EC_factors learning rate: 0.0001\n",
      "----------------------------------------------------------------\n",
      "Iterations: 5000, train_loss: 0.02086371, test_loss: 0.195843, noise_elimination_loss: 0.004546\n",
      "Current C1 learning rate: 0.001\n",
      "Estimated parameter: tensor(1.2661, requires_grad=True)\n",
      "Current EC_factors learning rate: 0.0001\n",
      "----------------------------------------------------------------\n",
      "Iterations: 6000, train_loss: 0.00428117, test_loss: 0.160843, noise_elimination_loss: 0.004262\n",
      "Current C1 learning rate: 0.001\n",
      "Estimated parameter: tensor(1.2068, requires_grad=True)\n",
      "Current EC_factors learning rate: 0.0001\n",
      "----------------------------------------------------------------\n",
      "Iterations: 7000, train_loss: 0.00034336, test_loss: 0.141092, noise_elimination_loss: 0.004049\n",
      "Current C1 learning rate: 0.001\n",
      "Estimated parameter: tensor(1.1780, requires_grad=True)\n",
      "Current EC_factors learning rate: 0.0001\n",
      "----------------------------------------------------------------\n",
      "Iterations: 8000, train_loss: 0.00015033, test_loss: 0.134957, noise_elimination_loss: 0.003973\n",
      "Current C1 learning rate: 0.001\n",
      "Estimated parameter: tensor(1.1689, requires_grad=True)\n",
      "Current EC_factors learning rate: 0.0001\n",
      "----------------------------------------------------------------\n",
      "Iterations: 9000, train_loss: 0.00004077, test_loss: 0.133903, noise_elimination_loss: 0.003931\n",
      "Current C1 learning rate: 0.001\n",
      "Estimated parameter: tensor(1.1671, requires_grad=True)\n",
      "Current EC_factors learning rate: 0.0001\n",
      "----------------------------------------------------------------\n",
      "Iterations: 10000, train_loss: 0.00003284, test_loss: 0.132910, noise_elimination_loss: 0.003884\n",
      "Current C1 learning rate: 0.001\n",
      "Estimated parameter: tensor(1.1656, requires_grad=True)\n",
      "Current EC_factors learning rate: 0.0001\n",
      "----------------------------------------------------------------\n",
      "Iterations: 11000, train_loss: 0.00002434, test_loss: 0.131593, noise_elimination_loss: 0.003809\n",
      "Current C1 learning rate: 0.001\n",
      "Estimated parameter: tensor(1.1638, requires_grad=True)\n",
      "Current EC_factors learning rate: 0.0001\n",
      "----------------------------------------------------------------\n",
      "Iterations: 12000, train_loss: 0.00001784, test_loss: 0.130281, noise_elimination_loss: 0.003723\n",
      "Current C1 learning rate: 0.001\n",
      "Estimated parameter: tensor(1.1619, requires_grad=True)\n",
      "Current EC_factors learning rate: 0.0001\n",
      "----------------------------------------------------------------\n",
      "Iterations: 13000, train_loss: 0.00001388, test_loss: 0.128054, noise_elimination_loss: 0.003598\n",
      "Current C1 learning rate: 0.001\n",
      "Estimated parameter: tensor(1.1587, requires_grad=True)\n",
      "Current EC_factors learning rate: 0.0001\n",
      "----------------------------------------------------------------\n",
      "Iterations: 14000, train_loss: 0.00003511, test_loss: 0.125009, noise_elimination_loss: 0.003430\n",
      "Current C1 learning rate: 0.001\n",
      "Estimated parameter: tensor(1.1542, requires_grad=True)\n",
      "Current EC_factors learning rate: 0.0001\n",
      "----------------------------------------------------------------\n",
      "Iterations: 15000, train_loss: 0.00001732, test_loss: 0.121390, noise_elimination_loss: 0.003226\n",
      "Current C1 learning rate: 0.001\n",
      "Estimated parameter: tensor(1.1491, requires_grad=True)\n",
      "Current EC_factors learning rate: 0.0001\n",
      "----------------------------------------------------------------\n",
      "Iterations: 16000, train_loss: 0.00000738, test_loss: 0.117737, noise_elimination_loss: 0.003046\n",
      "Current C1 learning rate: 0.001\n",
      "Estimated parameter: tensor(1.1442, requires_grad=True)\n",
      "Current EC_factors learning rate: 0.0001\n",
      "----------------------------------------------------------------\n",
      "Iterations: 17000, train_loss: 0.00000624, test_loss: 0.113891, noise_elimination_loss: 0.002851\n",
      "Current C1 learning rate: 0.001\n",
      "Estimated parameter: tensor(1.1389, requires_grad=True)\n",
      "Current EC_factors learning rate: 0.0001\n",
      "----------------------------------------------------------------\n",
      "Iterations: 18000, train_loss: 0.00000532, test_loss: 0.110266, noise_elimination_loss: 0.002674\n",
      "Current C1 learning rate: 0.001\n",
      "Estimated parameter: tensor(1.1340, requires_grad=True)\n",
      "Current EC_factors learning rate: 0.0001\n",
      "----------------------------------------------------------------\n",
      "Iterations: 19000, train_loss: 0.00001094, test_loss: 0.106693, noise_elimination_loss: 0.002507\n",
      "Current C1 learning rate: 0.001\n",
      "Estimated parameter: tensor(1.1292, requires_grad=True)\n",
      "Current EC_factors learning rate: 0.0001\n",
      "----------------------------------------------------------------\n",
      "Final result: train_loss: 0.00000448, test_loss: 0.103092, noise_elimination_loss: 0.002339\n",
      "Estimated parameter: tensor(1.1242, requires_grad=True)\n"
     ]
    }
   ],
   "source": [
    "nIter1 = 20000\n",
    "it = 0\n",
    "training_recorder_1 = training_recorder()\n",
    "\n",
    "if_timing_point = False\n",
    "loss_noise_elimination = torch.mean(torch.square(Theta_list_1 - noise_u))\n",
    "\n",
    "while it < nIter1:\n",
    "    #########loss f#########\n",
    "    loss_f = get_loss_f_1(x_inside_all, t_inside_all, PINNs_1, C1)\n",
    "    \n",
    "    #########loss T noisy observation#########\n",
    "    E_observation = PINNs_1(observe_data)\n",
    "    E_observation = output_transform(observe_data, E_observation)\n",
    "    loss_error_correction = torch.mean(torch.square(E_observation + Theta_list_1 - data_inputs['observe_u']))\n",
    "    \n",
    "    #########loss PI#########\n",
    "    loss_all = loss_f + 10 * loss_error_correction \n",
    "\n",
    "    data_inputs['C1'] = C1\n",
    "    test_loss  = training_calculator(PINNs_1, get_loss_f_1, Theta_list_1,\n",
    "                                     training_recorder_1, data_inputs, output_transform)\n",
    "    \n",
    "    if it % 1000 == 0:\n",
    "        print(f\"Iterations: {it}, train_loss: {loss_all.item():.8f}, test_loss: {test_loss:.6f}, noise_elimination_loss: {loss_noise_elimination:.6f}\")\n",
    "        change_C_learning_rate(optimizer_pinn, C1_id, learning_rate = None)\n",
    "        print('Estimated parameter:',C1)\n",
    "        change_EC_factors_learning_rate(optimizer_error, learning_rate = None)\n",
    "        print('----------------------------------------------------------------')\n",
    "    \n",
    "    optimizer_pinn.zero_grad()\n",
    "    loss_all.backward()\n",
    "    optimizer_pinn.step()\n",
    "\n",
    "    if if_timing_point == False:\n",
    "        if it > 3200:\n",
    "            (PINNs, C, it, optimizer_pinn_input,\n",
    "             if_timing_point) = training_recall(it, PINNs_1, C1,\n",
    "                                                optimizer_pinn, training_recorder_1,\n",
    "                                                if_timing_point, threshold = 0, window_wide = 300)\n",
    "                \n",
    "    else:\n",
    "        Theta_list, loss_noise_elimination = train_for_error_correction(PINNs_1, C1, optimizer_error, \n",
    "                                                                        Theta_list_1, data_inputs,\n",
    "                                                                        output_transform)\n",
    "    \n",
    "    it = it + 1\n",
    "    \n",
    "print(f\"Final result: train_loss: {loss_all.item():.8f}, test_loss: {test_loss:.6f}, noise_elimination_loss: {loss_noise_elimination:.6f}\")\n",
    "print('Estimated parameter:',C1)\n",
    "\n",
    "output_dir = '../experimental_data/Diffusion/EC_N2/'\n",
    "training_recorder_1.save(output_dir)"
   ]
  },
  {
   "cell_type": "code",
   "execution_count": null,
   "id": "808a910b",
   "metadata": {},
   "outputs": [],
   "source": []
  }
 ],
 "metadata": {
  "kernelspec": {
   "display_name": "GA-PINNs",
   "language": "python",
   "name": "gapings"
  },
  "language_info": {
   "codemirror_mode": {
    "name": "ipython",
    "version": 3
   },
   "file_extension": ".py",
   "mimetype": "text/x-python",
   "name": "python",
   "nbconvert_exporter": "python",
   "pygments_lexer": "ipython3",
   "version": "3.7.12"
  },
  "toc": {
   "base_numbering": 1,
   "nav_menu": {},
   "number_sections": true,
   "sideBar": true,
   "skip_h1_title": false,
   "title_cell": "Table of Contents",
   "title_sidebar": "Contents",
   "toc_cell": false,
   "toc_position": {
    "height": "calc(100% - 180px)",
    "left": "10px",
    "top": "150px",
    "width": "165px"
   },
   "toc_section_display": true,
   "toc_window_display": true
  },
  "varInspector": {
   "cols": {
    "lenName": 16,
    "lenType": 16,
    "lenVar": 40
   },
   "kernels_config": {
    "python": {
     "delete_cmd_postfix": "",
     "delete_cmd_prefix": "del ",
     "library": "var_list.py",
     "varRefreshCmd": "print(var_dic_list())"
    },
    "r": {
     "delete_cmd_postfix": ") ",
     "delete_cmd_prefix": "rm(",
     "library": "var_list.r",
     "varRefreshCmd": "cat(var_dic_list()) "
    }
   },
   "types_to_exclude": [
    "module",
    "function",
    "builtin_function_or_method",
    "instance",
    "_Feature"
   ],
   "window_display": false
  }
 },
 "nbformat": 4,
 "nbformat_minor": 5
}
