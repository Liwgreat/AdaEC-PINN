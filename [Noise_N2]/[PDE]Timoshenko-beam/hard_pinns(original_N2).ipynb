{
 "cells": [
  {
   "cell_type": "code",
   "execution_count": 1,
   "id": "edb77347",
   "metadata": {
    "ExecuteTime": {
     "end_time": "2025-05-28T00:49:02.995272Z",
     "start_time": "2025-05-28T00:49:01.596182Z"
    }
   },
   "outputs": [],
   "source": [
    "import random\n",
    "import numpy as np\n",
    "import scipy.io\n",
    "from pyDOE import lhs\n",
    "\n",
    "import torch\n",
    "from torch import nn, optim, autograd\n",
    "\n",
    "import torch.nn.init as init\n",
    "from torch.nn import functional as F\n",
    "\n",
    "import matplotlib as mpl\n",
    "import matplotlib.pyplot as plt\n",
    "import matplotlib.gridspec as gridspec\n",
    "%matplotlib inline\n",
    "from mpl_toolkits.axes_grid1 import make_axes_locatable\n",
    "\n",
    "from utils_training_base import *\n",
    "\n",
    "#Paper reproduction\n",
    "random_seed_set = 1234\n",
    "set_random_seed(random_seed_set)"
   ]
  },
  {
   "cell_type": "code",
   "execution_count": 2,
   "id": "337a7923",
   "metadata": {
    "ExecuteTime": {
     "end_time": "2025-05-28T00:49:06.646154Z",
     "start_time": "2025-05-28T00:49:02.997911Z"
    }
   },
   "outputs": [
    {
     "name": "stdout",
     "output_type": "stream",
     "text": [
      "x_inside: Column 0: range from 0.000601676098329883 to 3.141448820491793\n",
      "t_inside: Column 0: range from 0.0006221087710398319 to 0.9998795647581709\n",
      "x_bound: Column 0: range from 0.002011130765297697 to 3.1339553969820386\n",
      "x_bound_t_zero: Column 0: range from 0.0 to 0.0\n",
      "t_bound: Column 0: range from 0.0031771598660592128 to 0.997403185889695\n"
     ]
    }
   ],
   "source": [
    "N_train = 1000\n",
    "N_bound = 400\n",
    "N_init = 200\n",
    "\n",
    "# Input  [x,t]\n",
    "# Output [alpha, beta]\n",
    "\n",
    "la = np.array([np.pi,1])\n",
    "lb = np.array([0,0])\n",
    "\n",
    "traindata = lb+(la-lb)*lhs(2,N_train)\n",
    "x_inside = traindata[:,0:1]\n",
    "t_inside = traindata[:,1:2]\n",
    "\n",
    "x_inside = numpy_to_tensor(x_inside, var_name=\"x_inside\", value_range_dim = True, to_torch = True, to_cuda = True, requires_grad = True)\n",
    "t_inside = numpy_to_tensor(t_inside, var_name=\"t_inside\", value_range_dim = True, to_torch = True, to_cuda = True, requires_grad = True)\n",
    "\n",
    "x_bound = lb[0]+(la[0]-lb[0])*lhs(1,N_bound)\n",
    "x_bound_t_zero = np.zeros_like(x_bound)\n",
    "t_bound = lb[1]+(la[1]-lb[1])*lhs(1,N_init)\n",
    "\n",
    "\n",
    "x_bound = numpy_to_tensor(x_bound, var_name=\"x_bound\", value_range_dim = True, to_torch = True, to_cuda = True, requires_grad = True)\n",
    "x_bound_t_zero = numpy_to_tensor(x_bound_t_zero, var_name=\"x_bound_t_zero\", value_range_dim = True, to_torch = True, to_cuda = True, requires_grad = True)\n",
    "t_bound = numpy_to_tensor(t_bound, var_name=\"t_bound\", value_range_dim = True, to_torch = True, to_cuda = True, requires_grad = True)"
   ]
  },
  {
   "cell_type": "code",
   "execution_count": 3,
   "id": "5415d964",
   "metadata": {
    "ExecuteTime": {
     "end_time": "2025-05-28T00:49:06.653987Z",
     "start_time": "2025-05-28T00:49:06.649351Z"
    }
   },
   "outputs": [],
   "source": [
    "# Exact solution of alpha\n",
    "def exact_alpha(data_input):\n",
    "    x_input = data_input[:,0:1]\n",
    "    t_input = data_input[:,1:2]\n",
    "    return (np.pi / 2 * np.cos(x_input) + (x_input - np.pi / 2)) * np.cos(t_input)\n",
    "\n",
    "# Exact solution of beta\n",
    "def exact_beta(data_input):\n",
    "    x_input = data_input[:,0:1]\n",
    "    t_input = data_input[:,1:2]\n",
    "    return (np.pi / 2) * np.sin(x_input) * np.cos(t_input)"
   ]
  },
  {
   "cell_type": "code",
   "execution_count": 4,
   "id": "aa01252f",
   "metadata": {
    "ExecuteTime": {
     "end_time": "2025-05-28T00:49:06.661003Z",
     "start_time": "2025-05-28T00:49:06.656324Z"
    }
   },
   "outputs": [
    {
     "name": "stdout",
     "output_type": "stream",
     "text": [
      "t_exact: (100, 1)\n",
      "x_exact: (100, 1)\n"
     ]
    }
   ],
   "source": [
    "x_exact = np.linspace(0, np.pi, 100).reshape(-1,1)\n",
    "\n",
    "t_exact = np.linspace(0, 1, 100).reshape(-1,1)\n",
    "\n",
    "print('t_exact:', t_exact.shape)\n",
    "print('x_exact:', x_exact.shape)"
   ]
  },
  {
   "cell_type": "code",
   "execution_count": 5,
   "id": "05d01035",
   "metadata": {
    "ExecuteTime": {
     "end_time": "2025-05-28T00:49:06.670049Z",
     "start_time": "2025-05-28T00:49:06.663230Z"
    }
   },
   "outputs": [
    {
     "name": "stdout",
     "output_type": "stream",
     "text": [
      "X_exact: (100, 100)\n",
      "T_exact: (100, 100)\n"
     ]
    }
   ],
   "source": [
    "X_exact, T_exact = np.meshgrid(x_exact, t_exact)\n",
    "print('X_exact:', X_exact.shape)\n",
    "print('T_exact:', T_exact.shape)\n",
    "\n",
    "X_exact_flatten = X_exact.flatten()[:, None]\n",
    "T_exact_flatten = T_exact.flatten()[:, None]\n",
    "data_star = np.hstack((X_exact_flatten, T_exact_flatten))\n",
    "\n",
    "alpha_star = exact_alpha(data_star)\n",
    "Exact_alpha = alpha_star.reshape(X_exact.shape)\n",
    "\n",
    "beta_star = exact_beta(data_star)\n",
    "Exact_beta = beta_star.reshape(X_exact.shape)"
   ]
  },
  {
   "cell_type": "code",
   "execution_count": 6,
   "id": "7fbee49d",
   "metadata": {
    "ExecuteTime": {
     "end_time": "2025-05-28T00:49:06.676994Z",
     "start_time": "2025-05-28T00:49:06.672004Z"
    }
   },
   "outputs": [
    {
     "data": {
      "text/plain": [
       "(10000, 2)"
      ]
     },
     "execution_count": 6,
     "metadata": {},
     "output_type": "execute_result"
    }
   ],
   "source": [
    "data_star.shape"
   ]
  },
  {
   "cell_type": "code",
   "execution_count": 7,
   "id": "28172078",
   "metadata": {
    "ExecuteTime": {
     "end_time": "2025-05-28T00:49:06.986884Z",
     "start_time": "2025-05-28T00:49:06.678945Z"
    }
   },
   "outputs": [
    {
     "data": {
      "image/png": "[encoded data removed]",
      "text/plain": [
       "<Figure size 600x200 with 2 Axes>"
      ]
     },
     "metadata": {},
     "output_type": "display_data"
    }
   ],
   "source": [
    "fig, ax1 = plt.subplots(1, 1, figsize=(6, 2))\n",
    "\n",
    "cmap = plt.get_cmap('jet')\n",
    "heatmap1 = ax1.imshow(Exact_alpha,\n",
    "                      interpolation='nearest',\n",
    "                      cmap='rainbow',\n",
    "                      extent=[0, 3, 0, 1],\n",
    "                      origin='lower',\n",
    "                      aspect='auto')\n",
    "\n",
    "ax1.set_title(r'$\\alpha$', fontsize=15)\n",
    "ax1.set_xlabel(r'$t$', fontsize=15)\n",
    "ax1.set_ylabel(r'$x$', fontsize=15)\n",
    "\n",
    "# Add a color bar\n",
    "cbar = fig.colorbar(heatmap1, ax=ax1, fraction=0.15, pad=0.04, aspect=10)\n",
    "cbar.set_label(r'Value of $\\alpha$', fontsize=12)\n",
    "\n",
    "plt.show()"
   ]
  },
  {
   "cell_type": "code",
   "execution_count": 8,
   "id": "3bee673e",
   "metadata": {
    "ExecuteTime": {
     "end_time": "2025-05-28T00:49:07.156541Z",
     "start_time": "2025-05-28T00:49:06.989162Z"
    }
   },
   "outputs": [
    {
     "data": {
      "image/png": "[encoded data removed]",
      "text/plain": [
       "<Figure size 600x200 with 2 Axes>"
      ]
     },
     "metadata": {},
     "output_type": "display_data"
    }
   ],
   "source": [
    "fig, ax1 = plt.subplots(1, 1, figsize=(6, 2))\n",
    "\n",
    "cmap = plt.get_cmap('jet')\n",
    "heatmap1 = ax1.imshow(Exact_beta,\n",
    "                      interpolation='nearest',\n",
    "                      cmap='rainbow',\n",
    "                      extent=[0, 3, 0, 1],\n",
    "                      origin='lower',\n",
    "                      aspect='auto')\n",
    "\n",
    "ax1.set_title(r'$\\beta$', fontsize=15)\n",
    "ax1.set_xlabel(r'$t$', fontsize=15)\n",
    "ax1.set_ylabel(r'$x$', fontsize=15)\n",
    "\n",
    "# Add a color bar\n",
    "cbar = fig.colorbar(heatmap1, ax=ax1, fraction=0.15, pad=0.04, aspect=10)\n",
    "cbar.set_label(r'Value of $\\beta$', fontsize=12)\n",
    "\n",
    "plt.show()"
   ]
  },
  {
   "cell_type": "code",
   "execution_count": 9,
   "id": "60f735c3",
   "metadata": {
    "ExecuteTime": {
     "end_time": "2025-05-28T00:49:07.171516Z",
     "start_time": "2025-05-28T00:49:07.160571Z"
    }
   },
   "outputs": [
    {
     "name": "stdout",
     "output_type": "stream",
     "text": [
      "observe_data: Column 0: range from 0.2 to 3.0\n",
      "observe_data: Column 1: range from 0.01915194503788923 to 0.9933140101982522\n",
      "observe_u: Column 0: range from -0.316500995941234 to 0.32307859090056074\n",
      "observe_u: Column 1: range from 0.13416276268443897 to 1.5272364713454367\n",
      "observe_u: Column 0: range from -0.3907741166429186 to 0.43592035249088634\n",
      "observe_u: Column 1: range from 0.082715509608204 to 1.6068378393113447\n"
     ]
    }
   ],
   "source": [
    "random_seed = 1234\n",
    "np.random.seed(random_seed)\n",
    "\n",
    "# Input  [x,t]\n",
    "# Output [alpha, beta]\n",
    "\n",
    "x_values = [0.2, 0.8, 1.8, 2.6, 3.0]\n",
    "observe_number_per_x = 10\n",
    "\n",
    "observe_data = []\n",
    "for x in x_values:\n",
    "    t_for_x = lhs(1, observe_number_per_x)\n",
    "    x_column = np.full((observe_number_per_x, 1), x)\n",
    "    observe_data_x_t = np.hstack((x_column, t_for_x))\n",
    "    observe_data.append(observe_data_x_t)\n",
    "\n",
    "observe_data = np.vstack(observe_data)\n",
    "\n",
    "observe_clear_alpha = exact_alpha(observe_data)\n",
    "observe_clear_deta = exact_beta(observe_data)\n",
    "observe_clear_u = np.hstack((observe_clear_alpha, observe_clear_deta))\n",
    "\n",
    "noise_nu = 0.02\n",
    "noise_std = 0.05\n",
    "noise_u = np.random.normal(loc=noise_nu, scale=noise_std, size=observe_clear_u.shape)\n",
    "observe_u = observe_clear_u + noise_u\n",
    "\n",
    "observe_data = numpy_to_tensor(observe_data,\n",
    "                               var_name=\"observe_data\",\n",
    "                               value_range_dim=True,\n",
    "                               to_torch=True,\n",
    "                               to_cuda=True,\n",
    "                               requires_grad=True)\n",
    "\n",
    "observe_clear_u = numpy_to_tensor(observe_clear_u,\n",
    "                                  var_name=\"observe_u\",\n",
    "                                  value_range_dim=True,\n",
    "                                  to_torch=True,\n",
    "                                  to_cuda=True,\n",
    "                                  requires_grad=True)\n",
    "\n",
    "observe_u = numpy_to_tensor(observe_u,\n",
    "                            var_name=\"observe_u\",\n",
    "                            value_range_dim=True,\n",
    "                            to_torch=True,\n",
    "                            to_cuda=True,\n",
    "                            requires_grad=True)\n",
    "\n",
    "observe_data_x_inside = observe_data[:, 0:1]\n",
    "observe_data_t_inside = observe_data[:, 1:2]"
   ]
  },
  {
   "cell_type": "code",
   "execution_count": 10,
   "id": "f53eba1d",
   "metadata": {
    "ExecuteTime": {
     "end_time": "2025-05-28T00:49:07.186405Z",
     "start_time": "2025-05-28T00:49:07.173848Z"
    }
   },
   "outputs": [
    {
     "name": "stdout",
     "output_type": "stream",
     "text": [
      "test_data: Column 0: range from 0.00015372660456055158 to 3.141307348425438\n",
      "test_data: Column 1: range from 5.933244265166393e-06 to 0.9999791490405054\n",
      "test_u: Column 0: range from -0.33061157677273223 to 0.3306427744135542\n",
      "test_u: Column 1: range from 0.00016703260357809924 to 1.5707671842890616\n"
     ]
    }
   ],
   "source": [
    "np.random.seed(5678)\n",
    "N_test_number = 10000\n",
    "\n",
    "test_data = lb + (la - lb) * lhs(2, N_test_number)\n",
    "test_alpha = exact_alpha(test_data)\n",
    "test_deta = exact_beta(test_data)\n",
    "test_u = np.concatenate((test_alpha, test_deta), axis=1)\n",
    "\n",
    "test_data = numpy_to_tensor(test_data,\n",
    "                            var_name=\"test_data\",\n",
    "                            value_range_dim=True,\n",
    "                            to_torch=True,\n",
    "                            to_cuda=True,\n",
    "                            requires_grad=True)\n",
    "\n",
    "test_u = numpy_to_tensor(test_u,\n",
    "                         var_name=\"test_u\",\n",
    "                         value_range_dim=True,\n",
    "                         to_torch=True,\n",
    "                         to_cuda=True,\n",
    "                         requires_grad=True)\n",
    "\n",
    "test_data_x_inside = test_data[:, 0:1]\n",
    "test_data_t_inside = test_data[:, 1:2]"
   ]
  },
  {
   "cell_type": "code",
   "execution_count": 11,
   "id": "04e4b5f1",
   "metadata": {
    "ExecuteTime": {
     "end_time": "2025-05-28T00:49:07.192323Z",
     "start_time": "2025-05-28T00:49:07.188412Z"
    }
   },
   "outputs": [
    {
     "name": "stdout",
     "output_type": "stream",
     "text": [
      "The number of observational data J: 50\n"
     ]
    }
   ],
   "source": [
    "print('The number of observational data J:', len(observe_u))"
   ]
  },
  {
   "cell_type": "code",
   "execution_count": 12,
   "id": "0a21764b",
   "metadata": {
    "ExecuteTime": {
     "end_time": "2025-05-28T00:49:07.200905Z",
     "start_time": "2025-05-28T00:49:07.194746Z"
    }
   },
   "outputs": [],
   "source": [
    "def get_loss_f_1(x_grad, t_grad, PINNs, C, return_sequence='not'):\n",
    "    \n",
    "    E_inside = PINNs(torch.cat((x_grad,t_grad),dim=1))\n",
    "    \n",
    "    E_alpha = E_inside[:,0:1]\n",
    "    E_beta = E_inside[:,1:2]\n",
    "\n",
    "    alpha_tt = compute_higher_order_derivatives(E_alpha, [t_grad,t_grad])\n",
    "    alpha_x = compute_higher_order_derivatives(E_alpha, [x_grad])\n",
    "    alpha_xx = compute_higher_order_derivatives(alpha_x, [x_grad])\n",
    "    \n",
    "    beta_tt = compute_higher_order_derivatives(E_beta, [t_grad,t_grad])\n",
    "    beta_x = compute_higher_order_derivatives(E_beta, [x_grad])\n",
    "    beta_xx = compute_higher_order_derivatives(beta_x, [x_grad])\n",
    "    \n",
    "    g = torch.cos(t_grad) - torch.pi/2 * torch.sin(x_grad) * torch.cos(t_grad)\n",
    "    \n",
    "    loss_f_1_sequence = C * alpha_tt - alpha_xx + (E_alpha - beta_x)\n",
    "    loss_f_1_squared_sequence = torch.square(loss_f_1_sequence)\n",
    "\n",
    "    loss_f_2_sequence = beta_tt + alpha_x - beta_xx - g\n",
    "    loss_f_2_squared_sequence = torch.square(loss_f_2_sequence)\n",
    "\n",
    "    if return_sequence == 'yes':\n",
    "        return loss_f_1_squared_sequence, loss_f_2_squared_sequence\n",
    "    else:\n",
    "        return torch.mean(loss_f_1_squared_sequence) + torch.mean(loss_f_2_squared_sequence)"
   ]
  },
  {
   "cell_type": "code",
   "execution_count": 13,
   "id": "63cf59db",
   "metadata": {
    "ExecuteTime": {
     "end_time": "2025-05-28T00:49:07.212353Z",
     "start_time": "2025-05-28T00:49:07.203113Z"
    }
   },
   "outputs": [],
   "source": [
    "def get_loss_bound_1(x_bound_input, x_bound_t_zero_input, t_bound_input, PINNs, C):\n",
    "\n",
    "    E_bound_x_zero = PINNs(torch.cat((x_bound_input,x_bound_t_zero_input),axis=1))# u(x,0)\n",
    "    \n",
    "    alpha_bound_x_zero = E_bound_x_zero[:,0:1]  # alpha(x,0)\n",
    "    alpha_bound_x_zero_dt = compute_higher_order_derivatives(alpha_bound_x_zero, \n",
    "                                                            [x_bound_t_zero_input]) # alpha_t(x,0)\n",
    "\n",
    "    beta_bound_x_zero = E_bound_x_zero[:,1:2] # beta(x,0)\n",
    "    beta_bound_x_zero_dt = compute_higher_order_derivatives(beta_bound_x_zero, \n",
    "                                                     [x_bound_t_zero_input]) # beta_t(x,0)\n",
    "        \n",
    "    loss_bound_x_a = alpha_bound_x_zero-(torch.pi/2)*torch.cos(x_bound_input)-(x_bound_input-torch.pi/2)\n",
    "    loss_bound_x_b = alpha_bound_x_zero_dt-torch.zeros_like(alpha_bound_x_zero_dt)\n",
    "    loss_bound_x_c = beta_bound_x_zero-(torch.pi/2)*torch.sin(x_bound_input)\n",
    "    loss_bound_x_d = beta_bound_x_zero_dt-torch.zeros_like(beta_bound_x_zero_dt)\n",
    "    \n",
    "    loss_bound_x = torch.mean(torch.square(loss_bound_x_a))+\\\n",
    "                   torch.mean(torch.square(loss_bound_x_b))+\\\n",
    "                   torch.mean(torch.square(loss_bound_x_c))+\\\n",
    "                   torch.mean(torch.square(loss_bound_x_d))\n",
    " \n",
    "    E_bound_zero_t = PINNs(torch.cat((torch.zeros_like(t_bound_input),t_bound_input),axis=1)) #u(0,t)\n",
    "    alpha_zero_t = E_bound_zero_t[:,0:1]  # alpha(0,t)\n",
    "    beta_t = E_bound_zero_t[:,1:2] # beta(0,t)\n",
    "    \n",
    "    E_bound_pi_t = PINNs(torch.cat((torch.ones_like(t_bound_input)*torch.pi,t_bound_input),axis=1)) #u(pi,t)\n",
    "    alpha_pi_t = E_bound_pi_t[:,0:1]  # alpha(pi,t)\n",
    "    beta_pi_t = E_bound_pi_t[:,1:2] # beta(pi,t)\n",
    "    \n",
    "    loss_bound_t = torch.mean(torch.square(alpha_zero_t))+\\\n",
    "                   torch.mean(torch.square(beta_t))+\\\n",
    "                   torch.mean(torch.square(alpha_pi_t))+\\\n",
    "                   torch.mean(torch.square(beta_pi_t))\n",
    "    \n",
    "    loss_bound_value = loss_bound_x+loss_bound_t\n",
    "    \n",
    "    return loss_bound_value"
   ]
  },
  {
   "cell_type": "code",
   "execution_count": 14,
   "id": "70e26c5d",
   "metadata": {
    "ExecuteTime": {
     "end_time": "2025-05-28T00:49:07.218743Z",
     "start_time": "2025-05-28T00:49:07.214956Z"
    }
   },
   "outputs": [],
   "source": [
    "x_inside_all = torch.cat((x_inside,observe_data[:,0:1]),dim=0)\n",
    "t_inside_all = torch.cat((t_inside,observe_data[:,1:2]),dim=0)"
   ]
  },
  {
   "cell_type": "code",
   "execution_count": 15,
   "id": "2ba32de5",
   "metadata": {
    "ExecuteTime": {
     "end_time": "2025-05-28T00:49:07.225287Z",
     "start_time": "2025-05-28T00:49:07.221325Z"
    }
   },
   "outputs": [],
   "source": [
    "data_inputs = {\n",
    "    'x_inside_all': x_inside_all,\n",
    "    't_inside_all': t_inside_all,\n",
    "    'x_inside': x_inside,\n",
    "    't_inside': t_inside,\n",
    "    'x_bound' : x_bound,\n",
    "    'x_bound_t_zero' : x_bound_t_zero,\n",
    "    't_bound' : t_bound,\n",
    "    'observe_data': observe_data,\n",
    "    'observe_u': observe_u,\n",
    "    'observe_clear_u': observe_clear_u,\n",
    "    'observe_data_x_inside': observe_data_x_inside,\n",
    "    'observe_data_t_inside': observe_data_t_inside,\n",
    "    'test_data': test_data,\n",
    "    'test_u': test_u,\n",
    "    'test_data_x_inside': test_data_x_inside,\n",
    "    'test_data_t_inside': test_data_t_inside,\n",
    "    'C1': None,\n",
    "}"
   ]
  },
  {
   "cell_type": "code",
   "execution_count": 16,
   "id": "7fd9e917",
   "metadata": {
    "ExecuteTime": {
     "end_time": "2025-05-28T00:49:07.230363Z",
     "start_time": "2025-05-28T00:49:07.227675Z"
    }
   },
   "outputs": [],
   "source": [
    "#Paper reproduction\n",
    "random_seed_set = 1234\n",
    "set_random_seed(random_seed_set)"
   ]
  },
  {
   "cell_type": "code",
   "execution_count": 17,
   "id": "7ce9c280",
   "metadata": {
    "ExecuteTime": {
     "end_time": "2025-05-28T00:49:07.240915Z",
     "start_time": "2025-05-28T00:49:07.232522Z"
    }
   },
   "outputs": [],
   "source": [
    "net_settings_for_PINNs_1 = NetSetting(input_dims=2,\n",
    "                                     hidden_neurons_list=[50] * 4,\n",
    "                                     output_dims=2,\n",
    "                                     hidden_activation='tanh',\n",
    "                                     output_activation=None,\n",
    "                                     initializer_method='xavier')\n",
    "\n",
    "PINNs_1 = get_mlp_pinn(net_settings_for_PINNs_1)\n",
    "PINNs_1.cuda()\n",
    "\n",
    "initialize_weights(PINNs_1, net_settings_for_PINNs_1.initializer_method)\n",
    "\n",
    "optimizer1 = optim.Adam(PINNs_1.parameters(),\n",
    "                        lr=0.001,\n",
    "                        betas=(0.9, 0.999),\n",
    "                        eps=1e-08,\n",
    "                        weight_decay=0,\n",
    "                        amsgrad=False)\n",
    "\n",
    "C1 = torch.tensor(0.0, requires_grad=True)\n",
    "optimizer1.add_param_group({'params': [C1], 'lr': 0.001})"
   ]
  },
  {
   "cell_type": "code",
   "execution_count": 18,
   "id": "aa19ed05",
   "metadata": {
    "ExecuteTime": {
     "end_time": "2025-05-28T01:06:35.501857Z",
     "start_time": "2025-05-28T00:49:07.243127Z"
    },
    "code_folding": [],
    "scrolled": false
   },
   "outputs": [
    {
     "name": "stdout",
     "output_type": "stream",
     "text": [
      "Iterations: 0, train_loss: 3.28279328, test_loss: 0.751280\n",
      "Estimated parameter: tensor(0., requires_grad=True)\n",
      "Iterations: 1000, train_loss: 0.02992282, test_loss: 0.028394\n",
      "Estimated parameter: tensor(0.6552, requires_grad=True)\n",
      "Iterations: 2000, train_loss: 0.02905783, test_loss: 0.027224\n",
      "Estimated parameter: tensor(0.9213, requires_grad=True)\n",
      "Iterations: 3000, train_loss: 0.02881717, test_loss: 0.026961\n",
      "Estimated parameter: tensor(0.9969, requires_grad=True)\n",
      "Iterations: 4000, train_loss: 0.02868081, test_loss: 0.027108\n",
      "Estimated parameter: tensor(1.0206, requires_grad=True)\n",
      "Iterations: 5000, train_loss: 0.02858897, test_loss: 0.026592\n",
      "Estimated parameter: tensor(1.0303, requires_grad=True)\n",
      "Iterations: 6000, train_loss: 0.02848508, test_loss: 0.027583\n",
      "Estimated parameter: tensor(1.0353, requires_grad=True)\n",
      "Iterations: 7000, train_loss: 0.02840217, test_loss: 0.027679\n",
      "Estimated parameter: tensor(1.0399, requires_grad=True)\n",
      "Iterations: 8000, train_loss: 0.02830858, test_loss: 0.027439\n",
      "Estimated parameter: tensor(1.0438, requires_grad=True)\n",
      "Iterations: 9000, train_loss: 0.02833389, test_loss: 0.024764\n",
      "Estimated parameter: tensor(1.0485, requires_grad=True)\n",
      "Iterations: 10000, train_loss: 0.02812982, test_loss: 0.027807\n",
      "Estimated parameter: tensor(1.0562, requires_grad=True)\n",
      "Iterations: 11000, train_loss: 0.03115674, test_loss: 0.036509\n",
      "Estimated parameter: tensor(1.0631, requires_grad=True)\n",
      "Iterations: 12000, train_loss: 0.02791575, test_loss: 0.028484\n",
      "Estimated parameter: tensor(1.0673, requires_grad=True)\n",
      "Iterations: 13000, train_loss: 0.02778500, test_loss: 0.028389\n",
      "Estimated parameter: tensor(1.0674, requires_grad=True)\n",
      "Iterations: 14000, train_loss: 0.02772969, test_loss: 0.028750\n",
      "Estimated parameter: tensor(1.0581, requires_grad=True)\n",
      "Iterations: 15000, train_loss: 0.02747509, test_loss: 0.028854\n",
      "Estimated parameter: tensor(1.0486, requires_grad=True)\n",
      "Iterations: 16000, train_loss: 0.02733492, test_loss: 0.029428\n",
      "Estimated parameter: tensor(1.0472, requires_grad=True)\n",
      "Iterations: 17000, train_loss: 0.02755193, test_loss: 0.032763\n",
      "Estimated parameter: tensor(1.0436, requires_grad=True)\n",
      "Iterations: 18000, train_loss: 0.02714127, test_loss: 0.029411\n",
      "Estimated parameter: tensor(1.0424, requires_grad=True)\n",
      "Iterations: 19000, train_loss: 0.02787657, test_loss: 0.028040\n",
      "Estimated parameter: tensor(1.0455, requires_grad=True)\n",
      "Final result: train_loss: 0.02735853, test_loss: 0.027107\n",
      "Estimated parameter: tensor(1.0520, requires_grad=True)\n"
     ]
    }
   ],
   "source": [
    "nIter1 = 20000\n",
    "it = 0\n",
    "training_recorder_1 = training_recorder()\n",
    "\n",
    "best_loss_all = 100\n",
    "best_test_loss = 100 \n",
    "\n",
    "while it < nIter1:\n",
    "    #########loss f#########\n",
    "    loss_f = get_loss_f_1(x_inside_all, t_inside_all, PINNs_1, C1)\n",
    "   \n",
    "    #########loss bound#########\n",
    "    loss_bound = get_loss_bound_1(x_bound, x_bound_t_zero, t_bound, PINNs_1, C1)\n",
    "\n",
    "    #########loss T noisy observation#########\n",
    "    E_observation = PINNs_1(observe_data)\n",
    "    loss_T_observation_noisy = torch.mean(torch.square(E_observation - observe_u))\n",
    "    \n",
    "    #########loss PI#########\n",
    "    loss_all = loss_f + loss_bound + 10 * loss_T_observation_noisy \n",
    "\n",
    "    data_inputs['C1'] = C1\n",
    "    test_loss  = training_calculator(PINNs_1, get_loss_f_1,\n",
    "                                     training_recorder_1, data_inputs)\n",
    "    \n",
    "    if it % 1000 == 0:\n",
    "        print(f\"Iterations: {it}, train_loss: {loss_all.item():.8f}, test_loss: {test_loss:.6f}\")\n",
    "        print('Estimated parameter:',C1)\n",
    "    \n",
    "    optimizer1.zero_grad()\n",
    "    loss_all.backward()\n",
    "    optimizer1.step()\n",
    "    \n",
    "    it = it + 1\n",
    "    \n",
    "print(f\"Final result: train_loss: {loss_all.item():.8f}, test_loss: {test_loss:.6f}\")\n",
    "print('Estimated parameter:',C1)\n",
    "\n",
    "output_dir = '../experimental_data/Timoshenko_beam/original_N2/'\n",
    "training_recorder_1.save(output_dir)"
   ]
  },
  {
   "cell_type": "code",
   "execution_count": null,
   "id": "40e506a4",
   "metadata": {},
   "outputs": [],
   "source": []
  },
  {
   "cell_type": "code",
   "execution_count": null,
   "id": "a3076e01",
   "metadata": {},
   "outputs": [],
   "source": []
  },
  {
   "cell_type": "code",
   "execution_count": null,
   "id": "b30bd33b",
   "metadata": {},
   "outputs": [],
   "source": []
  }
 ],
 "metadata": {
  "kernelspec": {
   "display_name": "GA-PINNs",
   "language": "python",
   "name": "gapings"
  },
  "language_info": {
   "codemirror_mode": {
    "name": "ipython",
    "version": 3
   },
   "file_extension": ".py",
   "mimetype": "text/x-python",
   "name": "python",
   "nbconvert_exporter": "python",
   "pygments_lexer": "ipython3",
   "version": "3.7.12"
  },
  "toc": {
   "base_numbering": 1,
   "nav_menu": {},
   "number_sections": true,
   "sideBar": true,
   "skip_h1_title": false,
   "title_cell": "Table of Contents",
   "title_sidebar": "Contents",
   "toc_cell": false,
   "toc_position": {
    "height": "calc(100% - 180px)",
    "left": "10px",
    "top": "150px",
    "width": "172.733px"
   },
   "toc_section_display": true,
   "toc_window_display": true
  },
  "varInspector": {
   "cols": {
    "lenName": 16,
    "lenType": 16,
    "lenVar": 40
   },
   "kernels_config": {
    "python": {
     "delete_cmd_postfix": "",
     "delete_cmd_prefix": "del ",
     "library": "var_list.py",
     "varRefreshCmd": "print(var_dic_list())"
    },
    "r": {
     "delete_cmd_postfix": ") ",
     "delete_cmd_prefix": "rm(",
     "library": "var_list.r",
     "varRefreshCmd": "cat(var_dic_list()) "
    }
   },
   "types_to_exclude": [
    "module",
    "function",
    "builtin_function_or_method",
    "instance",
    "_Feature"
   ],
   "window_display": false
  }
 },
 "nbformat": 4,
 "nbformat_minor": 5
}
