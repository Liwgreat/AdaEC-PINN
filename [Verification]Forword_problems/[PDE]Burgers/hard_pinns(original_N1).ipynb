{
 "cells": [
  {
   "cell_type": "code",
   "execution_count": 1,
   "id": "d6ca6383",
   "metadata": {
    "ExecuteTime": {
     "end_time": "2025-05-23T07:05:07.403994Z",
     "start_time": "2025-05-23T07:05:05.966680Z"
    }
   },
   "outputs": [],
   "source": [
    "import random\n",
    "import numpy as np\n",
    "import scipy.io\n",
    "from pyDOE import lhs\n",
    "\n",
    "import torch\n",
    "from torch import nn, optim, autograd\n",
    "\n",
    "import torch.nn.init as init\n",
    "from torch.nn import functional as F\n",
    "\n",
    "import matplotlib as mpl\n",
    "import matplotlib.pyplot as plt\n",
    "import matplotlib.gridspec as gridspec\n",
    "%matplotlib inline\n",
    "from mpl_toolkits.axes_grid1 import make_axes_locatable\n",
    "\n",
    "from utils_training_base import *\n",
    "\n",
    "#Paper reproduction\n",
    "random_seed_set = 1234\n",
    "set_random_seed(random_seed_set)"
   ]
  },
  {
   "cell_type": "code",
   "execution_count": 2,
   "id": "1f8bae9a",
   "metadata": {
    "ExecuteTime": {
     "end_time": "2025-05-23T07:05:10.870375Z",
     "start_time": "2025-05-23T07:05:07.407074Z"
    }
   },
   "outputs": [
    {
     "name": "stdout",
     "output_type": "stream",
     "text": [
      "x_inside: Column 0: range from -0.9999616961099242 to 0.9999978533771987\n",
      "t_inside: Column 0: range from 6.22108771039832e-05 to 0.9999811550774386\n"
     ]
    }
   ],
   "source": [
    "N_train = 10000\n",
    "N_bound = 200\n",
    "\n",
    "# x,t\n",
    "la = np.array([1, 1])\n",
    "lb = np.array([-1, 0])\n",
    "\n",
    "traindata = lb + (la - lb) * lhs(2, N_train)\n",
    "x_inside = traindata[:, 0:1]\n",
    "t_inside = traindata[:, 1:2]\n",
    "\n",
    "x_inside = numpy_to_tensor(x_inside,\n",
    "                           var_name=\"x_inside\",\n",
    "                           value_range_dim=True,\n",
    "                           to_torch=True,\n",
    "                           to_cuda=True,\n",
    "                           requires_grad=True)\n",
    "\n",
    "t_inside = numpy_to_tensor(t_inside,\n",
    "                           var_name=\"t_inside\",\n",
    "                           value_range_dim=True,\n",
    "                           to_torch=True,\n",
    "                           to_cuda=True,\n",
    "                           requires_grad=True)"
   ]
  },
  {
   "cell_type": "code",
   "execution_count": 3,
   "id": "84b23117",
   "metadata": {
    "ExecuteTime": {
     "end_time": "2025-05-23T07:05:10.881111Z",
     "start_time": "2025-05-23T07:05:10.874664Z"
    }
   },
   "outputs": [
    {
     "name": "stdout",
     "output_type": "stream",
     "text": [
      "t: (100, 1)\n",
      "x: (256, 1)\n",
      "Exact_u: (256, 100)\n"
     ]
    }
   ],
   "source": [
    "from scipy.io import loadmat\n",
    "\n",
    "data = loadmat('./burgers_shock.mat')\n",
    "\n",
    "t_exact = data['t'].flatten()[:,None]\n",
    "\n",
    "x_exact = data['x'].flatten()[:,None]\n",
    "\n",
    "Exact_u = np.real(data['usol'])\n",
    "\n",
    "print('t:',t_exact.shape)\n",
    "print('x:',x_exact.shape)\n",
    "print('Exact_u:',Exact_u.shape)"
   ]
  },
  {
   "cell_type": "code",
   "execution_count": 4,
   "id": "a83803b5",
   "metadata": {
    "ExecuteTime": {
     "end_time": "2025-05-23T07:05:10.888509Z",
     "start_time": "2025-05-23T07:05:10.883211Z"
    }
   },
   "outputs": [
    {
     "name": "stdout",
     "output_type": "stream",
     "text": [
      "T_exact: (256, 100)\n",
      "X_exact: (256, 100)\n"
     ]
    }
   ],
   "source": [
    "T_exact, X_exact = np.meshgrid(t_exact,x_exact)\n",
    "print('T_exact:',T_exact.shape)\n",
    "print('X_exact:',X_exact.shape)\n",
    "\n",
    "T_exact_flatten = T_exact.flatten()[:,None]\n",
    "X_exact_flatten = X_exact.flatten()[:,None]\n",
    "data_star = np.hstack((X_exact_flatten,T_exact_flatten))\n",
    "\n",
    "u_star = Exact_u.flatten()[:,None]  "
   ]
  },
  {
   "cell_type": "code",
   "execution_count": 5,
   "id": "7cf7d6fe",
   "metadata": {
    "ExecuteTime": {
     "end_time": "2025-05-23T07:05:10.896706Z",
     "start_time": "2025-05-23T07:05:10.890716Z"
    }
   },
   "outputs": [
    {
     "data": {
      "text/plain": [
       "(25600, 2)"
      ]
     },
     "execution_count": 5,
     "metadata": {},
     "output_type": "execute_result"
    }
   ],
   "source": [
    "data_star.shape"
   ]
  },
  {
   "cell_type": "code",
   "execution_count": 6,
   "id": "9725cb76",
   "metadata": {
    "ExecuteTime": {
     "end_time": "2025-05-23T07:05:11.200523Z",
     "start_time": "2025-05-23T07:05:10.898752Z"
    }
   },
   "outputs": [
    {
     "data": {
      "image/png": "[encoded data removed]",
      "text/plain": [
       "<Figure size 600x200 with 2 Axes>"
      ]
     },
     "metadata": {},
     "output_type": "display_data"
    }
   ],
   "source": [
    "fig, ax1 = plt.subplots(1, 1, figsize=(6, 2))\n",
    "\n",
    "cmap = plt.get_cmap('jet')\n",
    "heatmap1 = ax1.imshow(Exact_u,\n",
    "                      interpolation='nearest',\n",
    "                      cmap='rainbow',\n",
    "                      extent=[0, 1, -1, 1],\n",
    "                      origin='lower',\n",
    "                      aspect='auto')\n",
    "\n",
    "ax1.set_title(r'$u$', fontsize=15)\n",
    "ax1.set_xlabel(r'$t$', fontsize=15)\n",
    "ax1.set_ylabel(r'$x$', fontsize=15)\n",
    "\n",
    "# Add a color bar\n",
    "cbar = fig.colorbar(heatmap1, ax=ax1, fraction=0.15, pad=0.04, aspect=10)\n",
    "cbar.set_label(r'Value of $u$', fontsize=12)\n",
    "\n",
    "plt.show()"
   ]
  },
  {
   "cell_type": "code",
   "execution_count": 7,
   "id": "2de1714d",
   "metadata": {
    "ExecuteTime": {
     "end_time": "2025-05-23T07:05:11.213593Z",
     "start_time": "2025-05-23T07:05:11.202811Z"
    }
   },
   "outputs": [
    {
     "name": "stdout",
     "output_type": "stream",
     "text": [
      "observe_data: Column 0: range from -0.9921568627450981 to 1.0\n",
      "observe_data: Column 1: range from 0.0 to 0.99\n",
      "observe_clear_u: Column 0: range from -0.99772670660646 to 0.9984270657408356\n",
      "observe_u: Column 0: range from -1.1768691197549743 to 1.05044266436092\n"
     ]
    }
   ],
   "source": [
    "random_seed = 1234\n",
    "np.random.seed(random_seed)\n",
    "number_observe_data = 100\n",
    "\n",
    "index_t = (lhs(1, number_observe_data)) * len(t_exact)\n",
    "index_t = np.floor(index_t).reshape(number_observe_data, ).astype(int)\n",
    "observe_t = t_exact[index_t]\n",
    "\n",
    "index_x = (lhs(1, number_observe_data)) * len(x_exact)\n",
    "index_x = np.floor(index_x).reshape(number_observe_data, ).astype(int)\n",
    "observe_x = x_exact[index_x]\n",
    "\n",
    "observe_data = np.hstack((observe_x, observe_t))\n",
    "observe_clear_u = Exact_u[index_x, index_t].reshape(-1, 1)\n",
    "\n",
    "noise_nu = 0.0\n",
    "noise_std = 0.1\n",
    "noise_u = np.random.normal(loc=noise_nu, scale=noise_std, size=observe_clear_u.shape)\n",
    "observe_u = observe_clear_u + noise_u\n",
    "\n",
    "observe_data = numpy_to_tensor(observe_data,\n",
    "                               var_name=\"observe_data\",\n",
    "                               value_range_dim=True,\n",
    "                               to_torch=True,\n",
    "                               to_cuda=True,\n",
    "                               requires_grad=True)\n",
    "\n",
    "observe_clear_u = numpy_to_tensor(observe_clear_u,\n",
    "                                  var_name=\"observe_clear_u\",\n",
    "                                  value_range_dim=True,\n",
    "                                  to_torch=True,\n",
    "                                  to_cuda=True,\n",
    "                                  requires_grad=True)\n",
    "\n",
    "observe_u = numpy_to_tensor(observe_u,\n",
    "                            var_name=\"observe_u\",\n",
    "                            value_range_dim=True,\n",
    "                            to_torch=True,\n",
    "                            to_cuda=True,\n",
    "                            requires_grad=True)\n",
    "\n",
    "observe_data_x_inside = observe_data[:, 0:1]\n",
    "observe_data_t_inside = observe_data[:, 1:2]"
   ]
  },
  {
   "cell_type": "code",
   "execution_count": 8,
   "id": "e81a77c5",
   "metadata": {
    "ExecuteTime": {
     "end_time": "2025-05-23T07:05:11.229131Z",
     "start_time": "2025-05-23T07:05:11.215843Z"
    }
   },
   "outputs": [
    {
     "name": "stdout",
     "output_type": "stream",
     "text": [
      "test_data: Column 0: range from -1.0 to 1.0\n",
      "test_data: Column 1: range from 0.0 to 0.99\n",
      "test_u: Column 0: range from -0.9993678255737524 to 0.9999810273487268\n"
     ]
    }
   ],
   "source": [
    "np.random.seed(5678)\n",
    "n_test_data = 10000\n",
    "\n",
    "index_t = (lhs(1, n_test_data)) * len(t_exact)\n",
    "index_t = np.floor(index_t).reshape(n_test_data, ).astype(int)\n",
    "test_data_t = t_exact[index_t]\n",
    "\n",
    "index_x = (lhs(1, n_test_data)) * len(x_exact)\n",
    "index_x = np.floor(index_x).reshape(n_test_data, ).astype(int)\n",
    "test_data_x = x_exact[index_x]\n",
    "\n",
    "test_data = np.hstack((test_data_x, test_data_t))\n",
    "test_u = Exact_u[index_x, index_t].reshape(-1, 1)\n",
    "\n",
    "test_data = numpy_to_tensor(test_data,\n",
    "                            var_name=\"test_data\",\n",
    "                            value_range_dim=True,\n",
    "                            to_torch=True,\n",
    "                            to_cuda=True,\n",
    "                            requires_grad=True)\n",
    "\n",
    "test_u = numpy_to_tensor(test_u,\n",
    "                         var_name=\"test_u\",\n",
    "                         value_range_dim=True,\n",
    "                         to_torch=True,\n",
    "                         to_cuda=True,\n",
    "                         requires_grad=True)\n",
    "\n",
    "test_data_x_inside = test_data[:, 0:1]\n",
    "test_data_t_inside = test_data[:, 1:2]"
   ]
  },
  {
   "cell_type": "code",
   "execution_count": 9,
   "id": "175dab01",
   "metadata": {
    "ExecuteTime": {
     "end_time": "2025-05-23T07:05:11.237185Z",
     "start_time": "2025-05-23T07:05:11.232855Z"
    }
   },
   "outputs": [
    {
     "name": "stdout",
     "output_type": "stream",
     "text": [
      "The number of observational data J: 100\n"
     ]
    }
   ],
   "source": [
    "print('The number of observational data J:', len(observe_u))"
   ]
  },
  {
   "cell_type": "code",
   "execution_count": 10,
   "id": "0986c602",
   "metadata": {
    "ExecuteTime": {
     "end_time": "2025-05-23T07:05:11.243060Z",
     "start_time": "2025-05-23T07:05:11.239227Z"
    }
   },
   "outputs": [],
   "source": [
    "def output_transform(data_input, u_input):\n",
    "    \n",
    "    x_in = data_input[:, 0:1]\n",
    "    t_in = data_input[:, 1:2]\n",
    "\n",
    "    return (1 - x_in) * (1 + x_in) * (1 - torch.exp(-t_in)) * u_input - torch.sin(np.pi * x_in)"
   ]
  },
  {
   "cell_type": "code",
   "execution_count": 11,
   "id": "abf8aa9c",
   "metadata": {
    "ExecuteTime": {
     "end_time": "2025-05-23T07:05:11.250393Z",
     "start_time": "2025-05-23T07:05:11.245049Z"
    }
   },
   "outputs": [],
   "source": [
    "def get_loss_f_1(x_grad, t_grad, PINNs, C, return_sequence='not'):\n",
    "\n",
    "    ########### loss f  ###########\n",
    "    E_inside = PINNs(torch.cat((x_grad, t_grad), dim=1))\n",
    "    E_inside = output_transform(torch.cat((x_grad, t_grad), dim=1), E_inside)\n",
    "\n",
    "    E_x = compute_higher_order_derivatives(E_inside, [x_grad])\n",
    "    E_xx = compute_higher_order_derivatives(E_x, [x_grad])\n",
    "    E_t = compute_higher_order_derivatives(E_inside, [t_grad])\n",
    "\n",
    "    loss_term = E_t + E_inside * E_x - C * (E_xx)\n",
    "\n",
    "    if return_sequence == 'yes':\n",
    "        return torch.square(loss_term)\n",
    "    else:\n",
    "        return torch.mean(torch.square(loss_term))"
   ]
  },
  {
   "cell_type": "code",
   "execution_count": 12,
   "id": "3fc1426f",
   "metadata": {
    "ExecuteTime": {
     "end_time": "2025-05-23T07:05:11.255988Z",
     "start_time": "2025-05-23T07:05:11.252423Z"
    }
   },
   "outputs": [],
   "source": [
    "x_inside_all = torch.cat((x_inside,observe_data[:,0:1]),dim=0)\n",
    "t_inside_all = torch.cat((t_inside,observe_data[:,1:2]),dim=0)"
   ]
  },
  {
   "cell_type": "code",
   "execution_count": 13,
   "id": "6d87e725",
   "metadata": {
    "ExecuteTime": {
     "end_time": "2025-05-23T07:05:11.261962Z",
     "start_time": "2025-05-23T07:05:11.257774Z"
    }
   },
   "outputs": [],
   "source": [
    "data_inputs = {\n",
    "    'x_inside_all': x_inside_all,\n",
    "    't_inside_all': t_inside_all,\n",
    "    'x_inside': x_inside,\n",
    "    't_inside': t_inside,\n",
    "    'observe_data': observe_data,\n",
    "    'observe_u': observe_u,\n",
    "    'observe_clear_u': observe_clear_u,\n",
    "    'observe_data_x_inside': observe_data_x_inside,\n",
    "    'observe_data_t_inside': observe_data_t_inside,\n",
    "    'test_data': test_data,\n",
    "    'test_u': test_u,\n",
    "    'test_data_x_inside': test_data_x_inside,\n",
    "    'test_data_t_inside': test_data_t_inside,\n",
    "    'C1': None,\n",
    "}"
   ]
  },
  {
   "cell_type": "code",
   "execution_count": 14,
   "id": "9fd3efc2",
   "metadata": {
    "ExecuteTime": {
     "end_time": "2025-05-23T07:05:11.266903Z",
     "start_time": "2025-05-23T07:05:11.263861Z"
    }
   },
   "outputs": [],
   "source": [
    "#Paper reproduction\n",
    "random_seed_set = 1234\n",
    "set_random_seed(random_seed_set)"
   ]
  },
  {
   "cell_type": "code",
   "execution_count": 15,
   "id": "1d9cc271",
   "metadata": {
    "ExecuteTime": {
     "end_time": "2025-05-23T07:05:11.278596Z",
     "start_time": "2025-05-23T07:05:11.268988Z"
    }
   },
   "outputs": [],
   "source": [
    "net_settings_for_PINNs_1 = NetSetting(input_dims=2,\n",
    "                                     hidden_neurons_list=[20] * 8,\n",
    "                                     output_dims=1,\n",
    "                                     hidden_activation='tanh',\n",
    "                                     output_activation=None,\n",
    "                                     initializer_method='xavier')\n",
    "\n",
    "PINNs_1 = get_mlp_pinn(net_settings_for_PINNs_1)\n",
    "PINNs_1.cuda()\n",
    "\n",
    "initialize_weights(PINNs_1, net_settings_for_PINNs_1.initializer_method)\n",
    "\n",
    "optimizer1 = optim.Adam(PINNs_1.parameters(),\n",
    "                        lr=0.001,\n",
    "                        betas=(0.9, 0.999),\n",
    "                        eps=1e-08,\n",
    "                        weight_decay=0,\n",
    "                        amsgrad=False)\n",
    "\n",
    "C1 = torch.tensor(0.5, requires_grad=True)\n",
    "optimizer1.add_param_group({'params': [C1], 'lr': 0.001})"
   ]
  },
  {
   "cell_type": "code",
   "execution_count": 16,
   "id": "6a1b81da",
   "metadata": {
    "ExecuteTime": {
     "end_time": "2025-05-23T07:13:32.976010Z",
     "start_time": "2025-05-23T07:05:11.280602Z"
    },
    "code_folding": [],
    "scrolled": false
   },
   "outputs": [
    {
     "name": "stdout",
     "output_type": "stream",
     "text": [
      "Iterations: 0, train_loss: 15.14218140, test_loss: 0.590899\n",
      "Estimated parameter: tensor(0.4990, requires_grad=True)\n",
      "Iterations: 1000, train_loss: 0.23230022, test_loss: 0.135461\n",
      "Estimated parameter: tensor(0.0182, requires_grad=True)\n",
      "Iterations: 2000, train_loss: 0.12390422, test_loss: 0.058246\n",
      "Estimated parameter: tensor(0.0050, requires_grad=True)\n",
      "Iterations: 3000, train_loss: 0.11339245, test_loss: 0.045073\n",
      "Estimated parameter: tensor(0.0041, requires_grad=True)\n",
      "Iterations: 4000, train_loss: 0.11906631, test_loss: 0.045807\n",
      "Estimated parameter: tensor(0.0038, requires_grad=True)\n",
      "Iterations: 5000, train_loss: 0.10923770, test_loss: 0.043630\n",
      "Estimated parameter: tensor(0.0036, requires_grad=True)\n",
      "Iterations: 6000, train_loss: 0.10894788, test_loss: 0.042691\n",
      "Estimated parameter: tensor(0.0035, requires_grad=True)\n",
      "Iterations: 7000, train_loss: 0.11024303, test_loss: 0.044393\n",
      "Estimated parameter: tensor(0.0034, requires_grad=True)\n",
      "Iterations: 8000, train_loss: 0.10666779, test_loss: 0.042359\n",
      "Estimated parameter: tensor(0.0034, requires_grad=True)\n",
      "Iterations: 9000, train_loss: 0.10670570, test_loss: 0.041828\n",
      "Estimated parameter: tensor(0.0034, requires_grad=True)\n",
      "Final result: train_loss: 0.10565943, test_loss: 0.042130\n",
      "Estimated parameter: tensor(0.0033, requires_grad=True)\n"
     ]
    }
   ],
   "source": [
    "nIter1 = 10000\n",
    "it = 0\n",
    "training_recorder_1 = training_recorder()\n",
    "\n",
    "while it < nIter1:\n",
    "\n",
    "    #########loss f #########\n",
    "    loss_f = get_loss_f_1(x_inside_all, t_inside_all, PINNs_1, C1)\n",
    "\n",
    "    #########loss T noisy observation#########\n",
    "    E_observation = PINNs_1(observe_data)\n",
    "    E_observation = output_transform(observe_data, E_observation)\n",
    "    loss_T_observation_noisy = torch.mean(torch.square(E_observation - observe_u))\n",
    "\n",
    "    #########loss PI#########\n",
    "    loss_all = loss_f + 10 * loss_T_observation_noisy\n",
    "\n",
    "    optimizer1.zero_grad()\n",
    "    loss_all.backward()\n",
    "    optimizer1.step()\n",
    "\n",
    "    data_inputs['C1'] = C1\n",
    "    test_loss  = training_calculator(PINNs_1, get_loss_f_1,\n",
    "                                     training_recorder_1, data_inputs, output_transform)\n",
    "    \n",
    "    if it % 1000 == 0:\n",
    "        print(f\"Iterations: {it}, train_loss: {loss_all.item():.8f}, test_loss: {test_loss:.6f}\")\n",
    "        print('Estimated parameter:',C1)\n",
    "    \n",
    "    it = it + 1\n",
    "    \n",
    "print(f\"Final result: train_loss: {loss_all.item():.8f}, test_loss: {test_loss:.6f}\")\n",
    "print('Estimated parameter:',C1)\n",
    "\n",
    "output_dir = '../experimental_data/Burgers/original_N1/'\n",
    "training_recorder_1.save(output_dir)"
   ]
  },
  {
   "cell_type": "code",
   "execution_count": null,
   "id": "4cde5a59",
   "metadata": {},
   "outputs": [],
   "source": []
  },
  {
   "cell_type": "code",
   "execution_count": null,
   "id": "3e91eba1",
   "metadata": {},
   "outputs": [],
   "source": []
  }
 ],
 "metadata": {
  "kernelspec": {
   "display_name": "GA-PINNs",
   "language": "python",
   "name": "gapings"
  },
  "language_info": {
   "codemirror_mode": {
    "name": "ipython",
    "version": 3
   },
   "file_extension": ".py",
   "mimetype": "text/x-python",
   "name": "python",
   "nbconvert_exporter": "python",
   "pygments_lexer": "ipython3",
   "version": "3.7.12"
  },
  "toc": {
   "base_numbering": 1,
   "nav_menu": {},
   "number_sections": true,
   "sideBar": true,
   "skip_h1_title": false,
   "title_cell": "Table of Contents",
   "title_sidebar": "Contents",
   "toc_cell": false,
   "toc_position": {
    "height": "calc(100% - 180px)",
    "left": "10px",
    "top": "150px",
    "width": "204.8px"
   },
   "toc_section_display": true,
   "toc_window_display": true
  },
  "varInspector": {
   "cols": {
    "lenName": 16,
    "lenType": 16,
    "lenVar": 40
   },
   "kernels_config": {
    "python": {
     "delete_cmd_postfix": "",
     "delete_cmd_prefix": "del ",
     "library": "var_list.py",
     "varRefreshCmd": "print(var_dic_list())"
    },
    "r": {
     "delete_cmd_postfix": ") ",
     "delete_cmd_prefix": "rm(",
     "library": "var_list.r",
     "varRefreshCmd": "cat(var_dic_list()) "
    }
   },
   "types_to_exclude": [
    "module",
    "function",
    "builtin_function_or_method",
    "instance",
    "_Feature"
   ],
   "window_display": false
  }
 },
 "nbformat": 4,
 "nbformat_minor": 5
}
