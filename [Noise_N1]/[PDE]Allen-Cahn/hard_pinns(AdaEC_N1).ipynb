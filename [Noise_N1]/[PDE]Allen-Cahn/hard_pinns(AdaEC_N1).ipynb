{
 "cells": [
  {
   "cell_type": "code",
   "execution_count": 1,
   "id": "edb77347",
   "metadata": {
    "ExecuteTime": {
     "end_time": "2025-05-26T01:32:55.282396Z",
     "start_time": "2025-05-26T01:32:53.856485Z"
    }
   },
   "outputs": [],
   "source": [
    "import copy\n",
    "import random\n",
    "import numpy as np\n",
    "import scipy.io\n",
    "from pyDOE import lhs\n",
    "\n",
    "import torch\n",
    "from torch import nn, optim, autograd\n",
    "\n",
    "import torch.nn.init as init\n",
    "from torch.nn import functional as F\n",
    "\n",
    "import matplotlib as mpl\n",
    "import matplotlib.pyplot as plt\n",
    "import matplotlib.gridspec as gridspec\n",
    "%matplotlib inline\n",
    "from mpl_toolkits.axes_grid1 import make_axes_locatable\n",
    "\n",
    "from utils_training_EC import *\n",
    "\n",
    "#Paper reproduction\n",
    "random_seed_set = 1234\n",
    "set_random_seed(random_seed_set)"
   ]
  },
  {
   "cell_type": "code",
   "execution_count": 2,
   "id": "337a7923",
   "metadata": {
    "ExecuteTime": {
     "end_time": "2025-05-26T01:32:58.805109Z",
     "start_time": "2025-05-26T01:32:55.285553Z"
    }
   },
   "outputs": [
    {
     "name": "stdout",
     "output_type": "stream",
     "text": [
      "x_inside: Column 0: range from -0.9999233922198485 to 0.9998822478677367\n",
      "t_inside: Column 0: range from 0.0001244217542079664 to 0.9999681727021804\n"
     ]
    }
   ],
   "source": [
    "N_train = 5000\n",
    "N_bound = 200\n",
    "\n",
    "# x,t\n",
    "la = np.array([1, 1])\n",
    "lb = np.array([-1, 0])\n",
    "\n",
    "traindata = lb + (la - lb) * lhs(2, N_train)\n",
    "x_inside = traindata[:, 0:1]\n",
    "t_inside = traindata[:, 1:2]\n",
    "\n",
    "x_inside = numpy_to_tensor(x_inside,\n",
    "                           var_name=\"x_inside\",\n",
    "                           value_range_dim=True,\n",
    "                           to_torch=True,\n",
    "                           to_cuda=True,\n",
    "                           requires_grad=True)\n",
    "\n",
    "t_inside = numpy_to_tensor(t_inside,\n",
    "                           var_name=\"t_inside\",\n",
    "                           value_range_dim=True,\n",
    "                           to_torch=True,\n",
    "                           to_cuda=True,\n",
    "                           requires_grad=True)"
   ]
  },
  {
   "cell_type": "code",
   "execution_count": 3,
   "id": "5415d964",
   "metadata": {
    "ExecuteTime": {
     "end_time": "2025-05-26T01:32:58.817495Z",
     "start_time": "2025-05-26T01:32:58.808891Z"
    }
   },
   "outputs": [
    {
     "name": "stdout",
     "output_type": "stream",
     "text": [
      "t_exact: (101, 1)\n",
      "x_exact: (201, 1)\n",
      "Exact_u: (101, 201)\n"
     ]
    }
   ],
   "source": [
    "from scipy.io import loadmat\n",
    "\n",
    "data = loadmat(\"usol_D_0.001_k_5.mat\")\n",
    "\n",
    "t_exact = data[\"t\"].reshape(-1, 1)\n",
    "\n",
    "x_exact = data[\"x\"].reshape(-1, 1)\n",
    "\n",
    "Exact_u = data[\"u\"]\n",
    "\n",
    "print('t_exact:', t_exact.shape)\n",
    "print('x_exact:', x_exact.shape)\n",
    "print('Exact_u:', Exact_u.shape)"
   ]
  },
  {
   "cell_type": "code",
   "execution_count": 4,
   "id": "16a91509",
   "metadata": {
    "ExecuteTime": {
     "end_time": "2025-05-26T01:32:58.826909Z",
     "start_time": "2025-05-26T01:32:58.820725Z"
    }
   },
   "outputs": [
    {
     "name": "stdout",
     "output_type": "stream",
     "text": [
      "X_exact: (101, 201)\n",
      "T_exact: (101, 201)\n"
     ]
    }
   ],
   "source": [
    "X_exact, T_exact = np.meshgrid(x_exact, t_exact)\n",
    "print('X_exact:', X_exact.shape)\n",
    "print('T_exact:', T_exact.shape)\n",
    "\n",
    "X_exact_flatten = X_exact.flatten()[:, None]\n",
    "T_exact_flatten = T_exact.flatten()[:, None]\n",
    "data_star = np.hstack((X_exact_flatten, T_exact_flatten))\n",
    "\n",
    "u_star = Exact_u.flatten()[:, None]"
   ]
  },
  {
   "cell_type": "code",
   "execution_count": 5,
   "id": "7fbee49d",
   "metadata": {
    "ExecuteTime": {
     "end_time": "2025-05-26T01:32:58.835204Z",
     "start_time": "2025-05-26T01:32:58.829095Z"
    }
   },
   "outputs": [
    {
     "data": {
      "text/plain": [
       "(20301, 2)"
      ]
     },
     "execution_count": 5,
     "metadata": {},
     "output_type": "execute_result"
    }
   ],
   "source": [
    "data_star.shape"
   ]
  },
  {
   "cell_type": "code",
   "execution_count": 6,
   "id": "8e0bcb29",
   "metadata": {
    "ExecuteTime": {
     "end_time": "2025-05-26T01:32:59.152192Z",
     "start_time": "2025-05-26T01:32:58.837358Z"
    }
   },
   "outputs": [
    {
     "data": {
      "image/png": "[encoded data removed]",
      "text/plain": [
       "<Figure size 600x200 with 2 Axes>"
      ]
     },
     "metadata": {},
     "output_type": "display_data"
    }
   ],
   "source": [
    "fig, ax1 = plt.subplots(1, 1, figsize=(6, 2))\n",
    "\n",
    "cmap = plt.get_cmap('jet')\n",
    "heatmap1 = ax1.imshow(Exact_u.T,\n",
    "                      interpolation='nearest',\n",
    "                      cmap='rainbow',\n",
    "                      extent=[0, 1, -1, 1],\n",
    "                      origin='lower',\n",
    "                      aspect='auto')\n",
    "\n",
    "ax1.set_title(r'$u$', fontsize=15)\n",
    "ax1.set_xlabel(r'$t$', fontsize=15)\n",
    "ax1.set_ylabel(r'$x$', fontsize=15)\n",
    "\n",
    "# Add a color bar\n",
    "cbar = fig.colorbar(heatmap1, ax=ax1, fraction=0.15, pad=0.04, aspect=10)\n",
    "cbar.set_label(r'Value of $u$', fontsize=12)\n",
    "\n",
    "plt.show()"
   ]
  },
  {
   "cell_type": "code",
   "execution_count": 7,
   "id": "493959f8",
   "metadata": {
    "ExecuteTime": {
     "end_time": "2025-05-26T01:32:59.165774Z",
     "start_time": "2025-05-26T01:32:59.154895Z"
    }
   },
   "outputs": [
    {
     "name": "stdout",
     "output_type": "stream",
     "text": [
      "observe_data: Column 0: range from -1.0 to 0.99\n",
      "observe_data: Column 1: range from 0.01 to 0.99\n",
      "observe_u: Column 0: range from -1.0 to 0.9528342844289072\n",
      "observe_u: Column 0: range from -1.1688576528993058 to 0.9875168124145501\n",
      "noise_u: Column 0: range from -0.21688180517085787 to 0.43639188861570943\n"
     ]
    }
   ],
   "source": [
    "random_seed = 1234\n",
    "np.random.seed(random_seed)\n",
    "number_observe_data = 50\n",
    "\n",
    "index_x = (lhs(1, number_observe_data)) * len(x_exact)\n",
    "index_x = np.floor(index_x).reshape(number_observe_data, ).astype(int)\n",
    "observe_x = x_exact[index_x]\n",
    "\n",
    "index_t = (lhs(1, number_observe_data)) * len(t_exact)\n",
    "index_t = np.floor(index_t).reshape(number_observe_data, ).astype(int)\n",
    "observe_t = t_exact[index_t]\n",
    "\n",
    "observe_data = np.hstack((observe_x, observe_t))\n",
    "observe_clear_u = Exact_u[index_t, index_x].reshape(-1, 1)\n",
    "\n",
    "noise_nu = 0.0\n",
    "noise_std = 0.1\n",
    "noise_u = np.random.normal(loc=noise_nu, scale=noise_std, size=observe_clear_u.shape)\n",
    "observe_u = observe_clear_u + noise_u\n",
    "\n",
    "observe_data = numpy_to_tensor(observe_data,\n",
    "                               var_name=\"observe_data\",\n",
    "                               value_range_dim=True,\n",
    "                               to_torch=True,\n",
    "                               to_cuda=True,\n",
    "                               requires_grad=True)\n",
    "\n",
    "observe_clear_u = numpy_to_tensor(observe_clear_u,\n",
    "                                  var_name=\"observe_u\",\n",
    "                                  value_range_dim=True,\n",
    "                                  to_torch=True,\n",
    "                                  to_cuda=True,\n",
    "                                  requires_grad=True)\n",
    "\n",
    "observe_u = numpy_to_tensor(observe_u,\n",
    "                            var_name=\"observe_u\",\n",
    "                            value_range_dim=True,\n",
    "                            to_torch=True,\n",
    "                            to_cuda=True,\n",
    "                            requires_grad=True)\n",
    "\n",
    "noise_u = numpy_to_tensor(noise_u,\n",
    "                            var_name=\"noise_u\",\n",
    "                            value_range_dim=True,\n",
    "                            to_torch=True,\n",
    "                            to_cuda=True,\n",
    "                            requires_grad=False)\n",
    "\n",
    "observe_data_x_inside = observe_data[:, 0:1]\n",
    "observe_data_t_inside = observe_data[:, 1:2]"
   ]
  },
  {
   "cell_type": "code",
   "execution_count": 8,
   "id": "f53eba1d",
   "metadata": {
    "ExecuteTime": {
     "end_time": "2025-05-26T01:32:59.181140Z",
     "start_time": "2025-05-26T01:32:59.168194Z"
    }
   },
   "outputs": [
    {
     "name": "stdout",
     "output_type": "stream",
     "text": [
      "test_data: Column 0: range from -1.0 to 1.0\n",
      "test_data: Column 1: range from 0.0 to 1.0\n",
      "test_u: Column 0: range from -1.0 to 0.9918199944816758\n"
     ]
    }
   ],
   "source": [
    "np.random.seed(5678)\n",
    "n_test_data = 10000\n",
    "\n",
    "index_x = (lhs(1, n_test_data)) * len(x_exact)\n",
    "index_x = np.floor(index_x).reshape(n_test_data, ).astype(int)\n",
    "test_data_x = x_exact[index_x]\n",
    "\n",
    "index_t = (lhs(1, n_test_data)) * len(t_exact)\n",
    "index_t = np.floor(index_t).reshape(n_test_data, ).astype(int)\n",
    "test_data_t = t_exact[index_t]\n",
    "\n",
    "test_data = np.hstack((test_data_x, test_data_t))\n",
    "test_u = Exact_u[index_t, index_x].reshape(-1, 1)\n",
    "\n",
    "test_data = numpy_to_tensor(test_data,\n",
    "                            var_name=\"test_data\",\n",
    "                            value_range_dim=True,\n",
    "                            to_torch=True,\n",
    "                            to_cuda=True,\n",
    "                            requires_grad=True)\n",
    "\n",
    "test_u = numpy_to_tensor(test_u,\n",
    "                         var_name=\"test_u\",\n",
    "                         value_range_dim=True,\n",
    "                         to_torch=True,\n",
    "                         to_cuda=True,\n",
    "                         requires_grad=True)\n",
    "\n",
    "test_data_x_inside = test_data[:, 0:1]\n",
    "test_data_t_inside = test_data[:, 1:2]"
   ]
  },
  {
   "cell_type": "code",
   "execution_count": 9,
   "id": "04e4b5f1",
   "metadata": {
    "ExecuteTime": {
     "end_time": "2025-05-26T01:32:59.187234Z",
     "start_time": "2025-05-26T01:32:59.183172Z"
    }
   },
   "outputs": [
    {
     "name": "stdout",
     "output_type": "stream",
     "text": [
      "The number of observational data J: 50\n"
     ]
    }
   ],
   "source": [
    "print('The number of observational data J:', len(observe_u))"
   ]
  },
  {
   "cell_type": "code",
   "execution_count": 10,
   "id": "c674bf38",
   "metadata": {
    "ExecuteTime": {
     "end_time": "2025-05-26T01:32:59.193279Z",
     "start_time": "2025-05-26T01:32:59.189236Z"
    }
   },
   "outputs": [],
   "source": [
    "def output_transform(data_input, u_input):\n",
    "\n",
    "    x_in = data_input[:, 0:1]\n",
    "    t_in = data_input[:, 1:2]\n",
    "\n",
    "    return x_in**2 * torch.cos(torch.tensor(np.pi) * x_in) + t_in * (1 - x_in**2) * u_input"
   ]
  },
  {
   "cell_type": "code",
   "execution_count": 11,
   "id": "f8dbd5ab",
   "metadata": {
    "ExecuteTime": {
     "end_time": "2025-05-26T01:32:59.201127Z",
     "start_time": "2025-05-26T01:32:59.195651Z"
    }
   },
   "outputs": [],
   "source": [
    "def get_loss_f_1(x_grad, t_grad, PINNs, C, return_sequence='not'):\n",
    "\n",
    "    E_inside = PINNs(torch.cat((x_grad, t_grad), dim=1))\n",
    "    E_inside = output_transform(torch.cat((x_grad, t_grad), dim=1), E_inside)\n",
    "\n",
    "    E_x = compute_higher_order_derivatives(E_inside, [x_grad])\n",
    "    E_xx = compute_higher_order_derivatives(E_x, [x_grad])\n",
    "\n",
    "    E_t = compute_higher_order_derivatives(E_inside, [t_grad])\n",
    "\n",
    "    loss_term = E_t - C * E_xx - 5 * (E_inside - E_inside**3)\n",
    "\n",
    "    if return_sequence == 'yes':\n",
    "        return torch.square(loss_term)\n",
    "    else:\n",
    "        return torch.mean(torch.square(loss_term))"
   ]
  },
  {
   "cell_type": "code",
   "execution_count": 12,
   "id": "5df8dbef",
   "metadata": {
    "ExecuteTime": {
     "end_time": "2025-05-26T01:32:59.209094Z",
     "start_time": "2025-05-26T01:32:59.203476Z"
    }
   },
   "outputs": [
    {
     "name": "stdout",
     "output_type": "stream",
     "text": [
      "Theta_list: Column 0: range from 0.0 to 0.0\n"
     ]
    }
   ],
   "source": [
    "Theta_list = np.zeros_like(observe_u.cpu().detach().numpy())\n",
    "Theta_list_1 = numpy_to_tensor(Theta_list,\n",
    "                             var_name=\"Theta_list\",\n",
    "                             value_range_dim=True,\n",
    "                             to_torch=True,\n",
    "                             to_cuda=True,\n",
    "                             requires_grad=True)\n",
    "\n",
    "Theta_list_id = id(Theta_list_1)\n",
    "\n",
    "optimizer_error = optim.Adam([Theta_list_1],\n",
    "                             lr=0.0001,\n",
    "                             betas=(0.9, 0.999),\n",
    "                             eps=1e-08,\n",
    "                             weight_decay=0,\n",
    "                             amsgrad=False)"
   ]
  },
  {
   "cell_type": "code",
   "execution_count": 13,
   "id": "70e26c5d",
   "metadata": {
    "ExecuteTime": {
     "end_time": "2025-05-26T01:32:59.217638Z",
     "start_time": "2025-05-26T01:32:59.213853Z"
    }
   },
   "outputs": [],
   "source": [
    "x_inside_all = torch.cat((x_inside,observe_data[:,0:1]),dim=0)\n",
    "t_inside_all = torch.cat((t_inside,observe_data[:,1:2]),dim=0)"
   ]
  },
  {
   "cell_type": "code",
   "execution_count": 14,
   "id": "b01792c5",
   "metadata": {
    "ExecuteTime": {
     "end_time": "2025-05-26T01:32:59.223506Z",
     "start_time": "2025-05-26T01:32:59.219741Z"
    }
   },
   "outputs": [],
   "source": [
    "data_inputs = {\n",
    "    'x_inside_all': x_inside_all,\n",
    "    't_inside_all': t_inside_all,\n",
    "    'x_inside': x_inside,\n",
    "    't_inside': t_inside,\n",
    "    'observe_data': observe_data,\n",
    "    'noise_u': noise_u,\n",
    "    'observe_u': observe_u,\n",
    "    'observe_clear_u': observe_clear_u,\n",
    "    'observe_data_x_inside': observe_data_x_inside,\n",
    "    'observe_data_t_inside': observe_data_t_inside,\n",
    "    'test_data': test_data,\n",
    "    'test_u': test_u,\n",
    "    'test_data_x_inside': test_data_x_inside,\n",
    "    'test_data_t_inside': test_data_t_inside,\n",
    "    'C1': None,\n",
    "}"
   ]
  },
  {
   "cell_type": "code",
   "execution_count": 15,
   "id": "7fd9e917",
   "metadata": {
    "ExecuteTime": {
     "end_time": "2025-05-26T01:32:59.228410Z",
     "start_time": "2025-05-26T01:32:59.225570Z"
    }
   },
   "outputs": [],
   "source": [
    "#Paper reproduction\n",
    "random_seed_set = 1234\n",
    "set_random_seed(random_seed_set)"
   ]
  },
  {
   "cell_type": "code",
   "execution_count": 16,
   "id": "7ce9c280",
   "metadata": {
    "ExecuteTime": {
     "end_time": "2025-05-26T01:32:59.239666Z",
     "start_time": "2025-05-26T01:32:59.231126Z"
    }
   },
   "outputs": [],
   "source": [
    "net_settings_for_PINNs_1 = NetSetting(input_dims=2,\n",
    "                                     hidden_neurons_list=[64] * 6,\n",
    "                                     output_dims=1,\n",
    "                                     hidden_activation='tanh',\n",
    "                                     output_activation=None,\n",
    "                                     initializer_method='xavier')\n",
    "\n",
    "PINNs_1 = get_mlp_pinn(net_settings_for_PINNs_1)\n",
    "PINNs_1.cuda()\n",
    "\n",
    "initialize_weights(PINNs_1, net_settings_for_PINNs_1.initializer_method)\n",
    "\n",
    "optimizer_pinn = optim.Adam(PINNs_1.parameters(),\n",
    "                        lr=0.001,\n",
    "                        betas=(0.9, 0.999),\n",
    "                        eps=1e-08,\n",
    "                        weight_decay=0,\n",
    "                        amsgrad=False)\n",
    "\n",
    "C1 = torch.tensor(0.5, requires_grad=True)\n",
    "C1_id = id(C1)\n",
    "optimizer_pinn.add_param_group({'params': [C1], 'lr': 0.001})"
   ]
  },
  {
   "cell_type": "code",
   "execution_count": 17,
   "id": "2041facc",
   "metadata": {
    "ExecuteTime": {
     "end_time": "2025-05-26T01:32:59.245205Z",
     "start_time": "2025-05-26T01:32:59.242004Z"
    }
   },
   "outputs": [],
   "source": [
    "AdaEC_scheduler = AdaEC_class(optimizer_pinn, optimizer_error,\n",
    "                              min_lr=1e-8, max_lr=1e-4, adjustment_factor = 10,\n",
    "                              patience_base = 100, patience_down = 50, patience_up = 50,\n",
    "                              error_threshold = 1e-6)"
   ]
  },
  {
   "cell_type": "code",
   "execution_count": 18,
   "id": "aa19ed05",
   "metadata": {
    "ExecuteTime": {
     "end_time": "2025-05-26T01:49:24.280996Z",
     "start_time": "2025-05-26T01:32:59.247847Z"
    },
    "code_folding": [],
    "scrolled": true
   },
   "outputs": [
    {
     "name": "stdout",
     "output_type": "stream",
     "text": [
      "Iterations: 0, train_loss: 8.64710712, test_loss: 0.676072, noise_elimination_loss: 0.013325\n",
      "Current C1 learning rate: 0.001\n",
      "Estimated parameter: tensor(0.5000, requires_grad=True)\n",
      "Current EC_factors learning rate: 0.0001\n",
      "----------------------------------------------------------------\n",
      "Iterations: 1000, train_loss: 0.16087157, test_loss: 0.119921, noise_elimination_loss: 0.013325\n",
      "Current C1 learning rate: 0.001\n",
      "Estimated parameter: tensor(0.0062, requires_grad=True)\n",
      "Current EC_factors learning rate: 0.0001\n",
      "----------------------------------------------------------------\n",
      "Iterations: 2000, train_loss: 0.10033459, test_loss: 0.100835, noise_elimination_loss: 0.013325\n",
      "Current C1 learning rate: 0.001\n",
      "Estimated parameter: tensor(0.0018, requires_grad=True)\n",
      "Current EC_factors learning rate: 0.0001\n",
      "----------------------------------------------------------------\n",
      "Restoring best model to the timing point: 1884\n",
      "Current C1 learning rate: 0.0001\n",
      "Iterations: 2000, train_loss: 0.08860955, test_loss: 0.096753, noise_elimination_loss: 0.011816\n",
      "Current C1 learning rate: 0.0001\n",
      "Estimated parameter: tensor(0.0018, requires_grad=True)\n",
      "Current EC_factors learning rate: 1e-05\n",
      "----------------------------------------------------------------\n",
      "Iterations: 3000, train_loss: 0.04946939, test_loss: 0.096800, noise_elimination_loss: 0.007443\n",
      "Current C1 learning rate: 0.0001\n",
      "Estimated parameter: tensor(0.0013, requires_grad=True)\n",
      "Current EC_factors learning rate: 1e-05\n",
      "----------------------------------------------------------------\n",
      "____________________New training stagnation____________________\n",
      "Iterations: 4000, train_loss: 0.02501346, test_loss: 0.091491, noise_elimination_loss: 0.004498\n",
      "Current C1 learning rate: 1.0000000000000002e-06\n",
      "Estimated parameter: tensor(0.0010, requires_grad=True)\n",
      "Current EC_factors learning rate: 0.0001\n",
      "----------------------------------------------------------------\n",
      "Iterations: 5000, train_loss: 0.01887856, test_loss: 0.089522, noise_elimination_loss: 0.002852\n",
      "Current C1 learning rate: 1.0000000000000002e-06\n",
      "Estimated parameter: tensor(0.0009, requires_grad=True)\n",
      "Current EC_factors learning rate: 1e-05\n",
      "----------------------------------------------------------------\n",
      "____________________New training stagnation____________________\n",
      "____________________New training stagnation____________________\n",
      "____________________New training stagnation____________________\n",
      "Iterations: 6000, train_loss: 0.01021185, test_loss: 0.081468, noise_elimination_loss: 0.002183\n",
      "Current C1 learning rate: 0\n",
      "Estimated parameter: tensor(0.0009, requires_grad=True)\n",
      "Current EC_factors learning rate: 0.0001\n",
      "----------------------------------------------------------------\n",
      "____________________New training stagnation____________________\n",
      "____________________New training stagnation____________________\n",
      "Iterations: 7000, train_loss: 0.00675925, test_loss: 0.074927, noise_elimination_loss: 0.001681\n",
      "Current C1 learning rate: 0\n",
      "Estimated parameter: tensor(0.0009, requires_grad=True)\n",
      "Current EC_factors learning rate: 1.0000000000000002e-06\n",
      "----------------------------------------------------------------\n",
      "____________________New training stagnation____________________\n",
      "Iterations: 8000, train_loss: 0.00479743, test_loss: 0.074704, noise_elimination_loss: 0.001373\n",
      "Current C1 learning rate: 0\n",
      "Estimated parameter: tensor(0.0009, requires_grad=True)\n",
      "Current EC_factors learning rate: 1.0000000000000002e-06\n",
      "----------------------------------------------------------------\n",
      "____________________New training stagnation____________________\n",
      "Iterations: 9000, train_loss: 0.00311167, test_loss: 0.069413, noise_elimination_loss: 0.001085\n",
      "Current C1 learning rate: 0\n",
      "Estimated parameter: tensor(0.0009, requires_grad=True)\n",
      "Current EC_factors learning rate: 1e-05\n",
      "----------------------------------------------------------------\n",
      "____________________New training stagnation____________________\n",
      "____________________New training stagnation____________________\n",
      "Iterations: 10000, train_loss: 0.00167142, test_loss: 0.063857, noise_elimination_loss: 0.000713\n",
      "Current C1 learning rate: 0\n",
      "Estimated parameter: tensor(0.0009, requires_grad=True)\n",
      "Current EC_factors learning rate: 0.0001\n",
      "----------------------------------------------------------------\n",
      "Iterations: 11000, train_loss: 0.00093648, test_loss: 0.061919, noise_elimination_loss: 0.000551\n",
      "Current C1 learning rate: 0\n",
      "Estimated parameter: tensor(0.0009, requires_grad=True)\n",
      "Current EC_factors learning rate: 1.0000000000000004e-08\n",
      "----------------------------------------------------------------\n",
      "____________________New training stagnation____________________\n",
      "Iterations: 12000, train_loss: 0.00042976, test_loss: 0.059147, noise_elimination_loss: 0.000448\n",
      "Current C1 learning rate: 0\n",
      "Estimated parameter: tensor(0.0009, requires_grad=True)\n",
      "Current EC_factors learning rate: 0.0001\n",
      "----------------------------------------------------------------\n",
      "Iterations: 13000, train_loss: 0.00078405, test_loss: 0.060176, noise_elimination_loss: 0.000384\n",
      "Current C1 learning rate: 0\n",
      "Estimated parameter: tensor(0.0009, requires_grad=True)\n",
      "Current EC_factors learning rate: 1.0000000000000002e-07\n",
      "----------------------------------------------------------------\n",
      "____________________New training stagnation____________________\n",
      "Iterations: 14000, train_loss: 0.00077092, test_loss: 0.054606, noise_elimination_loss: 0.000332\n",
      "Current C1 learning rate: 0\n",
      "Estimated parameter: tensor(0.0009, requires_grad=True)\n",
      "Current EC_factors learning rate: 0.0001\n",
      "----------------------------------------------------------------\n",
      "____________________New training stagnation____________________\n",
      "____________________New training stagnation____________________\n",
      "Iterations: 15000, train_loss: 0.00038083, test_loss: 0.054028, noise_elimination_loss: 0.000285\n",
      "Current C1 learning rate: 0\n",
      "Estimated parameter: tensor(0.0009, requires_grad=True)\n",
      "Current EC_factors learning rate: 0.0001\n",
      "----------------------------------------------------------------\n",
      "____________________New training stagnation____________________\n",
      "____________________New training stagnation____________________\n",
      "Iterations: 16000, train_loss: 0.00076802, test_loss: 0.053532, noise_elimination_loss: 0.000254\n",
      "Current C1 learning rate: 0\n",
      "Estimated parameter: tensor(0.0009, requires_grad=True)\n",
      "Current EC_factors learning rate: 0.0001\n",
      "----------------------------------------------------------------\n",
      "____________________New training stagnation____________________\n",
      "Iterations: 17000, train_loss: 0.00233565, test_loss: 0.053157, noise_elimination_loss: 0.000235\n",
      "Current C1 learning rate: 0\n",
      "Estimated parameter: tensor(0.0009, requires_grad=True)\n",
      "Current EC_factors learning rate: 0.0001\n",
      "----------------------------------------------------------------\n",
      "____________________New training stagnation____________________\n",
      "____________________New training stagnation____________________\n",
      "Iterations: 18000, train_loss: 0.00070128, test_loss: 0.052681, noise_elimination_loss: 0.000219\n",
      "Current C1 learning rate: 0\n",
      "Estimated parameter: tensor(0.0009, requires_grad=True)\n",
      "Current EC_factors learning rate: 0.0001\n",
      "----------------------------------------------------------------\n",
      "____________________New training stagnation____________________\n",
      "____________________New training stagnation____________________\n",
      "Iterations: 19000, train_loss: 0.00008282, test_loss: 0.048040, noise_elimination_loss: 0.000207\n",
      "Current C1 learning rate: 0\n",
      "Estimated parameter: tensor(0.0009, requires_grad=True)\n",
      "Current EC_factors learning rate: 0.0001\n",
      "----------------------------------------------------------------\n",
      "____________________New training stagnation____________________\n",
      "____________________New training stagnation____________________\n",
      "____________________New training stagnation____________________\n",
      "Final result: train_loss: 0.00015062, test_loss: 0.047386, noise_elimination_loss: 0.000196\n",
      "Estimated parameter: tensor(0.0009, requires_grad=True)\n"
     ]
    }
   ],
   "source": [
    "nIter1 = 20000\n",
    "it = 0\n",
    "training_recorder_1 = training_recorder()\n",
    "\n",
    "if_timing_point = False\n",
    "loss_noise_elimination = torch.mean(torch.square(Theta_list_1 - noise_u))\n",
    "\n",
    "while it < nIter1:\n",
    "    #########loss f#########\n",
    "    loss_f = get_loss_f_1(x_inside_all, t_inside_all, PINNs_1, C1)\n",
    "    \n",
    "    #########loss T noisy observation#########\n",
    "    E_observation = PINNs_1(observe_data)\n",
    "    E_observation = output_transform(observe_data, E_observation)\n",
    "    loss_error_correction = torch.mean(torch.square(E_observation + Theta_list_1 - data_inputs['observe_u']))\n",
    "    \n",
    "    #########loss PI#########\n",
    "    loss_all = loss_f + 10 * loss_error_correction \n",
    "\n",
    "    data_inputs['C1'] = C1\n",
    "    test_loss  = training_calculator(PINNs_1, get_loss_f_1, Theta_list_1,\n",
    "                                     training_recorder_1, data_inputs, output_transform)\n",
    "    \n",
    "    if it % 1000 == 0:\n",
    "        print(f\"Iterations: {it}, train_loss: {loss_all.item():.8f}, test_loss: {test_loss:.6f}, noise_elimination_loss: {loss_noise_elimination:.6f}\")\n",
    "        change_C_learning_rate(optimizer_pinn, C1_id, learning_rate = None)\n",
    "        print('Estimated parameter:',C1)\n",
    "        change_EC_factors_learning_rate(optimizer_error, learning_rate = None)\n",
    "        print('----------------------------------------------------------------')\n",
    "    \n",
    "    optimizer_pinn.zero_grad()\n",
    "    loss_all.backward()\n",
    "    optimizer_pinn.step() \n",
    "\n",
    "    if if_timing_point == False:\n",
    "        if it > 100:\n",
    "            (PINNs, C, it, optimizer_pinn_input,\n",
    "             if_timing_point) = training_recall(it, PINNs_1, C1,\n",
    "                                                optimizer_pinn, training_recorder_1,\n",
    "                                                if_timing_point, threshold = 0, window_wide = 500)\n",
    "            if if_timing_point == True:\n",
    "                change_C_learning_rate(optimizer_pinn, C1_id, learning_rate = 0.0001)\n",
    "                \n",
    "    else:\n",
    "        AdaEC_scheduler.step(training_recorder_1, it, C1_id)\n",
    "        Theta_list, loss_noise_elimination = train_for_error_correction(PINNs_1, C1, optimizer_error, \n",
    "                                                                        Theta_list_1, data_inputs,\n",
    "                                                                        output_transform)\n",
    "    \n",
    "    it = it + 1\n",
    "    \n",
    "print(f\"Final result: train_loss: {loss_all.item():.8f}, test_loss: {test_loss:.6f}, noise_elimination_loss: {loss_noise_elimination:.6f}\")\n",
    "print('Estimated parameter:',C1)\n",
    "\n",
    "output_dir = '../experimental_data/Allen_Cahn/AdaEC_N1/'\n",
    "training_recorder_1.save(output_dir)"
   ]
  },
  {
   "cell_type": "code",
   "execution_count": null,
   "id": "00949683",
   "metadata": {},
   "outputs": [],
   "source": []
  },
  {
   "cell_type": "code",
   "execution_count": null,
   "id": "5b9fb98a",
   "metadata": {},
   "outputs": [],
   "source": []
  },
  {
   "cell_type": "code",
   "execution_count": null,
   "id": "1d881373",
   "metadata": {},
   "outputs": [],
   "source": []
  }
 ],
 "metadata": {
  "kernelspec": {
   "display_name": "GA-PINNs",
   "language": "python",
   "name": "gapings"
  },
  "language_info": {
   "codemirror_mode": {
    "name": "ipython",
    "version": 3
   },
   "file_extension": ".py",
   "mimetype": "text/x-python",
   "name": "python",
   "nbconvert_exporter": "python",
   "pygments_lexer": "ipython3",
   "version": "3.7.12"
  },
  "toc": {
   "base_numbering": 1,
   "nav_menu": {},
   "number_sections": true,
   "sideBar": true,
   "skip_h1_title": false,
   "title_cell": "Table of Contents",
   "title_sidebar": "Contents",
   "toc_cell": false,
   "toc_position": {
    "height": "506.4px",
    "left": "24px",
    "top": "133.733px",
    "width": "165px"
   },
   "toc_section_display": true,
   "toc_window_display": true
  },
  "varInspector": {
   "cols": {
    "lenName": 16,
    "lenType": 16,
    "lenVar": 40
   },
   "kernels_config": {
    "python": {
     "delete_cmd_postfix": "",
     "delete_cmd_prefix": "del ",
     "library": "var_list.py",
     "varRefreshCmd": "print(var_dic_list())"
    },
    "r": {
     "delete_cmd_postfix": ") ",
     "delete_cmd_prefix": "rm(",
     "library": "var_list.r",
     "varRefreshCmd": "cat(var_dic_list()) "
    }
   },
   "types_to_exclude": [
    "module",
    "function",
    "builtin_function_or_method",
    "instance",
    "_Feature"
   ],
   "window_display": false
  }
 },
 "nbformat": 4,
 "nbformat_minor": 5
}
