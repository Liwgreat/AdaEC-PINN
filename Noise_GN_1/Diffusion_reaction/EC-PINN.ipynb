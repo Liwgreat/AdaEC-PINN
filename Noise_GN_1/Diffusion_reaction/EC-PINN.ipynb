{
 "cells": [
  {
   "cell_type": "code",
   "execution_count": 1,
   "id": "fe6fc0cc",
   "metadata": {
    "ExecuteTime": {
     "end_time": "2024-11-05T09:36:58.648300Z",
     "start_time": "2024-11-05T09:36:57.221140Z"
    }
   },
   "outputs": [],
   "source": [
    "import numpy as np\n",
    "import torch\n",
    "from torch import nn, optim, autograd\n",
    "from torch.nn import functional as F\n",
    "from pyDOE import lhs\n",
    "import scipy.io\n",
    "import matplotlib.pyplot as plt\n",
    "import matplotlib as mpl\n",
    "import matplotlib.gridspec as gridspec\n",
    "%matplotlib inline\n",
    "from mpl_toolkits.axes_grid1 import make_axes_locatable\n",
    "\n",
    "from utils_training import *\n",
    "\n",
    "#Paper reproduction\n",
    "torch.manual_seed(1234)\n",
    "torch.cuda.manual_seed(1234)\n",
    "np.random.seed(1234)"
   ]
  },
  {
   "cell_type": "code",
   "execution_count": null,
   "id": "4f0d62eb",
   "metadata": {
    "ExecuteTime": {
     "end_time": "2024-11-05T09:37:02.237861Z",
     "start_time": "2024-11-05T09:36:58.651212Z"
    },
    "cell_style": "center"
   },
   "outputs": [],
   "source": [
    "N_train = 1000\n",
    "N_bound = 200\n",
    "\n",
    "# x,t\n",
    "la = np.array([1,1])\n",
    "lb = np.array([-1,0])\n",
    "\n",
    "traindata = lb+(la-lb)*lhs(2,N_train)\n",
    "\n",
    "x_inside = traindata[:,0:1]\n",
    "t_inside = traindata[:,1:2]\n",
    "\n",
    "x_inside = numpy_to_tensor(x_inside, var_name=\"x_inside\", value_range_dim = True, to_torch = True, to_cuda = True, requires_grad = True)\n",
    "t_inside = numpy_to_tensor(t_inside, var_name=\"t_inside\", value_range_dim = True, to_torch = True, to_cuda = True, requires_grad = True)\n",
    "\n",
    "x_bound = lb[0]+(la[0]-lb[0])*lhs(1,N_bound)\n",
    "t_bound = lb[1]+(la[1]-lb[1])*lhs(1,N_bound)\n",
    "\n",
    "x_bound = numpy_to_tensor(x_bound, var_name=\"x_bound\", value_range_dim = True, to_torch = True, to_cuda = True, requires_grad = False)\n",
    "t_bound = numpy_to_tensor(t_bound, var_name=\"t_bound\", value_range_dim = True, to_torch = True, to_cuda = True, requires_grad = False)"
   ]
  },
  {
   "cell_type": "code",
   "execution_count": 3,
   "id": "00bb6cfa",
   "metadata": {
    "ExecuteTime": {
     "end_time": "2024-11-05T09:37:02.245707Z",
     "start_time": "2024-11-05T09:37:02.241557Z"
    },
    "cell_style": "center"
   },
   "outputs": [],
   "source": [
    "def exact_func(x_input):\n",
    "    x_value = x_input[:, 0:1]\n",
    "    t_value = x_input[:, 1:2]\n",
    "    \n",
    "    return  np.exp(-t_value) * np.sin(np.pi * x_value)"
   ]
  },
  {
   "cell_type": "code",
   "execution_count": null,
   "id": "fbd93e8e",
   "metadata": {
    "ExecuteTime": {
     "end_time": "2024-11-05T09:37:02.431143Z",
     "start_time": "2024-11-05T09:37:02.247602Z"
    }
   },
   "outputs": [],
   "source": [
    "traindata = np.concatenate((np.linspace(-1,1,200).reshape(-1,1),np.linspace(0,1,200).reshape(-1,1)),1)\n",
    "\n",
    "x_plot = traindata[:,0:1]\n",
    "t_plot = traindata[:,1:2]\n",
    "xx,tt = np.meshgrid(x_plot,t_plot)\n",
    "\n",
    "data_numpy = np.concatenate((xx.reshape(-1,1),tt.reshape(-1,1)),1)\n",
    "aa = exact_func(data_numpy)\n",
    "\n",
    "plt.imshow(aa.reshape(200,200),extent=[-1, 1, 0, 1], cmap='rainbow')\n",
    "plt.colorbar(shrink=.5)\n",
    "\n",
    "plt.show()"
   ]
  },
  {
   "cell_type": "code",
   "execution_count": null,
   "id": "c2a14a22",
   "metadata": {
    "ExecuteTime": {
     "end_time": "2024-11-05T09:37:02.442910Z",
     "start_time": "2024-11-05T09:37:02.433284Z"
    },
    "cell_style": "center"
   },
   "outputs": [],
   "source": [
    "random_seed = 1234\n",
    "np.random.seed(random_seed)\n",
    "observe_number = 10\n",
    "\n",
    "observe_data = lb+(la-lb)*lhs(2,observe_number)\n",
    "observe_clear_u = exact_func(observe_data)\n",
    "\n",
    "############# N(0,0.1^2) #############\n",
    "noise_nu = 0\n",
    "noise_std = 0.1\n",
    "noise_u = np.random.normal(loc=noise_nu, scale=noise_std, size=observe_clear_u.shape)\n",
    "observe_u = observe_clear_u + noise_u\n",
    "############# N(0,0.1^2) #############\n",
    "\n",
    "\n",
    "observe_data = numpy_to_tensor(observe_data, var_name=\"observe_data\", value_range_dim = True, to_torch = True, to_cuda = True, requires_grad = True)\n",
    "observe_clear_u = numpy_to_tensor(observe_clear_u, var_name=\"observe_u\", value_range_dim = True, to_torch = True, to_cuda = True, requires_grad = True)\n",
    "observe_u = numpy_to_tensor(observe_u, var_name=\"observe_u\", value_range_dim = True, to_torch = True, to_cuda = True, requires_grad = True)\n",
    "print('J:',len(observe_u))\n",
    "\n",
    "observe_data_x_inside = observe_data[:,0:1]\n",
    "observe_data_t_inside = observe_data[:,1:2]\n",
    "\n",
    "noise_u = numpy_to_tensor(noise_u, var_name=\"noise_u\", value_range_dim = True, to_torch = True, to_cuda = True, requires_grad = False)"
   ]
  },
  {
   "cell_type": "code",
   "execution_count": null,
   "id": "36e0637a",
   "metadata": {
    "ExecuteTime": {
     "end_time": "2024-11-05T09:37:02.456535Z",
     "start_time": "2024-11-05T09:37:02.445019Z"
    }
   },
   "outputs": [],
   "source": [
    "np.random.seed(5678)\n",
    "N_test_number = 10000\n",
    "\n",
    "test_data = lb+(la-lb)*lhs(2,N_test_number)\n",
    "test_u = exact_func(test_data)\n",
    "\n",
    "test_data = numpy_to_tensor(test_data, var_name=\"test_data\", value_range_dim = True, to_torch = True, to_cuda = True, requires_grad = True)\n",
    "test_u = numpy_to_tensor(test_u, var_name=\"test_u\", value_range_dim = True, to_torch = True, to_cuda = True, requires_grad = True)\n",
    "\n",
    "test_data_x_inside = test_data[:,0:1]\n",
    "test_data_t_inside = test_data[:,1:2]"
   ]
  },
  {
   "cell_type": "code",
   "execution_count": 7,
   "id": "f1f0c2b3",
   "metadata": {
    "ExecuteTime": {
     "end_time": "2024-11-05T09:37:02.463298Z",
     "start_time": "2024-11-05T09:37:02.458822Z"
    }
   },
   "outputs": [],
   "source": [
    "def output_transform(x_input, y_input):\n",
    "    x_in = x_input[:, 0:1]\n",
    "    t_in = x_input[:, 1:2]\n",
    "\n",
    "    return (1 - x_in) * (1 + x_in) * (1 - torch.exp(-t_in)) * y_input + torch.sin(np.pi * x_in)"
   ]
  },
  {
   "cell_type": "code",
   "execution_count": 8,
   "id": "c8951027",
   "metadata": {
    "ExecuteTime": {
     "end_time": "2024-11-05T09:37:02.468252Z",
     "start_time": "2024-11-05T09:37:02.465472Z"
    }
   },
   "outputs": [],
   "source": [
    "C1 = torch.tensor(2.0, requires_grad=True)"
   ]
  },
  {
   "cell_type": "code",
   "execution_count": 9,
   "id": "3b1a3785",
   "metadata": {
    "ExecuteTime": {
     "end_time": "2024-11-05T09:37:02.478060Z",
     "start_time": "2024-11-05T09:37:02.471942Z"
    }
   },
   "outputs": [],
   "source": [
    "def get_loss_f(x_grad,t_grad,PINNs,C,return_sequence='not'):\n",
    "    \n",
    "    ########### loss f  ###########\n",
    "    E_inside = PINNs(torch.cat((x_grad,t_grad),axis=1))\n",
    "    E_inside = output_transform(torch.cat((x_grad,t_grad),axis=1),E_inside)\n",
    "    \n",
    "    u_xx = compute_higher_order_derivatives(E_inside, [x_grad,x_grad])\n",
    "    u_t = compute_higher_order_derivatives(E_inside, [t_grad])\n",
    "    \n",
    "    loss_f_sequence = u_t-C*u_xx+torch.exp(-t_grad)*(torch.sin(torch.tensor(np.pi)*x_grad)-torch.tensor(np.pi)*torch.tensor(np.pi)*torch.sin(torch.tensor(np.pi)*x_grad))\n",
    "    loss_f_squared_sequence = torch.square(loss_f_sequence)\n",
    "\n",
    "    if return_sequence=='yes':\n",
    "        return loss_f_squared_sequence\n",
    "    else:\n",
    "        return torch.mean(loss_f_squared_sequence)"
   ]
  },
  {
   "cell_type": "code",
   "execution_count": 10,
   "id": "bd0a41cc",
   "metadata": {
    "ExecuteTime": {
     "end_time": "2024-11-05T09:37:02.485830Z",
     "start_time": "2024-11-05T09:37:02.480337Z"
    }
   },
   "outputs": [],
   "source": [
    "def get_loss_bound(bound_x, bound_t, PINNs, C, return_sequence='not'):\n",
    "    \n",
    "    E_bound_x_zero = PINNs(torch.cat((bound_x,torch.zeros_like(bound_x)),axis=1)) \n",
    "    Exact_x_zero = torch.sin(torch.tensor(np.pi)*bound_x)\n",
    "    loss_bound_for_a = torch.mean(torch.square(E_bound_x_zero-Exact_x_zero))\n",
    "    \n",
    "    E_bound_fu_1_t = PINNs(torch.cat((-torch.ones_like(bound_t),bound_t),axis=1)) \n",
    "    loss_bound_for_b = torch.mean(torch.square(E_bound_fu_1_t))\n",
    "    \n",
    "    E_bound_1_t = PINNs(torch.cat((torch.ones_like(bound_t),bound_t),axis=1))\n",
    "    loss_bound_for_c = torch.mean(torch.square(E_bound_1_t))\n",
    "    \n",
    "    loss_bound_value = loss_bound_for_a+loss_bound_for_b+loss_bound_for_c\n",
    "    \n",
    "    return loss_bound_value"
   ]
  },
  {
   "cell_type": "code",
   "execution_count": 11,
   "id": "40bb89d7",
   "metadata": {
    "ExecuteTime": {
     "end_time": "2024-11-05T09:37:02.490366Z",
     "start_time": "2024-11-05T09:37:02.487552Z"
    }
   },
   "outputs": [],
   "source": [
    "#Paper reproduction\n",
    "torch.manual_seed(1234)\n",
    "torch.cuda.manual_seed(1234)\n",
    "np.random.seed(1234)"
   ]
  },
  {
   "cell_type": "code",
   "execution_count": 12,
   "id": "db0e0d93",
   "metadata": {
    "ExecuteTime": {
     "end_time": "2024-11-05T09:37:02.498846Z",
     "start_time": "2024-11-05T09:37:02.492112Z"
    }
   },
   "outputs": [],
   "source": [
    "torch.manual_seed(1234)\n",
    "torch.cuda.manual_seed(1234)\n",
    "np.random.seed(1234)\n",
    "\n",
    "net_settings_for_PINNs1 = NetSetting(input_dims=2, hidden_neurons_list=[20]*4, \n",
    "                                     output_dims=1, hidden_activation='tanh', \n",
    "                                     output_activation=None, initializer_method='xavier')\n",
    "PINNs1 = get_mlp_pinn(net_settings_for_PINNs1)\n",
    "PINNs1.cuda()\n",
    "\n",
    "initialize_weights(PINNs1, net_settings_for_PINNs1.initializer_method)\n",
    "\n",
    "optimizer1 = optim.Adam(PINNs1.parameters(), lr=0.001,betas=(0.9, 0.999), eps=1e-08, weight_decay=0, amsgrad=False)    \n",
    "optimizer1.add_param_group({'params': [C1], 'lr': 0.001})"
   ]
  },
  {
   "cell_type": "code",
   "execution_count": 13,
   "id": "f4106b6d",
   "metadata": {
    "ExecuteTime": {
     "end_time": "2024-11-05T09:37:02.503944Z",
     "start_time": "2024-11-05T09:37:02.500683Z"
    }
   },
   "outputs": [],
   "source": [
    "x_inside_all = torch.cat((x_inside,observe_data[:,0:1]),axis=0)\n",
    "t_inside_all = torch.cat((t_inside,observe_data[:,1:2]),axis=0)"
   ]
  },
  {
   "cell_type": "code",
   "execution_count": null,
   "id": "f680bb1e",
   "metadata": {
    "ExecuteTime": {
     "end_time": "2024-11-05T09:37:02.509454Z",
     "start_time": "2024-11-05T09:37:02.505719Z"
    }
   },
   "outputs": [],
   "source": [
    "Theta_list = np.zeros_like(observe_u.cpu().detach().numpy())\n",
    "Theta_list = numpy_to_tensor(Theta_list, var_name=\"Theta_list\", value_range_dim = True, to_torch = True, to_cuda = True, requires_grad = True)"
   ]
  },
  {
   "cell_type": "code",
   "execution_count": 15,
   "id": "630dd823",
   "metadata": {
    "ExecuteTime": {
     "end_time": "2024-11-05T09:37:02.514655Z",
     "start_time": "2024-11-05T09:37:02.511386Z"
    }
   },
   "outputs": [],
   "source": [
    "C1_id = id(C1)\n",
    "\n",
    "optimizer_error = optim.Adam([Theta_list], lr=0.0001,betas=(0.9, 0.999), eps=1e-08, weight_decay=0.001, amsgrad=False)    "
   ]
  },
  {
   "cell_type": "code",
   "execution_count": 16,
   "id": "84354dce",
   "metadata": {
    "ExecuteTime": {
     "end_time": "2024-11-05T09:37:02.520213Z",
     "start_time": "2024-11-05T09:37:02.516621Z"
    }
   },
   "outputs": [],
   "source": [
    "def train_optimizer1_error_correction(PINNs,C,Theta_list_p):\n",
    "    \n",
    "    for param in PINNs.parameters():\n",
    "        param.requires_grad = True\n",
    "    \n",
    "    C.requires_grad = True\n",
    "    \n",
    "    Theta_list_p.requires_grad = False"
   ]
  },
  {
   "cell_type": "code",
   "execution_count": 17,
   "id": "ba1c2edc",
   "metadata": {
    "ExecuteTime": {
     "end_time": "2024-11-05T09:37:02.526192Z",
     "start_time": "2024-11-05T09:37:02.522373Z"
    }
   },
   "outputs": [],
   "source": [
    "def train_optimizer2_error_correction(PINNs,C,Theta_list_p):\n",
    "    \n",
    "    for param in PINNs.parameters():\n",
    "        param.requires_grad = False\n",
    "    \n",
    "    C.requires_grad = False\n",
    "    \n",
    "    Theta_list_p.requires_grad = True"
   ]
  },
  {
   "cell_type": "code",
   "execution_count": 18,
   "id": "002074aa",
   "metadata": {
    "ExecuteTime": {
     "end_time": "2024-11-05T09:37:02.532990Z",
     "start_time": "2024-11-05T09:37:02.528322Z"
    }
   },
   "outputs": [],
   "source": [
    "def train_for_error_correction(PINNs,C,Theta_list_input,observe_data_input,observe_u_input):\n",
    "    \n",
    "    train_optimizer2_error_correction(PINNs,C,Theta_list_input)\n",
    "        \n",
    "    E_observation = PINNs(observe_data_input)\n",
    "    E_observation = output_transform(observe_data_input,E_observation)\n",
    "    \n",
    "    loss_observation_refine = torch.mean(torch.square(E_observation+Theta_list_input-observe_u_input)) \n",
    "    \n",
    "    optimizer_error.zero_grad()\n",
    "    loss_observation_refine.backward()\n",
    "    optimizer_error.step()\n",
    "        \n",
    "    train_optimizer1_error_correction(PINNs,C,Theta_list_input)\n",
    "    \n",
    "    return Theta_list_input"
   ]
  },
  {
   "cell_type": "code",
   "execution_count": 19,
   "id": "f2b964f1",
   "metadata": {
    "ExecuteTime": {
     "end_time": "2024-11-05T09:37:02.539098Z",
     "start_time": "2024-11-05T09:37:02.535281Z"
    }
   },
   "outputs": [],
   "source": [
    "def flatten_line(data):\n",
    "    for i in range(1, len(data)):\n",
    "        if data[i] > data[i - 1]:\n",
    "            data[i] = data[i - 1]\n",
    "    return data"
   ]
  },
  {
   "cell_type": "code",
   "execution_count": 20,
   "id": "c8b446b6",
   "metadata": {
    "ExecuteTime": {
     "end_time": "2024-11-05T09:37:02.553707Z",
     "start_time": "2024-11-05T09:37:02.541306Z"
    }
   },
   "outputs": [],
   "source": [
    "import copy\n",
    "def training_recall(PINNs, C, it_iter, loss_f_for_T_1_best, best_PINNs_state, \n",
    "                    loss_all_1, loss_f_1, loss_f_for_collocation_1, \n",
    "                    loss_f_for_T_1, loss_f_excapt_T_1, loss_T_1, \n",
    "                    loss_T_clear_1, loss_T_1_test_data,loss_T_EC_1, test_loss_1, \n",
    "                    C1_list, optimizer1):\n",
    "    \n",
    "    threshold= -0.1\n",
    "    # 1e-3\n",
    "    \n",
    "    # Smooth the loss curve\n",
    "    loss_f_for_T_1_smooth = flatten_line(loss_f_for_T_1.copy())\n",
    "    current_min_index = loss_f_for_T_1_smooth.index(min(loss_f_for_T_1_smooth))\n",
    "    current_min = min(loss_f_for_T_1_smooth)\n",
    "    \n",
    "    # Update the best state if current loss is lower\n",
    "    if best_PINNs_state is None:\n",
    "        best_PINNs_state = {\n",
    "            'model_state': copy.deepcopy(PINNs.state_dict()),\n",
    "            'C_state': C.clone().detach(),\n",
    "            'optimizer_state': copy.deepcopy(optimizer1.state_dict()),\n",
    "            'it': it_iter,\n",
    "            'min_loss': current_min, 'rollback_pending' : False, 'record_current_min':None\n",
    "        }\n",
    "\n",
    "    elif (not best_PINNs_state['rollback_pending']) and current_min < best_PINNs_state['min_loss']:\n",
    "            best_PINNs_state = {\n",
    "                'model_state': copy.deepcopy(PINNs.state_dict()),\n",
    "                'C_state': C.clone().detach(),\n",
    "                'optimizer_state': copy.deepcopy(optimizer1.state_dict()),\n",
    "                'it': it_iter,\n",
    "                'min_loss': current_min, 'rollback_pending' : False, 'record_current_min':None\n",
    "            }\n",
    "        \n",
    "    # Check if stagnation is detected\n",
    "    if (not best_PINNs_state['rollback_pending']) and (len(loss_f_for_T_1_smooth) - current_min_index > 300):\n",
    "        # Start storing states without immediate rollback\n",
    "        print('Stagnation detected at iteration:', it_iter)\n",
    "        best_PINNs_state['record_current_min'] = current_min\n",
    "        best_PINNs_state['rollback_pending'] = True\n",
    "        \n",
    "    if best_PINNs_state['rollback_pending']:\n",
    "        # Update the stored state with the latest\n",
    "        best_PINNs_state['model_state'] = copy.deepcopy(PINNs.state_dict())\n",
    "        best_PINNs_state['C_state'] = C.clone().detach()\n",
    "        best_PINNs_state['optimizer_state'] = copy.deepcopy(optimizer1.state_dict())\n",
    "        best_PINNs_state['it'] = it_iter\n",
    "        \n",
    "        #print(best_PINNs_state['record_current_min'] - current_min)\n",
    "        # Check if loss has decreased beyond the threshold\n",
    "        if (best_PINNs_state['record_current_min'] - current_min) > threshold:\n",
    "            \n",
    "            # Perform rollback to the latest stored state\n",
    "            print('Restoring best model from iteration:', best_PINNs_state['it'])\n",
    "            PINNs.load_state_dict(best_PINNs_state['model_state'])\n",
    "            C_value = best_PINNs_state['C_state']\n",
    "            with torch.no_grad(): \n",
    "                C.copy_(C_value)  \n",
    "            optimizer1.load_state_dict(best_PINNs_state['optimizer_state'])\n",
    "            recall_it = it_iter  \n",
    "            it_iter = best_PINNs_state['it']  \n",
    "            # Truncate the recorded losses up to the rollback point\n",
    "            loss_all_1 = loss_all_1[:it_iter+1]\n",
    "            loss_f_1 = loss_f_1[:it_iter+1]\n",
    "            loss_f_for_collocation_1 = loss_f_for_collocation_1[:it_iter+1]\n",
    "            loss_f_for_T_1 = loss_f_for_T_1[:it_iter+1]\n",
    "            loss_f_excapt_T_1 = loss_f_excapt_T_1[:it_iter+1]\n",
    "            loss_T_1 = loss_T_1[:it_iter+1]\n",
    "            loss_T_clear_1 = loss_T_clear_1[:it_iter+1]\n",
    "            loss_T_1_test_data = loss_T_1_test_data[:it_iter+1]\n",
    "            test_loss_1 = test_loss_1[:it_iter+1]\n",
    "            C1_list = C1_list[:it_iter+1]\n",
    "            loss_f_for_T_1_best = True\n",
    "            # Reset the rollback flag and recorded minimum loss\n",
    "    \n",
    "    return (PINNs, C, it_iter, loss_f_for_T_1_best, best_PINNs_state, \n",
    "            loss_all_1, loss_f_1, loss_f_for_collocation_1, loss_f_for_T_1, \n",
    "            loss_f_excapt_T_1, loss_T_1, loss_T_clear_1, loss_T_1_test_data,loss_T_EC_1, \n",
    "            test_loss_1, C1_list,optimizer1)"
   ]
  },
  {
   "cell_type": "code",
   "execution_count": null,
   "id": "10dbe448",
   "metadata": {},
   "outputs": [],
   "source": []
  },
  {
   "cell_type": "code",
   "execution_count": null,
   "id": "d774dcc8",
   "metadata": {
    "ExecuteTime": {
     "end_time": "2024-11-05T09:48:27.973356Z",
     "start_time": "2024-11-05T09:37:02.556089Z"
    },
    "scrolled": false
   },
   "outputs": [],
   "source": [
    "############## Record list ###############\n",
    "loss_all_1 = []\n",
    "loss_f_1 = []\n",
    "loss_f_for_collocation_1 = []\n",
    "loss_f_for_T_1 = []\n",
    "loss_f_excapt_T_1 = []\n",
    "loss_T_1 = []\n",
    "loss_T_clear_1 = []\n",
    "loss_T_1_test_data = []\n",
    "loss_T_EC_1 = []\n",
    "test_loss_1 = []\n",
    "C1_list = []\n",
    "############## Record list ###############\n",
    "\n",
    "nIter1 = 20000\n",
    "it = 0\n",
    "\n",
    "\n",
    "# Initial placeholders for best model and iteration\n",
    "loss_f_for_T_1_best = False\n",
    "best_PINNs_state = None\n",
    "best_it = None\n",
    "recall_it = None\n",
    "k_iterations = 100\n",
    "\n",
    "\n",
    "while it<nIter1:\n",
    "    \n",
    "    #########loss f#########    \n",
    "    loss_f = get_loss_f(x_inside_all,t_inside_all,PINNs1,C1,return_sequence='not')\n",
    "\n",
    "    #########loss f  for collocation data#########\n",
    "    loss_f_for_collocation = get_loss_f(x_inside,t_inside,PINNs1,C1,return_sequence='not')\n",
    "    #########loss f  for observation data#########\n",
    "    loss_f_for_T = get_loss_f(observe_data_x_inside,observe_data_t_inside,PINNs1,C1,return_sequence='not')\n",
    "    #########loss f  excapt observation data#########\n",
    "    loss_f_excapt_T = get_loss_f(test_data_x_inside,test_data_t_inside,PINNs1,C1,return_sequence='not')\n",
    "    \n",
    "    #########loss observation#########        \n",
    "    E_observation = PINNs1(observe_data) \n",
    "    E_observation = output_transform(observe_data,E_observation)\n",
    "    \n",
    "    if loss_f_for_T_1_best:\n",
    "        loss_observation = torch.mean(torch.square(E_observation+Theta_list-observe_u)) \n",
    "    else:\n",
    "        loss_observation = torch.mean(torch.square(E_observation-observe_u)) \n",
    "    \n",
    "    #########loss EC######### \n",
    "    loss_EC = torch.mean(torch.square(Theta_list-noise_u))\n",
    "    \n",
    "    #########loss T noisy observation#########  \n",
    "    loss_observation_noisy = torch.mean(torch.square(E_observation-observe_u)) \n",
    "    \n",
    "    #########loss T excapt observation#########        \n",
    "    E_observation_excapt = PINNs1(test_data) \n",
    "    E_observation_excapt = output_transform(test_data,E_observation_excapt)\n",
    "    loss_observation_excapt = torch.mean(torch.square(E_observation_excapt-test_u))      \n",
    "\n",
    "    #########loss T clear observation#########        \n",
    "    E_observation_clear = PINNs1(observe_data) \n",
    "    E_observation_clear = output_transform(observe_data,E_observation_clear)\n",
    "    loss_observation_clear = torch.mean(torch.square(E_observation_clear-observe_clear_u))     \n",
    "    \n",
    "    #########loss PI#########\n",
    "    loss = loss_f+10*loss_observation\n",
    "    \n",
    "    #########test_loss NRMSE#########\n",
    "    pre_u = PINNs1(test_data)\n",
    "    pre_u = output_transform(test_data,pre_u)\n",
    "    test_loss = relative_l2_torch(pre_u,test_u)\n",
    "    #########test_loss NRMSE#########\n",
    "    \n",
    "    #########Record#########\n",
    "    loss_f_1.append(loss_f.item())\n",
    "    loss_f_for_collocation_1.append(loss_f_for_collocation.item())\n",
    "    loss_f_for_T_1.append(loss_f_for_T.item())\n",
    "    loss_f_excapt_T_1.append(loss_f_excapt_T.item())\n",
    "    C1_list.append(C1.item())   \n",
    "    loss_T_1.append(loss_observation_noisy.item()) \n",
    "    loss_T_1_test_data.append(loss_observation_excapt.item()) \n",
    "    loss_T_clear_1.append(loss_observation_clear.item()) \n",
    "    loss_T_EC_1.append(loss_EC.item()) \n",
    "    test_loss_1.append(test_loss)\n",
    "    #########Record#########\n",
    "    \n",
    "    if it % 1000 == 0:\n",
    "        print('It:', it, 'train_loss:', loss.item(), 'test_loss:', test_loss)\n",
    "        print(C1)\n",
    "        \n",
    "    optimizer1.zero_grad()\n",
    "    loss.backward()\n",
    "    optimizer1.step()\n",
    "    \n",
    "\n",
    "    if  not loss_f_for_T_1_best:\n",
    "        if it>4500:\n",
    "            (PINNs1, C1, it, loss_f_for_T_1_best, best_PINNs_state, \n",
    "             loss_all_1, loss_f_1, loss_f_for_collocation_1, loss_f_for_T_1, \n",
    "             loss_f_excapt_T_1, loss_T_1, loss_T_clear_1, loss_T_1_test_data,loss_T_EC_1, \n",
    "             test_loss_1, C1_list, optimizer1) = training_recall(\n",
    "                 PINNs1, C1, it, loss_f_for_T_1_best, best_PINNs_state, \n",
    "                 loss_all_1, loss_f_1, loss_f_for_collocation_1, \n",
    "                 loss_f_for_T_1, loss_f_excapt_T_1, loss_T_1, loss_T_clear_1, \n",
    "                 loss_T_1_test_data,loss_T_EC_1, test_loss_1, C1_list, optimizer1)\n",
    "            \n",
    "            if loss_f_for_T_1_best:\n",
    "                Theta_list.requires_grad = True\n",
    "                for param_group in optimizer1.param_groups:\n",
    "                    if any(id(param) == C1_id for param in param_group['params']):\n",
    "                        param_group['lr'] = 0.0001  \n",
    "    else:\n",
    "        ############################ Refine L_T ############################          \n",
    "        Theta_list = train_for_error_correction(PINNs1,C1,Theta_list,observe_data,observe_u)\n",
    "        ############################ Refine L_T ############################  \n",
    "\n",
    "    it = it + 1   \n",
    "    \n",
    "print('Final:', 'train_loss:', loss.item(), 'test_loss:', test_loss)"
   ]
  },
  {
   "cell_type": "code",
   "execution_count": null,
   "id": "5390f705",
   "metadata": {},
   "outputs": [],
   "source": []
  }
 ],
 "metadata": {
  "kernelspec": {
   "display_name": "GA-PINNs",
   "language": "python",
   "name": "gapings"
  },
  "language_info": {
   "codemirror_mode": {
    "name": "ipython",
    "version": 3
   },
   "file_extension": ".py",
   "mimetype": "text/x-python",
   "name": "python",
   "nbconvert_exporter": "python",
   "pygments_lexer": "ipython3",
   "version": "3.7.12"
  },
  "toc": {
   "base_numbering": 1,
   "nav_menu": {},
   "number_sections": true,
   "sideBar": true,
   "skip_h1_title": false,
   "title_cell": "Table of Contents",
   "title_sidebar": "Contents",
   "toc_cell": false,
   "toc_position": {
    "height": "calc(100% - 180px)",
    "left": "10px",
    "top": "150px",
    "width": "256px"
   },
   "toc_section_display": true,
   "toc_window_display": false
  },
  "varInspector": {
   "cols": {
    "lenName": 16,
    "lenType": 16,
    "lenVar": 40
   },
   "kernels_config": {
    "python": {
     "delete_cmd_postfix": "",
     "delete_cmd_prefix": "del ",
     "library": "var_list.py",
     "varRefreshCmd": "print(var_dic_list())"
    },
    "r": {
     "delete_cmd_postfix": ") ",
     "delete_cmd_prefix": "rm(",
     "library": "var_list.r",
     "varRefreshCmd": "cat(var_dic_list()) "
    }
   },
   "types_to_exclude": [
    "module",
    "function",
    "builtin_function_or_method",
    "instance",
    "_Feature"
   ],
   "window_display": false
  }
 },
 "nbformat": 4,
 "nbformat_minor": 5
}
