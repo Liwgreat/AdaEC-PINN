{
 "cells": [
  {
   "cell_type": "code",
   "execution_count": 1,
   "id": "78c7a157",
   "metadata": {
    "ExecuteTime": {
     "end_time": "2024-11-05T10:03:33.753846Z",
     "start_time": "2024-11-05T10:03:32.200269Z"
    }
   },
   "outputs": [],
   "source": [
    "import numpy as np\n",
    "import torch\n",
    "from torch import nn, optim, autograd\n",
    "from torch.nn import functional as F\n",
    "from pyDOE import lhs\n",
    "import scipy.io\n",
    "import matplotlib.pyplot as plt\n",
    "import matplotlib as mpl\n",
    "import matplotlib.gridspec as gridspec\n",
    "%matplotlib inline\n",
    "from mpl_toolkits.axes_grid1 import make_axes_locatable\n",
    "\n",
    "from utils_training import *\n",
    "\n",
    "#Paper reproduction\n",
    "torch.manual_seed(1234)\n",
    "torch.cuda.manual_seed(1234)\n",
    "np.random.seed(1234)"
   ]
  },
  {
   "cell_type": "code",
   "execution_count": null,
   "id": "21e98c03",
   "metadata": {
    "ExecuteTime": {
     "end_time": "2024-11-05T10:03:37.635700Z",
     "start_time": "2024-11-05T10:03:33.758117Z"
    }
   },
   "outputs": [],
   "source": [
    "N_train = 10000\n",
    "N_bound = 200\n",
    "\n",
    "# x,t\n",
    "\n",
    "la = np.array([1,1])\n",
    "lb = np.array([-1,0])\n",
    "\n",
    "traindata = lb+(la-lb)*lhs(2,N_train)\n",
    "x_inside = traindata[:,0:1]\n",
    "t_inside = traindata[:,1:2]\n",
    "\n",
    "x_inside = numpy_to_tensor(x_inside, var_name=\"x_inside\", value_range_dim = True, to_torch = True, to_cuda = True, requires_grad = True)\n",
    "t_inside = numpy_to_tensor(t_inside, var_name=\"t_inside\", value_range_dim = True, to_torch = True, to_cuda = True, requires_grad = True)"
   ]
  },
  {
   "cell_type": "code",
   "execution_count": 3,
   "id": "3ea128cd",
   "metadata": {
    "ExecuteTime": {
     "end_time": "2024-11-05T10:03:37.645796Z",
     "start_time": "2024-11-05T10:03:37.639851Z"
    }
   },
   "outputs": [],
   "source": [
    "import scipy.io\n",
    "data = scipy.io.loadmat('./burgers_shock.mat')\n",
    "t_exact = data['t'].flatten()[:,None]\n",
    "x_exact = data['x'].flatten()[:,None]\n",
    "Exact_u = np.real(data['usol'])"
   ]
  },
  {
   "cell_type": "code",
   "execution_count": null,
   "id": "78911296",
   "metadata": {
    "ExecuteTime": {
     "end_time": "2024-11-05T10:03:37.651694Z",
     "start_time": "2024-11-05T10:03:37.648030Z"
    }
   },
   "outputs": [],
   "source": [
    "print('t:',t_exact.shape)\n",
    "print('x:',x_exact.shape)\n",
    "print('Exact_u:',Exact_u.shape)"
   ]
  },
  {
   "cell_type": "code",
   "execution_count": null,
   "id": "e9ed45dd",
   "metadata": {
    "ExecuteTime": {
     "end_time": "2024-11-05T10:03:37.658191Z",
     "start_time": "2024-11-05T10:03:37.653773Z"
    }
   },
   "outputs": [],
   "source": [
    "T_exact, X_exact = np.meshgrid(t_exact,x_exact)\n",
    "print('T_exact:',T_exact.shape)\n",
    "print('X_exact:',X_exact.shape)"
   ]
  },
  {
   "cell_type": "code",
   "execution_count": 6,
   "id": "61c73e02",
   "metadata": {
    "ExecuteTime": {
     "end_time": "2024-11-05T10:03:37.664922Z",
     "start_time": "2024-11-05T10:03:37.660543Z"
    }
   },
   "outputs": [],
   "source": [
    "T_exact_flatten = T_exact.flatten()[:,None]\n",
    "X_exact_flatten = X_exact.flatten()[:,None]\n",
    "data_star = np.hstack((X_exact_flatten,T_exact_flatten))\n",
    "u_star = Exact_u.flatten()[:,None]  "
   ]
  },
  {
   "cell_type": "code",
   "execution_count": null,
   "id": "37092ed3",
   "metadata": {
    "ExecuteTime": {
     "end_time": "2024-11-05T10:03:37.971571Z",
     "start_time": "2024-11-05T10:03:37.667299Z"
    }
   },
   "outputs": [],
   "source": [
    "fig, ax1 = plt.subplots(1, 1, figsize=(6, 2))\n",
    "\n",
    "cmap = plt.get_cmap('jet')  \n",
    "heatmap1 = ax1.imshow(Exact_u, interpolation='nearest', cmap='rainbow',  extent=[0, 1, -1, 1], origin='lower', aspect='auto')\n",
    "ax1.set_title('u', fontsize=15)\n",
    "ax1.set_xlabel(r'$t$', fontsize=15)\n",
    "ax1.set_ylabel(r'$x$', fontsize=15)\n",
    "\n",
    "# Add a color bar\n",
    "cbar = fig.colorbar(heatmap1, ax=ax1, fraction=0.15, pad=0.04)\n",
    "cbar.set_label('Value', fontsize=12)\n",
    "\n",
    "plt.show()"
   ]
  },
  {
   "cell_type": "code",
   "execution_count": null,
   "id": "e938502c",
   "metadata": {
    "ExecuteTime": {
     "end_time": "2024-11-05T10:03:37.986277Z",
     "start_time": "2024-11-05T10:03:37.974362Z"
    }
   },
   "outputs": [],
   "source": [
    "random_seed = 1234\n",
    "np.random.seed(random_seed)\n",
    "number_observe_data = 100\n",
    "\n",
    "index_t = (lhs(1,number_observe_data))*len(t_exact)\n",
    "index_t = np.floor(index_t).reshape(number_observe_data,).astype(int)\n",
    "observe_t = t_exact[index_t]\n",
    "\n",
    "index_x = (lhs(1,number_observe_data))*len(x_exact)\n",
    "index_x = np.floor(index_x).reshape(number_observe_data,).astype(int)\n",
    "observe_x = x_exact[index_x]\n",
    "\n",
    "observe_data = np.hstack((observe_x,observe_t))\n",
    "observe_clear_u = Exact_u[index_x,index_t].reshape(-1,1)\n",
    "\n",
    "############# N(0,0.1^2) #############\n",
    "noise_nu = 0\n",
    "noise_std = 0.1\n",
    "noise_u = np.random.normal(loc=noise_nu, scale=noise_std, size=observe_clear_u.shape)\n",
    "observe_u = observe_clear_u + noise_u\n",
    "############# N(0,0.1^2) #############\n",
    "\n",
    "observe_data = numpy_to_tensor(observe_data, var_name=\"observe_data\", value_range_dim = True, to_torch = True, to_cuda = True, requires_grad = True)\n",
    "observe_clear_u = numpy_to_tensor(observe_clear_u, var_name=\"observe_clear_u\", value_range_dim = True, to_torch = True, to_cuda = True, requires_grad = True)\n",
    "observe_u = numpy_to_tensor(observe_u, var_name=\"observe_u\", value_range_dim = True, to_torch = True, to_cuda = True, requires_grad = True)\n",
    "print('J:',len(observe_u))\n",
    "\n",
    "observe_data_x_inside = observe_data[:,0:1]\n",
    "observe_data_t_inside = observe_data[:,1:2]\n",
    "\n",
    "noise_u = numpy_to_tensor(noise_u, var_name=\"noise_u\", value_range_dim = True, to_torch = True, to_cuda = True, requires_grad = False)"
   ]
  },
  {
   "cell_type": "code",
   "execution_count": null,
   "id": "fc0a35fe",
   "metadata": {
    "ExecuteTime": {
     "end_time": "2024-11-05T10:03:38.008253Z",
     "start_time": "2024-11-05T10:03:37.990607Z"
    }
   },
   "outputs": [],
   "source": [
    "np.random.seed(5678)\n",
    "n_test_data = 10000\n",
    "\n",
    "index_test_data = (lhs(1,n_test_data))*len(data_star)\n",
    "index_test_data = np.floor(index_test_data).reshape(n_test_data,).astype(int)\n",
    "\n",
    "index_t = (lhs(1,n_test_data))*len(t_exact)\n",
    "index_t = np.floor(index_t).reshape(n_test_data,).astype(int)\n",
    "test_data_t = t_exact[index_t]\n",
    "\n",
    "index_x = (lhs(1,n_test_data))*len(x_exact)\n",
    "index_x = np.floor(index_x).reshape(n_test_data,).astype(int)\n",
    "test_data_x = x_exact[index_x]\n",
    "\n",
    "test_data = np.hstack((test_data_x,test_data_t))\n",
    "test_u = Exact_u[index_x,index_t].reshape(-1,1)\n",
    "\n",
    "test_data = numpy_to_tensor(test_data, var_name=\"test_data\", value_range_dim = True, to_torch = True, to_cuda = True, requires_grad = True)\n",
    "test_u = numpy_to_tensor(test_u, var_name=\"test_u\", value_range_dim = True, to_torch = True, to_cuda = True, requires_grad = True)\n",
    "\n",
    "test_data_x_inside = test_data[:,0:1]\n",
    "test_data_t_inside = test_data[:,1:2]"
   ]
  },
  {
   "cell_type": "code",
   "execution_count": 10,
   "id": "4bb3e64e",
   "metadata": {
    "ExecuteTime": {
     "end_time": "2024-11-05T10:03:38.015780Z",
     "start_time": "2024-11-05T10:03:38.010774Z"
    }
   },
   "outputs": [],
   "source": [
    "def output_transform(data_input, u_input):\n",
    "    \n",
    "    x_in = data_input[:, 0:1]\n",
    "    t_in = data_input[:, 1:2]\n",
    "\n",
    "    return (1 - x_in) * (1 + x_in) * (1 - torch.exp(-t_in)) * u_input - torch.sin(np.pi * x_in)"
   ]
  },
  {
   "cell_type": "code",
   "execution_count": 11,
   "id": "8c6694db",
   "metadata": {
    "ExecuteTime": {
     "end_time": "2024-11-05T10:03:38.021195Z",
     "start_time": "2024-11-05T10:03:38.017976Z"
    }
   },
   "outputs": [],
   "source": [
    "C1 = torch.tensor(0.5, requires_grad=True)"
   ]
  },
  {
   "cell_type": "code",
   "execution_count": 12,
   "id": "cf534dde",
   "metadata": {
    "ExecuteTime": {
     "end_time": "2024-11-05T10:03:38.028488Z",
     "start_time": "2024-11-05T10:03:38.023352Z"
    }
   },
   "outputs": [],
   "source": [
    "def get_loss_f(x_grad,t_grad,PINNs,C,return_sequence='not'):\n",
    "    \n",
    "    ########### loss f  ###########\n",
    "    E_inside = PINNs(torch.cat((x_grad,t_grad),1)) \n",
    "    E_inside = output_transform(torch.cat((x_grad,t_grad),1),E_inside) \n",
    "    \n",
    "    E_x = compute_higher_order_derivatives(E_inside, [x_grad])\n",
    "    E_xx = compute_higher_order_derivatives(E_x, [x_grad])\n",
    "    E_t = compute_higher_order_derivatives(E_inside, [t_grad])\n",
    "\n",
    "\n",
    "    if return_sequence=='yes':\n",
    "        return torch.square(E_t+E_inside*E_x-C*(E_xx))\n",
    "    else:\n",
    "        return torch.mean(torch.square(E_t+E_inside*E_x-C*(E_xx)))"
   ]
  },
  {
   "cell_type": "code",
   "execution_count": 13,
   "id": "0b4e3941",
   "metadata": {
    "ExecuteTime": {
     "end_time": "2024-11-05T10:03:38.034292Z",
     "start_time": "2024-11-05T10:03:38.030831Z"
    }
   },
   "outputs": [],
   "source": [
    "#Paper reproduction\n",
    "torch.manual_seed(1234)\n",
    "torch.cuda.manual_seed(1234)\n",
    "np.random.seed(1234)"
   ]
  },
  {
   "cell_type": "code",
   "execution_count": 14,
   "id": "327b028b",
   "metadata": {
    "ExecuteTime": {
     "end_time": "2024-11-05T10:03:38.050370Z",
     "start_time": "2024-11-05T10:03:38.036617Z"
    }
   },
   "outputs": [],
   "source": [
    "torch.manual_seed(1234)\n",
    "torch.cuda.manual_seed(1234)\n",
    "np.random.seed(1234)\n",
    "\n",
    "net_settings_for_PINNs1 = NetSetting(input_dims=2, hidden_neurons_list=[20]*8, \n",
    "                                     output_dims=1, hidden_activation='tanh', \n",
    "                                     output_activation=None, initializer_method='xavier')\n",
    "\n",
    "PINNs1 = get_mlp_pinn(net_settings_for_PINNs1)\n",
    "PINNs1.cuda()  \n",
    "\n",
    "initialize_weights(PINNs1, net_settings_for_PINNs1.initializer_method)\n",
    "   \n",
    "optimizer1 = optim.Adam(PINNs1.parameters(), lr=0.001,betas=(0.9, 0.999), eps=1e-08, weight_decay=0, amsgrad=False)    \n",
    "optimizer1.add_param_group({'params': [C1], 'lr': 0.001})"
   ]
  },
  {
   "cell_type": "code",
   "execution_count": 15,
   "id": "eb4284f7",
   "metadata": {
    "ExecuteTime": {
     "end_time": "2024-11-05T10:03:38.056489Z",
     "start_time": "2024-11-05T10:03:38.052610Z"
    }
   },
   "outputs": [],
   "source": [
    "x_inside_all = torch.cat((x_inside,observe_data[:,0:1]),axis=0)\n",
    "t_inside_all = torch.cat((t_inside,observe_data[:,1:2]),axis=0)"
   ]
  },
  {
   "cell_type": "code",
   "execution_count": null,
   "id": "3fa29573",
   "metadata": {
    "ExecuteTime": {
     "end_time": "2024-11-05T10:03:38.063680Z",
     "start_time": "2024-11-05T10:03:38.058900Z"
    }
   },
   "outputs": [],
   "source": [
    "Theta_list = np.zeros_like(observe_u.cpu().detach().numpy())\n",
    "Theta_list = numpy_to_tensor(Theta_list, var_name=\"Theta_list\", value_range_dim = True, to_torch = True, to_cuda = True, requires_grad = True)"
   ]
  },
  {
   "cell_type": "code",
   "execution_count": 17,
   "id": "8a22b3f0",
   "metadata": {
    "ExecuteTime": {
     "end_time": "2024-11-05T10:03:38.070012Z",
     "start_time": "2024-11-05T10:03:38.066101Z"
    }
   },
   "outputs": [],
   "source": [
    "C1_id = id(C1)\n",
    "Theta_list_id = id(Theta_list)\n",
    "\n",
    "optimizer_error = optim.Adam([Theta_list], lr=0.0001,betas=(0.9, 0.999), eps=1e-08, weight_decay=0, amsgrad=False)    "
   ]
  },
  {
   "cell_type": "code",
   "execution_count": 18,
   "id": "ccb57321",
   "metadata": {
    "ExecuteTime": {
     "end_time": "2024-11-05T10:03:38.077935Z",
     "start_time": "2024-11-05T10:03:38.073167Z"
    }
   },
   "outputs": [],
   "source": [
    "def train_optimizer1_error_correction(PINNs,C,Theta_list_p):\n",
    "    \n",
    "    for param in PINNs.parameters():\n",
    "        param.requires_grad = True\n",
    "    \n",
    "    C.requires_grad = True\n",
    "    \n",
    "    Theta_list_p.requires_grad = False"
   ]
  },
  {
   "cell_type": "code",
   "execution_count": 19,
   "id": "abc115e8",
   "metadata": {
    "ExecuteTime": {
     "end_time": "2024-11-05T10:03:38.085251Z",
     "start_time": "2024-11-05T10:03:38.080765Z"
    }
   },
   "outputs": [],
   "source": [
    "def train_optimizer2_error_correction(PINNs,C,Theta_list_p):\n",
    "    \n",
    "    for param in PINNs.parameters():\n",
    "        param.requires_grad = False\n",
    "    \n",
    "    C.requires_grad = False\n",
    "    \n",
    "    Theta_list_p.requires_grad = True"
   ]
  },
  {
   "cell_type": "code",
   "execution_count": 20,
   "id": "382f00da",
   "metadata": {
    "ExecuteTime": {
     "end_time": "2024-11-05T10:03:38.092516Z",
     "start_time": "2024-11-05T10:03:38.087756Z"
    }
   },
   "outputs": [],
   "source": [
    "def train_for_error_correction(PINNs,C,Theta_list_input,observe_data_input,observe_u_input):\n",
    "    \n",
    "    train_optimizer2_error_correction(PINNs,C,Theta_list_input)\n",
    "        \n",
    "    E_observation = PINNs(observe_data_input)\n",
    "    E_observation = output_transform(observe_data_input,E_observation) \n",
    "    \n",
    "    loss_observation_refine = torch.mean(torch.square(E_observation+Theta_list_input-observe_u_input)) \n",
    "    \n",
    "    optimizer_error.zero_grad()\n",
    "    loss_observation_refine.backward()\n",
    "    optimizer_error.step()\n",
    "        \n",
    "    train_optimizer1_error_correction(PINNs,C,Theta_list_input)\n",
    "    \n",
    "    return Theta_list_input"
   ]
  },
  {
   "cell_type": "code",
   "execution_count": 21,
   "id": "fb9e9536",
   "metadata": {
    "ExecuteTime": {
     "end_time": "2024-11-05T10:03:38.099385Z",
     "start_time": "2024-11-05T10:03:38.094782Z"
    }
   },
   "outputs": [],
   "source": [
    "def flatten_line(data):\n",
    "    for i in range(1, len(data)):\n",
    "        if data[i] > data[i - 1]:\n",
    "            data[i] = data[i - 1]\n",
    "    return data"
   ]
  },
  {
   "cell_type": "code",
   "execution_count": 22,
   "id": "838d054d",
   "metadata": {
    "ExecuteTime": {
     "end_time": "2024-11-05T10:03:38.112619Z",
     "start_time": "2024-11-05T10:03:38.102018Z"
    }
   },
   "outputs": [],
   "source": [
    "import copy\n",
    "def training_recall(PINNs, C, it_iter, loss_f_for_T_1_best, best_PINNs_state, \n",
    "                    loss_all_1, loss_f_1, loss_f_for_collocation_1, \n",
    "                    loss_f_for_T_1, loss_f_excapt_T_1, loss_T_1, \n",
    "                    loss_T_clear_1, loss_T_1_test_data,loss_T_EC_1, test_loss_1, \n",
    "                    C1_list, optimizer1):\n",
    "\n",
    "    loss_f_for_T_1_smooth = flatten_line(loss_f_for_T_1.copy())\n",
    "    current_min_index = loss_f_for_T_1_smooth.index(min(loss_f_for_T_1_smooth))\n",
    "    current_min = min(loss_f_for_T_1_smooth)\n",
    "\n",
    "    if best_PINNs_state is None or current_min < best_PINNs_state['min_loss']:\n",
    "        best_PINNs_state = {\n",
    "            'model_state': copy.deepcopy(PINNs.state_dict()),\n",
    "            'C_state': C.clone().detach(),\n",
    "            'optimizer_state': copy.deepcopy(optimizer1.state_dict()),\n",
    "            'it': it_iter,\n",
    "            'min_loss': current_min\n",
    "        }\n",
    "\n",
    "    if len(loss_f_for_T_1_smooth) - current_min_index > 500:\n",
    "        print('Restoring best model from iteration:', best_PINNs_state['it'])\n",
    "        PINNs.load_state_dict(best_PINNs_state['model_state'])\n",
    "        \n",
    "        C_value = best_PINNs_state['C_state']\n",
    "        with torch.no_grad(): \n",
    "            C.copy_(C_value)  \n",
    "\n",
    "        optimizer1.load_state_dict(best_PINNs_state['optimizer_state'])\n",
    "        \n",
    "        recall_it = it_iter  \n",
    "        it_iter = best_PINNs_state['it']  \n",
    "\n",
    "        loss_all_1 = loss_all_1[:it_iter+1]\n",
    "        loss_f_1 = loss_f_1[:it_iter+1]\n",
    "        loss_f_for_collocation_1 = loss_f_for_collocation_1[:it_iter+1]\n",
    "        loss_f_for_T_1 = loss_f_for_T_1[:it_iter+1]\n",
    "        loss_f_excapt_T_1 = loss_f_excapt_T_1[:it_iter+1]\n",
    "        loss_T_1 = loss_T_1[:it_iter+1]\n",
    "        loss_T_clear_1 = loss_T_clear_1[:it_iter+1]\n",
    "        loss_T_1_test_data = loss_T_1_test_data[:it_iter+1]\n",
    "        test_loss_1 = test_loss_1[:it_iter+1]\n",
    "        C1_list = C1_list[:it_iter+1]\n",
    "        loss_f_for_T_1_best = True\n",
    "    \n",
    "    return (PINNs, C, it_iter, loss_f_for_T_1_best, best_PINNs_state, \n",
    "            loss_all_1, loss_f_1, loss_f_for_collocation_1, loss_f_for_T_1, \n",
    "            loss_f_excapt_T_1, loss_T_1, loss_T_clear_1, loss_T_1_test_data,loss_T_EC_1, \n",
    "            test_loss_1, C1_list,optimizer1)"
   ]
  },
  {
   "cell_type": "code",
   "execution_count": 23,
   "id": "cd1c2711",
   "metadata": {
    "ExecuteTime": {
     "end_time": "2024-11-05T10:03:38.132141Z",
     "start_time": "2024-11-05T10:03:38.115426Z"
    }
   },
   "outputs": [],
   "source": [
    "import numpy as np\n",
    "\n",
    "class AdaptiveChangeLROnPlateau:\n",
    "    def __init__(self, optimizer, patience_base=10, threshold_ratio = 1e-6, factor_down=0.1, patience_down=10, cooldown_down = 5, factor_up=1.1, patience_up=10, cooldown_up = 5, min_lr=0, max_lr=1, eps=1e-8):\n",
    "        self.optimizer = optimizer\n",
    "        self.patience_base = patience_base\n",
    "        self.factor_down = factor_down\n",
    "        self.patience_down = patience_down\n",
    "        self.cooldown_down = cooldown_down\n",
    "        self.factor_up = factor_up\n",
    "        self.patience_up = patience_up\n",
    "        self.cooldown_up = cooldown_up\n",
    "        \n",
    "        self.threshold_ratio = threshold_ratio\n",
    "        self.min_lr = min_lr\n",
    "        self.max_lr = max_lr\n",
    "        self.eps = eps\n",
    "        self.cooldown_counter = 0\n",
    "        \n",
    "        self.best_metrics = None\n",
    "        self.best_base_loss = None\n",
    "        \n",
    "        self.num_bad_epochs_base = 0\n",
    "        self.num_bad_epochs_up = 0\n",
    "        self.num_bad_epochs_down = 0\n",
    "        self.renew_iter = 0\n",
    "        \n",
    "    def step(self, loss_f_for_T_1_input, loss_f_for_collocation_1_input, to_iter):\n",
    "        \n",
    "        loss_f_for_T_1_input = np.array(loss_f_for_T_1_input[self.renew_iter:])\n",
    "        loss_f_for_collocation_1_input =  np.array(loss_f_for_collocation_1_input[self.renew_iter:])\n",
    "        \n",
    "        metrics = (loss_f_for_T_1_input)[-1]-flatten_line(loss_f_for_collocation_1_input)[-1] \n",
    "        base_loss = flatten_line(loss_f_for_T_1_input)[-1]    \n",
    "        \n",
    "        # Performance improvement logic\n",
    "        if (self.best_metrics is not None) and (self.best_base_loss is not None):\n",
    "\n",
    "            if base_loss == self.best_base_loss:\n",
    "                self.num_bad_epochs_base += 1\n",
    "                \n",
    "                if self.num_bad_epochs_base > self.patience_base:\n",
    "                    self.num_bad_epochs_base = 0\n",
    "                    self.num_bad_epochs_up = 0\n",
    "                    self.num_bad_epochs_down = 0\n",
    "                    self.renew_iter = to_iter\n",
    "                    \n",
    "                    for param_group in self.optimizer.param_groups:\n",
    "                        param_group['lr'] = self.max_lr\n",
    "\n",
    "                    self._adjust_C_lr(self.factor_down**2, \"down\")\n",
    "\n",
    "            if metrics  >=  self.best_metrics + self.threshold_ratio:\n",
    "                self.num_bad_epochs_up += 1\n",
    "                \n",
    "                if self.num_bad_epochs_up > self.patience_up:\n",
    "                    if self.cooldown_counter > 0:\n",
    "                        self.cooldown_counter -= 1\n",
    "                    else:\n",
    "                        self._adjust_lr(self.factor_up, \"up\")\n",
    "                        \n",
    "                        self.cooldown_counter = self.cooldown_up\n",
    "                        self.num_bad_epochs_base = 0\n",
    "                        self.num_bad_epochs_up = 0\n",
    "                        self.num_bad_epochs_down = 0\n",
    "                        \n",
    "            elif metrics  < self.best_metrics - self.threshold_ratio:\n",
    "                self.num_bad_epochs_down += 1\n",
    "                \n",
    "                if self.num_bad_epochs_down > self.patience_down:\n",
    "                    if self.cooldown_counter > 0:\n",
    "                        self.cooldown_counter -= 1\n",
    "                    else:\n",
    "                        self._adjust_lr(self.factor_down, \"down\")\n",
    "                        \n",
    "                        self.cooldown_counter = self.cooldown_down\n",
    "                        self.num_bad_epochs_base = 0\n",
    "                        self.num_bad_epochs_up = 0\n",
    "                        self.num_bad_epochs_down = 0\n",
    "\n",
    "        self.best_metrics = metrics\n",
    "        self.best_base_loss = base_loss\n",
    "        \n",
    "    def _adjust_lr(self, factor, direction):\n",
    "        \n",
    "        for param_group in self.optimizer.param_groups:\n",
    "            old_lr = param_group['lr']\n",
    "            \n",
    "            if old_lr == 0:\n",
    "                old_lr = self.min_lr\n",
    "                \n",
    "            if direction == \"down\":\n",
    "                new_lr = old_lr * factor\n",
    "                if new_lr<self.min_lr:\n",
    "                    new_lr = 0\n",
    "            else:\n",
    "                new_lr = min(old_lr * factor, self.max_lr)\n",
    "                \n",
    "            param_group['lr'] = new_lr\n",
    "\n",
    "    def _adjust_C_lr(self, factor, direction):\n",
    "        \n",
    "        for param_group in optimizer1.param_groups:\n",
    "            if any(id(param) == C1_id for param in param_group['params']):\n",
    "                old_lr = param_group['lr']\n",
    "\n",
    "                if old_lr == 0:\n",
    "                    old_lr = self.min_lr\n",
    "\n",
    "                if direction == \"down\":\n",
    "                    new_lr = old_lr * factor\n",
    "    \n",
    "                    if new_lr<=self.min_lr:\n",
    "                        new_lr = 0\n",
    "\n",
    "                param_group['lr'] = new_lr  "
   ]
  },
  {
   "cell_type": "code",
   "execution_count": 24,
   "id": "6668848c",
   "metadata": {
    "ExecuteTime": {
     "end_time": "2024-11-05T10:03:38.138880Z",
     "start_time": "2024-11-05T10:03:38.134683Z"
    }
   },
   "outputs": [],
   "source": [
    "scheduler = AdaptiveChangeLROnPlateau(optimizer_error, patience_base=100, threshold_ratio = 1e-6,\n",
    "                                      factor_down=0.1, patience_down=50, cooldown_down = 0, \n",
    "                                      factor_up=10, patience_up=50, cooldown_up = 0,\n",
    "                                      min_lr=1e-8, max_lr=1e-4, eps=1e-12)"
   ]
  },
  {
   "cell_type": "code",
   "execution_count": null,
   "id": "79a23a2c",
   "metadata": {
    "ExecuteTime": {
     "end_time": "2024-11-05T10:20:37.448239Z",
     "start_time": "2024-11-05T10:03:38.141802Z"
    },
    "scrolled": true
   },
   "outputs": [],
   "source": [
    "############## Record list ###############\n",
    "loss_all_1 = []\n",
    "loss_f_1 = []\n",
    "loss_f_for_collocation_1 = []\n",
    "loss_f_for_T_1 = []\n",
    "loss_f_excapt_T_1 = []\n",
    "loss_T_1 = []\n",
    "loss_T_clear_1 = []\n",
    "loss_T_1_test_data = []\n",
    "loss_T_EC_1 = []\n",
    "test_loss_1 = []\n",
    "C1_list = []\n",
    "############## Record list ###############\n",
    "\n",
    "nIter1 = 20000\n",
    "it = 0\n",
    "\n",
    "\n",
    "# Initial placeholders for best model and iteration\n",
    "loss_f_for_T_1_best = False\n",
    "best_PINNs_state = None\n",
    "best_it = None\n",
    "recall_it = None\n",
    "\n",
    "while it<nIter1:\n",
    "   \n",
    "    #########loss f #########\n",
    "    loss_f = get_loss_f(x_inside_all,t_inside_all,PINNs1,C1, return_sequence='not')\n",
    "    \n",
    "    #########loss f  for collocation data#########\n",
    "    loss_f_for_collocation = get_loss_f(x_inside,t_inside,PINNs1,C1,return_sequence='not')\n",
    "    #########loss f  for observation data#########\n",
    "    loss_f_for_T = get_loss_f(observe_data_x_inside,observe_data_t_inside,PINNs1,C1,return_sequence='not')\n",
    "    #########loss f  excapt observation data#########\n",
    "    loss_f_excapt_T = get_loss_f(test_data_x_inside,test_data_t_inside,PINNs1,C1, return_sequence='not')\n",
    "    \n",
    "    #########loss T observation#########        \n",
    "    E_observation = PINNs1(observe_data) \n",
    "    E_observation = output_transform(observe_data,E_observation) \n",
    "    \n",
    "    if loss_f_for_T_1_best:\n",
    "        loss_observation = torch.mean(torch.square(E_observation+Theta_list-observe_u)) \n",
    "    else:\n",
    "        loss_observation = torch.mean(torch.square(E_observation-observe_u))            \n",
    "    \n",
    "    #########loss EC######### \n",
    "    loss_EC = torch.mean(torch.square(Theta_list-noise_u))\n",
    "    \n",
    "    #########loss T noisy observation#########  \n",
    "    loss_observation_noisy = torch.mean(torch.square(E_observation-observe_u)) \n",
    "    \n",
    "    #########loss T clear observation#########        \n",
    "    E_observation_clear = PINNs1(observe_data) \n",
    "    E_observation_clear = output_transform(observe_data,E_observation_clear) \n",
    "    loss_observation_clear = torch.mean(torch.square(E_observation_clear-observe_clear_u))        \n",
    "    \n",
    "    #########loss T excapt observation#########        \n",
    "    E_observation_excapt = PINNs1(test_data) \n",
    "    E_observation_excapt = output_transform(test_data,E_observation_excapt) \n",
    "    loss_observation_excapt = torch.mean(torch.square(E_observation_excapt-test_u)) \n",
    "    \n",
    "    #########loss PI#########\n",
    "    loss = loss_f+10*loss_observation\n",
    "\n",
    "    #########test_loss NRMSE#########\n",
    "    pre_u = PINNs1(test_data)\n",
    "    pre_u = output_transform(test_data,pre_u) \n",
    "    test_loss = relative_l2_torch(pre_u,test_u)\n",
    "    #########test_loss NRMSE#########\n",
    "    \n",
    "    #########Record#########\n",
    "    loss_f_1.append(loss_f.item())\n",
    "    loss_f_for_collocation_1.append(loss_f_for_collocation.item())\n",
    "    loss_f_for_T_1.append(loss_f_for_T.item())\n",
    "    loss_f_excapt_T_1.append(loss_f_excapt_T.item())\n",
    "    C1_list.append(C1.item())   \n",
    "    loss_T_1.append(loss_observation_noisy.item()) \n",
    "    loss_T_clear_1.append(loss_observation_clear.item()) \n",
    "    loss_T_1_test_data.append(loss_observation_excapt.item()) \n",
    "    loss_T_EC_1.append(loss_EC.item()) \n",
    "    test_loss_1.append(test_loss)\n",
    "    #########Record#########\n",
    "    \n",
    "    if it % 1000 == 0:\n",
    "        \n",
    "        print('It:', it, 'train_loss:', loss.item(), 'test_loss:', test_loss)\n",
    "        \n",
    "        for param_group in optimizer_error.param_groups:\n",
    "            if any(id(param) == Theta_list_id for param in param_group['params']):\n",
    "                Theta_list_lr = param_group['lr']\n",
    "                print(f'Current Theta_list learning rate: {Theta_list_lr}')\n",
    "                \n",
    "        for param_group in optimizer1.param_groups:\n",
    "            if any(id(param) == C1_id for param in param_group['params']):\n",
    "                C1_lr = param_group['lr']\n",
    "                print(f'Current C1 learning rate: {C1_lr}')\n",
    "                \n",
    "        print('C1',C1)  \n",
    "        \n",
    "    optimizer1.zero_grad()\n",
    "    loss.backward()\n",
    "    optimizer1.step()\n",
    "\n",
    "    if  not loss_f_for_T_1_best:\n",
    "        if it>3000:\n",
    "            \n",
    "            (PINNs1, C1, it, loss_f_for_T_1_best, best_PINNs_state, \n",
    "             loss_all_1, loss_f_1, loss_f_for_collocation_1, loss_f_for_T_1, \n",
    "             loss_f_excapt_T_1, loss_T_1, loss_T_clear_1, loss_T_1_test_data,loss_T_EC_1, \n",
    "             test_loss_1, C1_list, optimizer1) = training_recall(\n",
    "                 PINNs1, C1, it, loss_f_for_T_1_best, best_PINNs_state, \n",
    "                 loss_all_1, loss_f_1, loss_f_for_collocation_1, \n",
    "                 loss_f_for_T_1, loss_f_excapt_T_1, loss_T_1, loss_T_clear_1, \n",
    "                 loss_T_1_test_data,loss_T_EC_1, test_loss_1, C1_list, optimizer1)\n",
    "            \n",
    "            if loss_f_for_T_1_best:\n",
    "                Theta_list.requires_grad = True\n",
    "                for param_group in optimizer1.param_groups:\n",
    "                    if any(id(param) == C1_id for param in param_group['params']):\n",
    "                        param_group['lr'] = 0.0001  \n",
    "    else:\n",
    "        ############################ Refine L_T ############################   \n",
    "        scheduler.step(loss_f_for_T_1,loss_f_for_collocation_1,it)\n",
    "              \n",
    "        Theta_list = train_for_error_correction(PINNs1,C1,Theta_list,observe_data,observe_u)\n",
    "        ############################ Refine L_T ############################  \n",
    "\n",
    "    it = it + 1   \n",
    "    \n",
    "print('Final:', 'train_loss:', loss.item(), 'test_loss:', test_loss)"
   ]
  },
  {
   "cell_type": "code",
   "execution_count": null,
   "id": "2b023715",
   "metadata": {},
   "outputs": [],
   "source": []
  }
 ],
 "metadata": {
  "kernelspec": {
   "display_name": "GA-PINNs",
   "language": "python",
   "name": "gapings"
  },
  "language_info": {
   "codemirror_mode": {
    "name": "ipython",
    "version": 3
   },
   "file_extension": ".py",
   "mimetype": "text/x-python",
   "name": "python",
   "nbconvert_exporter": "python",
   "pygments_lexer": "ipython3",
   "version": "3.7.12"
  },
  "toc": {
   "base_numbering": 1,
   "nav_menu": {},
   "number_sections": true,
   "sideBar": true,
   "skip_h1_title": false,
   "title_cell": "Table of Contents",
   "title_sidebar": "Contents",
   "toc_cell": false,
   "toc_position": {},
   "toc_section_display": true,
   "toc_window_display": false
  },
  "varInspector": {
   "cols": {
    "lenName": 16,
    "lenType": 16,
    "lenVar": 40
   },
   "kernels_config": {
    "python": {
     "delete_cmd_postfix": "",
     "delete_cmd_prefix": "del ",
     "library": "var_list.py",
     "varRefreshCmd": "print(var_dic_list())"
    },
    "r": {
     "delete_cmd_postfix": ") ",
     "delete_cmd_prefix": "rm(",
     "library": "var_list.r",
     "varRefreshCmd": "cat(var_dic_list()) "
    }
   },
   "types_to_exclude": [
    "module",
    "function",
    "builtin_function_or_method",
    "instance",
    "_Feature"
   ],
   "window_display": false
  }
 },
 "nbformat": 4,
 "nbformat_minor": 5
}
