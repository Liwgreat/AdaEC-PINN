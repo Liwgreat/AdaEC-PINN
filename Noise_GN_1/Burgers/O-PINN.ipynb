{
 "cells": [
  {
   "cell_type": "code",
   "execution_count": 1,
   "id": "0d233c81",
   "metadata": {
    "ExecuteTime": {
     "end_time": "2024-11-05T10:03:30.744334Z",
     "start_time": "2024-11-05T10:03:29.402080Z"
    }
   },
   "outputs": [],
   "source": [
    "import numpy as np\n",
    "import torch\n",
    "from torch import nn, optim, autograd\n",
    "from torch.nn import functional as F\n",
    "from pyDOE import lhs\n",
    "import scipy.io\n",
    "import matplotlib.pyplot as plt\n",
    "import matplotlib as mpl\n",
    "import matplotlib.gridspec as gridspec\n",
    "%matplotlib inline\n",
    "from mpl_toolkits.axes_grid1 import make_axes_locatable\n",
    "\n",
    "from utils_training import *\n",
    "\n",
    "#Paper reproduction\n",
    "torch.manual_seed(1234)\n",
    "torch.cuda.manual_seed(1234)\n",
    "np.random.seed(1234)"
   ]
  },
  {
   "cell_type": "code",
   "execution_count": null,
   "id": "1c3de9ee",
   "metadata": {
    "ExecuteTime": {
     "end_time": "2024-11-05T10:03:34.592778Z",
     "start_time": "2024-11-05T10:03:30.749099Z"
    }
   },
   "outputs": [],
   "source": [
    "N_train = 10000\n",
    "N_bound = 200\n",
    "\n",
    "# x,t\n",
    "la = np.array([1,1])\n",
    "lb = np.array([-1,0])\n",
    "\n",
    "traindata = lb+(la-lb)*lhs(2,N_train)\n",
    "x_inside = traindata[:,0:1]\n",
    "t_inside = traindata[:,1:2]\n",
    "\n",
    "x_inside = numpy_to_tensor(x_inside, var_name=\"x_inside\", value_range_dim = True, to_torch = True, to_cuda = True, requires_grad = True)\n",
    "t_inside = numpy_to_tensor(t_inside, var_name=\"t_inside\", value_range_dim = True, to_torch = True, to_cuda = True, requires_grad = True)"
   ]
  },
  {
   "cell_type": "code",
   "execution_count": 3,
   "id": "87612ea9",
   "metadata": {
    "ExecuteTime": {
     "end_time": "2024-11-05T10:03:34.602745Z",
     "start_time": "2024-11-05T10:03:34.596367Z"
    }
   },
   "outputs": [],
   "source": [
    "import scipy.io\n",
    "data = scipy.io.loadmat('./burgers_shock.mat')\n",
    "t_exact = data['t'].flatten()[:,None]\n",
    "x_exact = data['x'].flatten()[:,None]\n",
    "Exact_u = np.real(data['usol'])"
   ]
  },
  {
   "cell_type": "code",
   "execution_count": null,
   "id": "bf68fd32",
   "metadata": {
    "ExecuteTime": {
     "end_time": "2024-11-05T10:03:34.614081Z",
     "start_time": "2024-11-05T10:03:34.608267Z"
    }
   },
   "outputs": [],
   "source": [
    "print('t:',t_exact.shape)\n",
    "print('x:',x_exact.shape)\n",
    "print('Exact_u:',Exact_u.shape)"
   ]
  },
  {
   "cell_type": "code",
   "execution_count": null,
   "id": "01ac2e99",
   "metadata": {
    "ExecuteTime": {
     "end_time": "2024-11-05T10:03:34.621086Z",
     "start_time": "2024-11-05T10:03:34.616354Z"
    }
   },
   "outputs": [],
   "source": [
    "T_exact, X_exact = np.meshgrid(t_exact,x_exact)\n",
    "print('T_exact:',T_exact.shape)\n",
    "print('X_exact:',X_exact.shape)"
   ]
  },
  {
   "cell_type": "code",
   "execution_count": 6,
   "id": "068533e7",
   "metadata": {
    "ExecuteTime": {
     "end_time": "2024-11-05T10:03:34.628948Z",
     "start_time": "2024-11-05T10:03:34.624009Z"
    }
   },
   "outputs": [],
   "source": [
    "T_exact_flatten = T_exact.flatten()[:,None]\n",
    "X_exact_flatten = X_exact.flatten()[:,None]\n",
    "data_star = np.hstack((X_exact_flatten,T_exact_flatten))\n",
    "u_star = Exact_u.flatten()[:,None]  "
   ]
  },
  {
   "cell_type": "code",
   "execution_count": null,
   "id": "d5b00047",
   "metadata": {
    "ExecuteTime": {
     "end_time": "2024-11-05T10:03:34.921927Z",
     "start_time": "2024-11-05T10:03:34.631314Z"
    }
   },
   "outputs": [],
   "source": [
    "fig, ax1 = plt.subplots(1, 1, figsize=(6, 2))\n",
    "\n",
    "cmap = plt.get_cmap('jet')  \n",
    "heatmap1 = ax1.imshow(Exact_u, interpolation='nearest', cmap='rainbow',  extent=[0, 1, -1, 1], origin='lower', aspect='auto')\n",
    "ax1.set_title('u', fontsize=15)\n",
    "ax1.set_xlabel(r'$t$', fontsize=15)\n",
    "ax1.set_ylabel(r'$x$', fontsize=15)\n",
    "\n",
    "# Add a color bar\n",
    "cbar = fig.colorbar(heatmap1, ax=ax1, fraction=0.15, pad=0.04)\n",
    "cbar.set_label('Value', fontsize=12)\n",
    "\n",
    "plt.show()"
   ]
  },
  {
   "cell_type": "code",
   "execution_count": null,
   "id": "753a072f",
   "metadata": {
    "ExecuteTime": {
     "end_time": "2024-11-05T10:03:34.934660Z",
     "start_time": "2024-11-05T10:03:34.924829Z"
    }
   },
   "outputs": [],
   "source": [
    "random_seed = 1234\n",
    "np.random.seed(random_seed)\n",
    "number_observe_data = 100\n",
    "\n",
    "index_t = (lhs(1,number_observe_data))*len(t_exact)\n",
    "index_t = np.floor(index_t).reshape(number_observe_data,).astype(int)\n",
    "observe_t = t_exact[index_t]\n",
    "\n",
    "index_x = (lhs(1,number_observe_data))*len(x_exact)\n",
    "index_x = np.floor(index_x).reshape(number_observe_data,).astype(int)\n",
    "observe_x = x_exact[index_x]\n",
    "\n",
    "observe_data = np.hstack((observe_x,observe_t))\n",
    "observe_clear_u = Exact_u[index_x,index_t].reshape(-1,1)\n",
    "\n",
    "############# N(0,0.1^2) #############\n",
    "noise_nu = 0\n",
    "noise_std = 0.1\n",
    "noise_u = np.random.normal(loc=noise_nu, scale=noise_std, size=observe_clear_u.shape)\n",
    "observe_u = observe_clear_u + noise_u\n",
    "############# N(0,0.1^2) #############\n",
    "\n",
    "observe_data = numpy_to_tensor(observe_data, var_name=\"observe_data\", value_range_dim = True, to_torch = True, to_cuda = True, requires_grad = True)\n",
    "observe_clear_u = numpy_to_tensor(observe_clear_u, var_name=\"observe_clear_u\", value_range_dim = True, to_torch = True, to_cuda = True, requires_grad = True)\n",
    "observe_u = numpy_to_tensor(observe_u, var_name=\"observe_u\", value_range_dim = True, to_torch = True, to_cuda = True, requires_grad = True)\n",
    "print('J:',len(observe_u))\n",
    "\n",
    "observe_data_x_inside = observe_data[:,0:1]\n",
    "observe_data_t_inside = observe_data[:,1:2]"
   ]
  },
  {
   "cell_type": "code",
   "execution_count": null,
   "id": "e44a01bc",
   "metadata": {
    "ExecuteTime": {
     "end_time": "2024-11-05T10:03:34.953790Z",
     "start_time": "2024-11-05T10:03:34.936973Z"
    }
   },
   "outputs": [],
   "source": [
    "np.random.seed(5678)\n",
    "n_test_data = 10000\n",
    "\n",
    "index_test_data = (lhs(1,n_test_data))*len(data_star)\n",
    "index_test_data = np.floor(index_test_data).reshape(n_test_data,).astype(int)\n",
    "\n",
    "index_t = (lhs(1,n_test_data))*len(t_exact)\n",
    "index_t = np.floor(index_t).reshape(n_test_data,).astype(int)\n",
    "test_data_t = t_exact[index_t]\n",
    "\n",
    "index_x = (lhs(1,n_test_data))*len(x_exact)\n",
    "index_x = np.floor(index_x).reshape(n_test_data,).astype(int)\n",
    "test_data_x = x_exact[index_x]\n",
    "\n",
    "test_data = np.hstack((test_data_x,test_data_t))\n",
    "test_u = Exact_u[index_x,index_t].reshape(-1,1)\n",
    "\n",
    "test_data = numpy_to_tensor(test_data, var_name=\"test_data\", value_range_dim = True, to_torch = True, to_cuda = True, requires_grad = True)\n",
    "test_u = numpy_to_tensor(test_u, var_name=\"test_u\", value_range_dim = True, to_torch = True, to_cuda = True, requires_grad = True)\n",
    "\n",
    "test_data_x_inside = test_data[:,0:1]\n",
    "test_data_t_inside = test_data[:,1:2]"
   ]
  },
  {
   "cell_type": "code",
   "execution_count": 10,
   "id": "a48c7be7",
   "metadata": {
    "ExecuteTime": {
     "end_time": "2024-11-05T10:03:34.962757Z",
     "start_time": "2024-11-05T10:03:34.958341Z"
    }
   },
   "outputs": [],
   "source": [
    "def output_transform(data_input, u_input):\n",
    "    \n",
    "    x_in = data_input[:, 0:1]\n",
    "    t_in = data_input[:, 1:2]\n",
    "\n",
    "    return (1 - x_in) * (1 + x_in) * (1 - torch.exp(-t_in)) * u_input - torch.sin(np.pi * x_in)"
   ]
  },
  {
   "cell_type": "code",
   "execution_count": 11,
   "id": "ad588d13",
   "metadata": {
    "ExecuteTime": {
     "end_time": "2024-11-05T10:03:34.969033Z",
     "start_time": "2024-11-05T10:03:34.965526Z"
    }
   },
   "outputs": [],
   "source": [
    "C1 = torch.tensor(0.5, requires_grad=True)"
   ]
  },
  {
   "cell_type": "code",
   "execution_count": 12,
   "id": "884a6a28",
   "metadata": {
    "ExecuteTime": {
     "end_time": "2024-11-05T10:03:34.977072Z",
     "start_time": "2024-11-05T10:03:34.971489Z"
    }
   },
   "outputs": [],
   "source": [
    "def get_loss_f(x_grad,t_grad,PINNs,C,return_sequence='not'):\n",
    "    \n",
    "    ########### loss f  ###########\n",
    "    E_inside = PINNs(torch.cat((x_grad,t_grad),1)) \n",
    "    E_inside = output_transform(torch.cat((x_grad,t_grad),1),E_inside) \n",
    "    \n",
    "    E_x = compute_higher_order_derivatives(E_inside, [x_grad])\n",
    "    E_xx = compute_higher_order_derivatives(E_x, [x_grad])\n",
    "    E_t = compute_higher_order_derivatives(E_inside, [t_grad])\n",
    "\n",
    "\n",
    "    if return_sequence=='yes':\n",
    "        return torch.square(E_t+E_inside*E_x-C*(E_xx))\n",
    "    else:\n",
    "        return torch.mean(torch.square(E_t+E_inside*E_x-C*(E_xx)))"
   ]
  },
  {
   "cell_type": "code",
   "execution_count": 13,
   "id": "0ee282ae",
   "metadata": {
    "ExecuteTime": {
     "end_time": "2024-11-05T10:03:34.983336Z",
     "start_time": "2024-11-05T10:03:34.979850Z"
    }
   },
   "outputs": [],
   "source": [
    "#Paper reproduction\n",
    "torch.manual_seed(1234)\n",
    "torch.cuda.manual_seed(1234)\n",
    "np.random.seed(1234)"
   ]
  },
  {
   "cell_type": "code",
   "execution_count": 14,
   "id": "e539e23e",
   "metadata": {
    "ExecuteTime": {
     "end_time": "2024-11-05T10:03:34.995121Z",
     "start_time": "2024-11-05T10:03:34.985807Z"
    }
   },
   "outputs": [],
   "source": [
    "torch.manual_seed(1234)\n",
    "torch.cuda.manual_seed(1234)\n",
    "np.random.seed(1234)\n",
    "\n",
    "net_settings_for_PINNs1 = NetSetting(input_dims=2, hidden_neurons_list=[20]*8, \n",
    "                                     output_dims=1, hidden_activation='tanh', \n",
    "                                     output_activation=None, initializer_method='xavier')\n",
    "\n",
    "PINNs1 = get_mlp_pinn(net_settings_for_PINNs1)\n",
    "PINNs1.cuda()  \n",
    "\n",
    "initialize_weights(PINNs1, net_settings_for_PINNs1.initializer_method)\n",
    "   \n",
    "optimizer1 = optim.Adam(PINNs1.parameters(), lr=0.001,betas=(0.9, 0.999), eps=1e-08, weight_decay=0, amsgrad=False)    \n",
    "optimizer1.add_param_group({'params': [C1], 'lr': 0.001})"
   ]
  },
  {
   "cell_type": "code",
   "execution_count": 15,
   "id": "d5de6f4a",
   "metadata": {
    "ExecuteTime": {
     "end_time": "2024-11-05T10:03:35.001703Z",
     "start_time": "2024-11-05T10:03:34.997396Z"
    }
   },
   "outputs": [],
   "source": [
    "x_inside_all = torch.cat((x_inside,observe_data[:,0:1]),axis=0)\n",
    "t_inside_all = torch.cat((t_inside,observe_data[:,1:2]),axis=0)"
   ]
  },
  {
   "cell_type": "code",
   "execution_count": null,
   "id": "e1bb14ac",
   "metadata": {
    "ExecuteTime": {
     "end_time": "2024-11-05T10:18:21.879383Z",
     "start_time": "2024-11-05T10:03:35.004056Z"
    },
    "scrolled": false
   },
   "outputs": [],
   "source": [
    "############## Record list ###############\n",
    "loss_all_1 = []\n",
    "loss_f_1 = []\n",
    "loss_f_for_collocation_1 = []\n",
    "loss_f_for_T_1 = []\n",
    "loss_f_excapt_T_1 = []\n",
    "loss_T_1 = []\n",
    "loss_T_clear_1 = []\n",
    "loss_T_1_test_data = []\n",
    "test_loss_1 = []\n",
    "C1_list = []\n",
    "############## Record list ###############\n",
    "\n",
    "\n",
    "# C1 = torch.tensor(0.01/np.pi, requires_grad=False)\n",
    "nIter1 = 20000\n",
    "it = 0\n",
    "\n",
    "while it<nIter1:\n",
    "   \n",
    "    #########loss f #########\n",
    "    loss_f = get_loss_f(x_inside_all,t_inside_all,PINNs1,C1, return_sequence='not')\n",
    "    \n",
    "    #########loss f  for collocation data#########\n",
    "    loss_f_for_collocation = get_loss_f(x_inside,t_inside,PINNs1,C1,return_sequence='not')\n",
    "    #########loss f  for observation data#########\n",
    "    loss_f_for_T = get_loss_f(observe_data_x_inside,observe_data_t_inside,PINNs1,C1,return_sequence='not')\n",
    "    #########loss f  excapt observation data#########\n",
    "    loss_f_excapt_T = get_loss_f(test_data_x_inside,test_data_t_inside,PINNs1,C1, return_sequence='not')\n",
    "    \n",
    "    #########loss T observation#########        \n",
    "    E_observation = PINNs1(observe_data) \n",
    "    E_observation = output_transform(observe_data,E_observation) \n",
    "    loss_observation = torch.mean(torch.square(E_observation-observe_u))            \n",
    "    \n",
    "    #########loss T noisy observation#########  \n",
    "    loss_observation_noisy = torch.mean(torch.square(E_observation-observe_u)) \n",
    "    \n",
    "    #########loss T clear observation#########        \n",
    "    E_observation_clear = PINNs1(observe_data) \n",
    "    E_observation_clear = output_transform(observe_data,E_observation_clear) \n",
    "    loss_observation_clear = torch.mean(torch.square(E_observation_clear-observe_clear_u))        \n",
    "    \n",
    "    #########loss T excapt observation#########        \n",
    "    E_observation_excapt = PINNs1(test_data) \n",
    "    E_observation_excapt = output_transform(test_data,E_observation_excapt) \n",
    "    loss_observation_excapt = torch.mean(torch.square(E_observation_excapt-test_u)) \n",
    "    \n",
    "    #########loss PI#########\n",
    "    loss = loss_f+10*loss_observation\n",
    "\n",
    "    #########test_loss NRMSE#########\n",
    "    pre_u = PINNs1(test_data)\n",
    "    pre_u = output_transform(test_data,pre_u) \n",
    "    test_loss = relative_l2_torch(pre_u,test_u)\n",
    "    #########test_loss NRMSE#########\n",
    "    \n",
    "    #########Record#########\n",
    "    loss_f_1.append(loss_f.item())\n",
    "    loss_f_for_collocation_1.append(loss_f_for_collocation.item())\n",
    "    loss_f_for_T_1.append(loss_f_for_T.item())\n",
    "    loss_f_excapt_T_1.append(loss_f_excapt_T.item())\n",
    "    C1_list.append(C1.item())   \n",
    "    loss_T_1.append(loss_observation_noisy.item()) \n",
    "    loss_T_clear_1.append(loss_observation_clear.item()) \n",
    "    loss_T_1_test_data.append(loss_observation_excapt.item()) \n",
    "    test_loss_1.append(test_loss)\n",
    "    #########Record#########\n",
    "        \n",
    "    optimizer1.zero_grad()\n",
    "    loss.backward()\n",
    "    optimizer1.step()\n",
    "       \n",
    "    if it % 1000 == 0:\n",
    "\n",
    "        print('It:', it, 'train_loss:', loss.item(), 'test_loss:', test_loss)\n",
    "        print('C1',C1)   \n",
    "        \n",
    "        \n",
    "    it = it + 1        \n",
    "\n",
    "print('Final:', 'train_loss:', loss.item(), 'test_loss:', test_loss)"
   ]
  },
  {
   "cell_type": "code",
   "execution_count": null,
   "id": "90aaa97c",
   "metadata": {},
   "outputs": [],
   "source": []
  }
 ],
 "metadata": {
  "kernelspec": {
   "display_name": "GA-PINNs",
   "language": "python",
   "name": "gapings"
  },
  "language_info": {
   "codemirror_mode": {
    "name": "ipython",
    "version": 3
   },
   "file_extension": ".py",
   "mimetype": "text/x-python",
   "name": "python",
   "nbconvert_exporter": "python",
   "pygments_lexer": "ipython3",
   "version": "3.7.12"
  },
  "toc": {
   "base_numbering": 1,
   "nav_menu": {},
   "number_sections": true,
   "sideBar": true,
   "skip_h1_title": false,
   "title_cell": "Table of Contents",
   "title_sidebar": "Contents",
   "toc_cell": false,
   "toc_position": {},
   "toc_section_display": true,
   "toc_window_display": false
  },
  "varInspector": {
   "cols": {
    "lenName": 16,
    "lenType": 16,
    "lenVar": 40
   },
   "kernels_config": {
    "python": {
     "delete_cmd_postfix": "",
     "delete_cmd_prefix": "del ",
     "library": "var_list.py",
     "varRefreshCmd": "print(var_dic_list())"
    },
    "r": {
     "delete_cmd_postfix": ") ",
     "delete_cmd_prefix": "rm(",
     "library": "var_list.r",
     "varRefreshCmd": "cat(var_dic_list()) "
    }
   },
   "types_to_exclude": [
    "module",
    "function",
    "builtin_function_or_method",
    "instance",
    "_Feature"
   ],
   "window_display": false
  }
 },
 "nbformat": 4,
 "nbformat_minor": 5
}
